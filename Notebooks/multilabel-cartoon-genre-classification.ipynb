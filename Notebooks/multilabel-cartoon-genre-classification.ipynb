{
 "cells": [
  {
   "cell_type": "code",
   "execution_count": null,
   "metadata": {
    "_cell_guid": "b1076dfc-b9ad-4769-8c92-a6c4dae69d19",
    "_uuid": "8f2839f25d086af736a60e9eeb907d3b93b6e0e5"
   },
   "outputs": [],
   "source": [
    "# This Python 3 environment comes with many helpful analytics libraries installed\n",
    "# It is defined by the kaggle/python Docker image: https://github.com/kaggle/docker-python\n",
    "# For example, here's several helpful packages to load\n",
    "\n",
    "import numpy as np # linear algebra\n",
    "import pandas as pd # data processing, CSV file I/O (e.g. pd.read_csv)\n",
    "\n",
    "# Input data files are available in the read-only \"../input/\" directory\n",
    "# For example, running this (by clicking run or pressing Shift+Enter) will list all files under the input directory\n",
    "\n",
    "import os\n",
    "for dirname, _, filenames in os.walk('/kaggle/input'):\n",
    "    for filename in filenames:\n",
    "        print(os.path.join(dirname, filename))\n",
    "\n",
    "# You can write up to 20GB to the current directory (/kaggle/working/) that gets preserved as output when you create a version using \"Save & Run All\" \n",
    "# You can also write temporary files to /kaggle/temp/, but they won't be saved outside of the current session"
   ]
  },
  {
   "cell_type": "code",
   "execution_count": 545,
   "metadata": {
    "execution": {
     "iopub.execute_input": "2023-08-22T15:59:00.341863Z",
     "iopub.status.busy": "2023-08-22T15:59:00.341433Z",
     "iopub.status.idle": "2023-08-22T15:59:00.521761Z",
     "shell.execute_reply": "2023-08-22T15:59:00.520492Z",
     "shell.execute_reply.started": "2023-08-22T15:59:00.341815Z"
    }
   },
   "outputs": [
    {
     "data": {
      "text/html": [
       "<div>\n",
       "<style scoped>\n",
       "    .dataframe tbody tr th:only-of-type {\n",
       "        vertical-align: middle;\n",
       "    }\n",
       "\n",
       "    .dataframe tbody tr th {\n",
       "        vertical-align: top;\n",
       "    }\n",
       "\n",
       "    .dataframe thead th {\n",
       "        text-align: right;\n",
       "    }\n",
       "</style>\n",
       "<table border=\"1\" class=\"dataframe\">\n",
       "  <thead>\n",
       "    <tr style=\"text-align: right;\">\n",
       "      <th></th>\n",
       "      <th>Title</th>\n",
       "      <th>Description</th>\n",
       "      <th>Genre</th>\n",
       "    </tr>\n",
       "  </thead>\n",
       "  <tbody>\n",
       "    <tr>\n",
       "      <th>0</th>\n",
       "      <td>Attack on Titan The Final Season: The Final Chapters</td>\n",
       "      <td>Final part of Attack on Titan The Final Season.</td>\n",
       "      <td>['Action', 'Drama', 'Fantasy', 'Shounen', 'Dark Fantasy', 'Military', 'War', 'Based on a Manga']</td>\n",
       "    </tr>\n",
       "    <tr>\n",
       "      <th>1</th>\n",
       "      <td>Fruits Basket the Final Season</td>\n",
       "      <td>The final arc of Fruits Basket.</td>\n",
       "      <td>['Drama', 'Fantasy', 'Romance', 'Shoujo', 'Animal Transformation', 'Contemporary Fantasy', 'Curse', 'Dysfunctional Families', 'Mental Illness', 'Orphans', 'Zodiac', 'Based on a Manga']</td>\n",
       "    </tr>\n",
       "    <tr>\n",
       "      <th>2</th>\n",
       "      <td>Fullmetal Alchemist: Brotherhood</td>\n",
       "      <td>The foundation of alchemy is based on the law of equivalent exchange; you cannot produce something from nothing. As such, alchemy is bound by one taboo - human transmutation. Four years ago two young brothers, Edward and Alphonse Elric, broke this taboo when they tried to resurrect their dead mother. During the process Al's body disintegrated and Ed lost his leg. In a desperate attempt to prevent his brother from disappearing completely, Ed sacrificed one of his arms so he could affix Al's soul to a suit of armor. When his missing limbs are replaced by auto mail parts, Ed bears the name of...</td>\n",
       "      <td>['Action', 'Adventure', 'Drama', 'Fantasy', 'Mystery', 'Shounen', 'Conspiracy', 'Death of a Loved One', 'Military', 'Siblings', 'Based on a Manga']</td>\n",
       "    </tr>\n",
       "    <tr>\n",
       "      <th>3</th>\n",
       "      <td>Demon Slayer: Kimetsu no Yaiba - Entertainment District Arc</td>\n",
       "      <td>Tanjiro and his friends accompany the Hashira Tengen Uzui to an entertainment district where Tengen’s female ninja agents were gathering information on a demon before they suddenly disappeared. In order to investigate, Tanjiro and the others disguise themselves as women to sneak in!</td>\n",
       "      <td>['Action', 'Adventure', 'Shounen', 'Demons', 'Historical', 'Martial Arts', 'Orphans', 'Siblings', 'Supernatural', 'Swordplay', 'Based on a Manga']</td>\n",
       "    </tr>\n",
       "    <tr>\n",
       "      <th>4</th>\n",
       "      <td>Bleach: Thousand-Year Blood War</td>\n",
       "      <td>The peace is suddenly broken when warning sirens blare through the Soul Society. Residents there are disappearing without a trace and nobody knows who's behind it. Meanwhile, a dark shadow is also extending itself toward Ichigo and his friends in Karakura Town…</td>\n",
       "      <td>['Action', 'Comedy', 'Drama', 'Shounen', 'Afterlife', 'Ghosts', 'Shinigami', 'Supernatural', 'War', 'Based on a Manga']</td>\n",
       "    </tr>\n",
       "  </tbody>\n",
       "</table>\n",
       "</div>"
      ],
      "text/plain": [
       "                                                         Title  \\\n",
       "0         Attack on Titan The Final Season: The Final Chapters   \n",
       "1                               Fruits Basket the Final Season   \n",
       "2                             Fullmetal Alchemist: Brotherhood   \n",
       "3  Demon Slayer: Kimetsu no Yaiba - Entertainment District Arc   \n",
       "4                              Bleach: Thousand-Year Blood War   \n",
       "\n",
       "                                                                                                                                                                                                                                                                                                                                                                                                                                                                                                                                                                                                               Description  \\\n",
       "0                                                                                                                                                                                                                                                                                                                                                                                                                                                                                                                                                                          Final part of Attack on Titan The Final Season.   \n",
       "1                                                                                                                                                                                                                                                                                                                                                                                                                                                                                                                                                                                          The final arc of Fruits Basket.   \n",
       "2  The foundation of alchemy is based on the law of equivalent exchange; you cannot produce something from nothing. As such, alchemy is bound by one taboo - human transmutation. Four years ago two young brothers, Edward and Alphonse Elric, broke this taboo when they tried to resurrect their dead mother. During the process Al's body disintegrated and Ed lost his leg. In a desperate attempt to prevent his brother from disappearing completely, Ed sacrificed one of his arms so he could affix Al's soul to a suit of armor. When his missing limbs are replaced by auto mail parts, Ed bears the name of...   \n",
       "3                                                                                                                                                                                                                                                                                                                             Tanjiro and his friends accompany the Hashira Tengen Uzui to an entertainment district where Tengen’s female ninja agents were gathering information on a demon before they suddenly disappeared. In order to investigate, Tanjiro and the others disguise themselves as women to sneak in!    \n",
       "4                                                                                                                                                                                                                                                                                                                                                    The peace is suddenly broken when warning sirens blare through the Soul Society. Residents there are disappearing without a trace and nobody knows who's behind it. Meanwhile, a dark shadow is also extending itself toward Ichigo and his friends in Karakura Town…   \n",
       "\n",
       "                                                                                                                                                                                      Genre  \n",
       "0                                                                                          ['Action', 'Drama', 'Fantasy', 'Shounen', 'Dark Fantasy', 'Military', 'War', 'Based on a Manga']  \n",
       "1  ['Drama', 'Fantasy', 'Romance', 'Shoujo', 'Animal Transformation', 'Contemporary Fantasy', 'Curse', 'Dysfunctional Families', 'Mental Illness', 'Orphans', 'Zodiac', 'Based on a Manga']  \n",
       "2                                       ['Action', 'Adventure', 'Drama', 'Fantasy', 'Mystery', 'Shounen', 'Conspiracy', 'Death of a Loved One', 'Military', 'Siblings', 'Based on a Manga']  \n",
       "3                                        ['Action', 'Adventure', 'Shounen', 'Demons', 'Historical', 'Martial Arts', 'Orphans', 'Siblings', 'Supernatural', 'Swordplay', 'Based on a Manga']  \n",
       "4                                                                   ['Action', 'Comedy', 'Drama', 'Shounen', 'Afterlife', 'Ghosts', 'Shinigami', 'Supernatural', 'War', 'Based on a Manga']  "
      ]
     },
     "execution_count": 545,
     "metadata": {},
     "output_type": "execute_result"
    }
   ],
   "source": [
    "df = pd.read_csv(\"/kaggle/input/cartoon-genre-classifer/final_preprocessed_data.csv\")\n",
    "df.head()"
   ]
  },
  {
   "cell_type": "code",
   "execution_count": 546,
   "metadata": {
    "execution": {
     "iopub.execute_input": "2023-08-22T15:59:15.175453Z",
     "iopub.status.busy": "2023-08-22T15:59:15.175039Z",
     "iopub.status.idle": "2023-08-22T15:59:15.188160Z",
     "shell.execute_reply": "2023-08-22T15:59:15.187154Z",
     "shell.execute_reply.started": "2023-08-22T15:59:15.175417Z"
    }
   },
   "outputs": [
    {
     "data": {
      "text/html": [
       "<div>\n",
       "<style scoped>\n",
       "    .dataframe tbody tr th:only-of-type {\n",
       "        vertical-align: middle;\n",
       "    }\n",
       "\n",
       "    .dataframe tbody tr th {\n",
       "        vertical-align: top;\n",
       "    }\n",
       "\n",
       "    .dataframe thead th {\n",
       "        text-align: right;\n",
       "    }\n",
       "</style>\n",
       "<table border=\"1\" class=\"dataframe\">\n",
       "  <thead>\n",
       "    <tr style=\"text-align: right;\">\n",
       "      <th></th>\n",
       "      <th>Title</th>\n",
       "      <th>Description</th>\n",
       "      <th>Genre</th>\n",
       "    </tr>\n",
       "  </thead>\n",
       "  <tbody>\n",
       "    <tr>\n",
       "      <th>0</th>\n",
       "      <td>Attack on Titan The Final Season: The Final Chapters</td>\n",
       "      <td>Final part of Attack on Titan The Final Season.</td>\n",
       "      <td>['Action', 'Drama', 'Fantasy', 'Shounen', 'Dark Fantasy', 'Military', 'War', 'Based on a Manga']</td>\n",
       "    </tr>\n",
       "    <tr>\n",
       "      <th>1</th>\n",
       "      <td>Fruits Basket the Final Season</td>\n",
       "      <td>The final arc of Fruits Basket.</td>\n",
       "      <td>['Drama', 'Fantasy', 'Romance', 'Shoujo', 'Animal Transformation', 'Contemporary Fantasy', 'Curse', 'Dysfunctional Families', 'Mental Illness', 'Orphans', 'Zodiac', 'Based on a Manga']</td>\n",
       "    </tr>\n",
       "    <tr>\n",
       "      <th>2</th>\n",
       "      <td>Fullmetal Alchemist: Brotherhood</td>\n",
       "      <td>The foundation of alchemy is based on the law of equivalent exchange; you cannot produce something from nothing. As such, alchemy is bound by one taboo - human transmutation. Four years ago two young brothers, Edward and Alphonse Elric, broke this taboo when they tried to resurrect their dead mother. During the process Al's body disintegrated and Ed lost his leg. In a desperate attempt to prevent his brother from disappearing completely, Ed sacrificed one of his arms so he could affix Al's soul to a suit of armor. When his missing limbs are replaced by auto mail parts, Ed bears the name of...</td>\n",
       "      <td>['Action', 'Adventure', 'Drama', 'Fantasy', 'Mystery', 'Shounen', 'Conspiracy', 'Death of a Loved One', 'Military', 'Siblings', 'Based on a Manga']</td>\n",
       "    </tr>\n",
       "    <tr>\n",
       "      <th>3</th>\n",
       "      <td>Demon Slayer: Kimetsu no Yaiba - Entertainment District Arc</td>\n",
       "      <td>Tanjiro and his friends accompany the Hashira Tengen Uzui to an entertainment district where Tengen’s female ninja agents were gathering information on a demon before they suddenly disappeared. In order to investigate, Tanjiro and the others disguise themselves as women to sneak in!</td>\n",
       "      <td>['Action', 'Adventure', 'Shounen', 'Demons', 'Historical', 'Martial Arts', 'Orphans', 'Siblings', 'Supernatural', 'Swordplay', 'Based on a Manga']</td>\n",
       "    </tr>\n",
       "    <tr>\n",
       "      <th>4</th>\n",
       "      <td>Bleach: Thousand-Year Blood War</td>\n",
       "      <td>The peace is suddenly broken when warning sirens blare through the Soul Society. Residents there are disappearing without a trace and nobody knows who's behind it. Meanwhile, a dark shadow is also extending itself toward Ichigo and his friends in Karakura Town…</td>\n",
       "      <td>['Action', 'Comedy', 'Drama', 'Shounen', 'Afterlife', 'Ghosts', 'Shinigami', 'Supernatural', 'War', 'Based on a Manga']</td>\n",
       "    </tr>\n",
       "  </tbody>\n",
       "</table>\n",
       "</div>"
      ],
      "text/plain": [
       "                                                         Title  \\\n",
       "0         Attack on Titan The Final Season: The Final Chapters   \n",
       "1                               Fruits Basket the Final Season   \n",
       "2                             Fullmetal Alchemist: Brotherhood   \n",
       "3  Demon Slayer: Kimetsu no Yaiba - Entertainment District Arc   \n",
       "4                              Bleach: Thousand-Year Blood War   \n",
       "\n",
       "                                                                                                                                                                                                                                                                                                                                                                                                                                                                                                                                                                                                               Description  \\\n",
       "0                                                                                                                                                                                                                                                                                                                                                                                                                                                                                                                                                                          Final part of Attack on Titan The Final Season.   \n",
       "1                                                                                                                                                                                                                                                                                                                                                                                                                                                                                                                                                                                          The final arc of Fruits Basket.   \n",
       "2  The foundation of alchemy is based on the law of equivalent exchange; you cannot produce something from nothing. As such, alchemy is bound by one taboo - human transmutation. Four years ago two young brothers, Edward and Alphonse Elric, broke this taboo when they tried to resurrect their dead mother. During the process Al's body disintegrated and Ed lost his leg. In a desperate attempt to prevent his brother from disappearing completely, Ed sacrificed one of his arms so he could affix Al's soul to a suit of armor. When his missing limbs are replaced by auto mail parts, Ed bears the name of...   \n",
       "3                                                                                                                                                                                                                                                                                                                             Tanjiro and his friends accompany the Hashira Tengen Uzui to an entertainment district where Tengen’s female ninja agents were gathering information on a demon before they suddenly disappeared. In order to investigate, Tanjiro and the others disguise themselves as women to sneak in!    \n",
       "4                                                                                                                                                                                                                                                                                                                                                    The peace is suddenly broken when warning sirens blare through the Soul Society. Residents there are disappearing without a trace and nobody knows who's behind it. Meanwhile, a dark shadow is also extending itself toward Ichigo and his friends in Karakura Town…   \n",
       "\n",
       "                                                                                                                                                                                      Genre  \n",
       "0                                                                                          ['Action', 'Drama', 'Fantasy', 'Shounen', 'Dark Fantasy', 'Military', 'War', 'Based on a Manga']  \n",
       "1  ['Drama', 'Fantasy', 'Romance', 'Shoujo', 'Animal Transformation', 'Contemporary Fantasy', 'Curse', 'Dysfunctional Families', 'Mental Illness', 'Orphans', 'Zodiac', 'Based on a Manga']  \n",
       "2                                       ['Action', 'Adventure', 'Drama', 'Fantasy', 'Mystery', 'Shounen', 'Conspiracy', 'Death of a Loved One', 'Military', 'Siblings', 'Based on a Manga']  \n",
       "3                                        ['Action', 'Adventure', 'Shounen', 'Demons', 'Historical', 'Martial Arts', 'Orphans', 'Siblings', 'Supernatural', 'Swordplay', 'Based on a Manga']  \n",
       "4                                                                   ['Action', 'Comedy', 'Drama', 'Shounen', 'Afterlife', 'Ghosts', 'Shinigami', 'Supernatural', 'War', 'Based on a Manga']  "
      ]
     },
     "execution_count": 546,
     "metadata": {},
     "output_type": "execute_result"
    }
   ],
   "source": [
    "df.head()"
   ]
  },
  {
   "cell_type": "code",
   "execution_count": 547,
   "metadata": {
    "execution": {
     "iopub.execute_input": "2023-08-22T15:59:18.880954Z",
     "iopub.status.busy": "2023-08-22T15:59:18.880554Z",
     "iopub.status.idle": "2023-08-22T15:59:18.888407Z",
     "shell.execute_reply": "2023-08-22T15:59:18.887325Z",
     "shell.execute_reply.started": "2023-08-22T15:59:18.880918Z"
    }
   },
   "outputs": [
    {
     "data": {
      "text/plain": [
       "(24337, 3)"
      ]
     },
     "execution_count": 547,
     "metadata": {},
     "output_type": "execute_result"
    }
   ],
   "source": [
    "df.shape"
   ]
  },
  {
   "cell_type": "code",
   "execution_count": 548,
   "metadata": {
    "execution": {
     "iopub.execute_input": "2023-08-22T15:59:20.722069Z",
     "iopub.status.busy": "2023-08-22T15:59:20.721667Z",
     "iopub.status.idle": "2023-08-22T15:59:21.104480Z",
     "shell.execute_reply": "2023-08-22T15:59:21.103230Z",
     "shell.execute_reply.started": "2023-08-22T15:59:20.722036Z"
    }
   },
   "outputs": [
    {
     "data": {
      "text/plain": [
       "(24117, 3)"
      ]
     },
     "execution_count": 548,
     "metadata": {},
     "output_type": "execute_result"
    }
   ],
   "source": [
    "df = df.dropna().reset_index(drop=True)\n",
    "\n",
    "genre_list = []\n",
    "indices_to_drop = []\n",
    "\n",
    "for idx, genres in enumerate(df.Genre.to_list()):\n",
    "  genres_list = eval(genres)\n",
    "  if len(genres_list)>=2:\n",
    "    genre_list.append(genres_list[0])\n",
    "  else:\n",
    "    indices_to_drop.append(idx)\n",
    "\n",
    "df = df.drop(indices_to_drop).reset_index(drop=True)\n",
    "\n",
    "df.shape"
   ]
  },
  {
   "cell_type": "code",
   "execution_count": 549,
   "metadata": {
    "execution": {
     "iopub.execute_input": "2023-08-22T15:59:23.675346Z",
     "iopub.status.busy": "2023-08-22T15:59:23.672641Z",
     "iopub.status.idle": "2023-08-22T15:59:23.725822Z",
     "shell.execute_reply": "2023-08-22T15:59:23.724789Z",
     "shell.execute_reply.started": "2023-08-22T15:59:23.675298Z"
    }
   },
   "outputs": [],
   "source": [
    "df=df.drop_duplicates().reset_index(drop=True)"
   ]
  },
  {
   "cell_type": "code",
   "execution_count": 466,
   "metadata": {
    "execution": {
     "iopub.execute_input": "2023-08-22T15:12:01.203520Z",
     "iopub.status.busy": "2023-08-22T15:12:01.202782Z",
     "iopub.status.idle": "2023-08-22T15:12:01.208448Z",
     "shell.execute_reply": "2023-08-22T15:12:01.207281Z",
     "shell.execute_reply.started": "2023-08-22T15:12:01.203476Z"
    }
   },
   "outputs": [],
   "source": [
    "#pd.set_option('display.max_rows', None)\n"
   ]
  },
  {
   "cell_type": "code",
   "execution_count": 550,
   "metadata": {
    "execution": {
     "iopub.execute_input": "2023-08-22T15:59:29.294367Z",
     "iopub.status.busy": "2023-08-22T15:59:29.293164Z",
     "iopub.status.idle": "2023-08-22T15:59:29.302318Z",
     "shell.execute_reply": "2023-08-22T15:59:29.301281Z",
     "shell.execute_reply.started": "2023-08-22T15:59:29.294320Z"
    }
   },
   "outputs": [
    {
     "data": {
      "text/plain": [
       "(22724, 3)"
      ]
     },
     "execution_count": 550,
     "metadata": {},
     "output_type": "execute_result"
    }
   ],
   "source": [
    "df.shape"
   ]
  },
  {
   "cell_type": "code",
   "execution_count": 486,
   "metadata": {
    "execution": {
     "iopub.execute_input": "2023-08-22T15:13:52.813854Z",
     "iopub.status.busy": "2023-08-22T15:13:52.813006Z",
     "iopub.status.idle": "2023-08-22T15:13:52.827493Z",
     "shell.execute_reply": "2023-08-22T15:13:52.825796Z",
     "shell.execute_reply.started": "2023-08-22T15:13:52.813805Z"
    }
   },
   "outputs": [
    {
     "data": {
      "text/html": [
       "<div>\n",
       "<style scoped>\n",
       "    .dataframe tbody tr th:only-of-type {\n",
       "        vertical-align: middle;\n",
       "    }\n",
       "\n",
       "    .dataframe tbody tr th {\n",
       "        vertical-align: top;\n",
       "    }\n",
       "\n",
       "    .dataframe thead th {\n",
       "        text-align: right;\n",
       "    }\n",
       "</style>\n",
       "<table border=\"1\" class=\"dataframe\">\n",
       "  <thead>\n",
       "    <tr style=\"text-align: right;\">\n",
       "      <th></th>\n",
       "      <th>Title</th>\n",
       "      <th>Description</th>\n",
       "      <th>Genre</th>\n",
       "    </tr>\n",
       "  </thead>\n",
       "  <tbody>\n",
       "    <tr>\n",
       "      <th>22719</th>\n",
       "      <td>Mitsuboshi Colors</td>\n",
       "      <td>The \"Colors\" are three cute little girls who hang out together and say they're protecting the peace of their city. They have lots of fun together, doing stuff like playing games, solving puzzles, and going to the zoo. This anime follows their largely happy daily life.</td>\n",
       "      <td>['Fantasy', 'Comedy']</td>\n",
       "    </tr>\n",
       "    <tr>\n",
       "      <th>22720</th>\n",
       "      <td>Yuusha, Yamemasu</td>\n",
       "      <td>After saving the world, the strongest hero Leo became someone who is not wanted in the peaceful human world. He was too strong. Exiled, he seeks a job at the Demon King's Army, which he had defeated and needs to be rebuilt. The Army had many problems: too much work, financial troubles, etc. Leo starts to make things better using his power. Leo encounters Echidna again, and asks her why she invaded the human world. There was an unexpected story...!</td>\n",
       "      <td>['Adventure', 'Fantasy', 'Comedy', 'Shounen', 'Psychological']</td>\n",
       "    </tr>\n",
       "    <tr>\n",
       "      <th>22721</th>\n",
       "      <td>Zoku Touken Ranbu: Hanamaru</td>\n",
       "      <td>Sequel of Touken Ranbu: Hanamaru.</td>\n",
       "      <td>['Sci-Fi', 'Fantasy', 'Mystery', 'Horror', 'Psychological', 'Thriller']</td>\n",
       "    </tr>\n",
       "    <tr>\n",
       "      <th>22722</th>\n",
       "      <td>Blue Blink</td>\n",
       "      <td>Story of a young boy named Kakeru and his adventures together with a magical blue pony named Blink.</td>\n",
       "      <td>['Ecchi', 'Comedy', 'Shounen', 'School', 'Romance']</td>\n",
       "    </tr>\n",
       "    <tr>\n",
       "      <th>22723</th>\n",
       "      <td>Murenase! Seton Gakuen</td>\n",
       "      <td>Seton Academy, a school full of animals where, thanks to population decline, there are fewer humans than any other creature. Mazama Jin, an animal hater and the only human male in his class, falls in love with Hino Hitomi, the only female human, the moment he lays eyes her. However he soon finds himself entangled with various other creatures after he reluctantly joins the 'pack' of Lanka the wolf, the only other member of her pack.</td>\n",
       "      <td>['Action', 'Game', 'Seinen', 'Harem']</td>\n",
       "    </tr>\n",
       "  </tbody>\n",
       "</table>\n",
       "</div>"
      ],
      "text/plain": [
       "                             Title  \\\n",
       "22719            Mitsuboshi Colors   \n",
       "22720             Yuusha, Yamemasu   \n",
       "22721  Zoku Touken Ranbu: Hanamaru   \n",
       "22722                   Blue Blink   \n",
       "22723       Murenase! Seton Gakuen   \n",
       "\n",
       "                                                                                                                                                                                                                                                                                                                                                                                                                                                               Description  \\\n",
       "22719                                                                                                                                                                                         The \"Colors\" are three cute little girls who hang out together and say they're protecting the peace of their city. They have lots of fun together, doing stuff like playing games, solving puzzles, and going to the zoo. This anime follows their largely happy daily life.   \n",
       "22720  After saving the world, the strongest hero Leo became someone who is not wanted in the peaceful human world. He was too strong. Exiled, he seeks a job at the Demon King's Army, which he had defeated and needs to be rebuilt. The Army had many problems: too much work, financial troubles, etc. Leo starts to make things better using his power. Leo encounters Echidna again, and asks her why she invaded the human world. There was an unexpected story...!   \n",
       "22721                                                                                                                                                                                                                                                                                                                                                                                                                                    Sequel of Touken Ranbu: Hanamaru.   \n",
       "22722                                                                                                                                                                                                                                                                                                                                                                  Story of a young boy named Kakeru and his adventures together with a magical blue pony named Blink.   \n",
       "22723                  Seton Academy, a school full of animals where, thanks to population decline, there are fewer humans than any other creature. Mazama Jin, an animal hater and the only human male in his class, falls in love with Hino Hitomi, the only female human, the moment he lays eyes her. However he soon finds himself entangled with various other creatures after he reluctantly joins the 'pack' of Lanka the wolf, the only other member of her pack.   \n",
       "\n",
       "                                                                         Genre  \n",
       "22719                                                    ['Fantasy', 'Comedy']  \n",
       "22720           ['Adventure', 'Fantasy', 'Comedy', 'Shounen', 'Psychological']  \n",
       "22721  ['Sci-Fi', 'Fantasy', 'Mystery', 'Horror', 'Psychological', 'Thriller']  \n",
       "22722                      ['Ecchi', 'Comedy', 'Shounen', 'School', 'Romance']  \n",
       "22723                                    ['Action', 'Game', 'Seinen', 'Harem']  "
      ]
     },
     "execution_count": 486,
     "metadata": {},
     "output_type": "execute_result"
    }
   ],
   "source": [
    "df.tail()"
   ]
  },
  {
   "cell_type": "code",
   "execution_count": 362,
   "metadata": {
    "execution": {
     "iopub.execute_input": "2023-08-22T14:01:43.228223Z",
     "iopub.status.busy": "2023-08-22T14:01:43.227847Z",
     "iopub.status.idle": "2023-08-22T14:02:01.216648Z",
     "shell.execute_reply": "2023-08-22T14:02:01.215323Z",
     "shell.execute_reply.started": "2023-08-22T14:01:43.228188Z"
    }
   },
   "outputs": [
    {
     "name": "stdout",
     "output_type": "stream",
     "text": [
      "huggingface/tokenizers: The current process just got forked, after parallelism has already been used. Disabling parallelism to avoid deadlocks...\n",
      "To disable this warning, you can either:\n",
      "\t- Avoid using `tokenizers` before the fork if possible\n",
      "\t- Explicitly set the environment variable TOKENIZERS_PARALLELISM=(true | false)\n"
     ]
    }
   ],
   "source": [
    "! pip install -q transformers[sentencepiece] fastbook fastai ohmeow-blurr nbdev"
   ]
  },
  {
   "cell_type": "code",
   "execution_count": 551,
   "metadata": {
    "execution": {
     "iopub.execute_input": "2023-08-22T15:59:43.355349Z",
     "iopub.status.busy": "2023-08-22T15:59:43.354926Z",
     "iopub.status.idle": "2023-08-22T15:59:43.393824Z",
     "shell.execute_reply": "2023-08-22T15:59:43.392677Z",
     "shell.execute_reply.started": "2023-08-22T15:59:43.355314Z"
    }
   },
   "outputs": [
    {
     "data": {
      "text/plain": [
       "0"
      ]
     },
     "execution_count": 551,
     "metadata": {},
     "output_type": "execute_result"
    }
   ],
   "source": [
    "df.duplicated().sum()"
   ]
  },
  {
   "cell_type": "code",
   "execution_count": 552,
   "metadata": {
    "execution": {
     "iopub.execute_input": "2023-08-22T15:59:57.790166Z",
     "iopub.status.busy": "2023-08-22T15:59:57.789119Z",
     "iopub.status.idle": "2023-08-22T15:59:57.801548Z",
     "shell.execute_reply": "2023-08-22T15:59:57.800456Z",
     "shell.execute_reply.started": "2023-08-22T15:59:57.790125Z"
    }
   },
   "outputs": [
    {
     "data": {
      "text/html": [
       "<div>\n",
       "<style scoped>\n",
       "    .dataframe tbody tr th:only-of-type {\n",
       "        vertical-align: middle;\n",
       "    }\n",
       "\n",
       "    .dataframe tbody tr th {\n",
       "        vertical-align: top;\n",
       "    }\n",
       "\n",
       "    .dataframe thead th {\n",
       "        text-align: right;\n",
       "    }\n",
       "</style>\n",
       "<table border=\"1\" class=\"dataframe\">\n",
       "  <thead>\n",
       "    <tr style=\"text-align: right;\">\n",
       "      <th></th>\n",
       "      <th>Title</th>\n",
       "      <th>Description</th>\n",
       "      <th>Genre</th>\n",
       "    </tr>\n",
       "  </thead>\n",
       "  <tbody>\n",
       "    <tr>\n",
       "      <th>0</th>\n",
       "      <td>Attack on Titan The Final Season: The Final Chapters</td>\n",
       "      <td>Final part of Attack on Titan The Final Season.</td>\n",
       "      <td>['Action', 'Drama', 'Fantasy', 'Shounen', 'Dark Fantasy', 'Military', 'War', 'Based on a Manga']</td>\n",
       "    </tr>\n",
       "    <tr>\n",
       "      <th>1</th>\n",
       "      <td>Fruits Basket the Final Season</td>\n",
       "      <td>The final arc of Fruits Basket.</td>\n",
       "      <td>['Drama', 'Fantasy', 'Romance', 'Shoujo', 'Animal Transformation', 'Contemporary Fantasy', 'Curse', 'Dysfunctional Families', 'Mental Illness', 'Orphans', 'Zodiac', 'Based on a Manga']</td>\n",
       "    </tr>\n",
       "    <tr>\n",
       "      <th>2</th>\n",
       "      <td>Fullmetal Alchemist: Brotherhood</td>\n",
       "      <td>The foundation of alchemy is based on the law of equivalent exchange; you cannot produce something from nothing. As such, alchemy is bound by one taboo - human transmutation. Four years ago two young brothers, Edward and Alphonse Elric, broke this taboo when they tried to resurrect their dead mother. During the process Al's body disintegrated and Ed lost his leg. In a desperate attempt to prevent his brother from disappearing completely, Ed sacrificed one of his arms so he could affix Al's soul to a suit of armor. When his missing limbs are replaced by auto mail parts, Ed bears the name of...</td>\n",
       "      <td>['Action', 'Adventure', 'Drama', 'Fantasy', 'Mystery', 'Shounen', 'Conspiracy', 'Death of a Loved One', 'Military', 'Siblings', 'Based on a Manga']</td>\n",
       "    </tr>\n",
       "    <tr>\n",
       "      <th>3</th>\n",
       "      <td>Demon Slayer: Kimetsu no Yaiba - Entertainment District Arc</td>\n",
       "      <td>Tanjiro and his friends accompany the Hashira Tengen Uzui to an entertainment district where Tengen’s female ninja agents were gathering information on a demon before they suddenly disappeared. In order to investigate, Tanjiro and the others disguise themselves as women to sneak in!</td>\n",
       "      <td>['Action', 'Adventure', 'Shounen', 'Demons', 'Historical', 'Martial Arts', 'Orphans', 'Siblings', 'Supernatural', 'Swordplay', 'Based on a Manga']</td>\n",
       "    </tr>\n",
       "    <tr>\n",
       "      <th>4</th>\n",
       "      <td>Bleach: Thousand-Year Blood War</td>\n",
       "      <td>The peace is suddenly broken when warning sirens blare through the Soul Society. Residents there are disappearing without a trace and nobody knows who's behind it. Meanwhile, a dark shadow is also extending itself toward Ichigo and his friends in Karakura Town…</td>\n",
       "      <td>['Action', 'Comedy', 'Drama', 'Shounen', 'Afterlife', 'Ghosts', 'Shinigami', 'Supernatural', 'War', 'Based on a Manga']</td>\n",
       "    </tr>\n",
       "  </tbody>\n",
       "</table>\n",
       "</div>"
      ],
      "text/plain": [
       "                                                         Title  \\\n",
       "0         Attack on Titan The Final Season: The Final Chapters   \n",
       "1                               Fruits Basket the Final Season   \n",
       "2                             Fullmetal Alchemist: Brotherhood   \n",
       "3  Demon Slayer: Kimetsu no Yaiba - Entertainment District Arc   \n",
       "4                              Bleach: Thousand-Year Blood War   \n",
       "\n",
       "                                                                                                                                                                                                                                                                                                                                                                                                                                                                                                                                                                                                               Description  \\\n",
       "0                                                                                                                                                                                                                                                                                                                                                                                                                                                                                                                                                                          Final part of Attack on Titan The Final Season.   \n",
       "1                                                                                                                                                                                                                                                                                                                                                                                                                                                                                                                                                                                          The final arc of Fruits Basket.   \n",
       "2  The foundation of alchemy is based on the law of equivalent exchange; you cannot produce something from nothing. As such, alchemy is bound by one taboo - human transmutation. Four years ago two young brothers, Edward and Alphonse Elric, broke this taboo when they tried to resurrect their dead mother. During the process Al's body disintegrated and Ed lost his leg. In a desperate attempt to prevent his brother from disappearing completely, Ed sacrificed one of his arms so he could affix Al's soul to a suit of armor. When his missing limbs are replaced by auto mail parts, Ed bears the name of...   \n",
       "3                                                                                                                                                                                                                                                                                                                             Tanjiro and his friends accompany the Hashira Tengen Uzui to an entertainment district where Tengen’s female ninja agents were gathering information on a demon before they suddenly disappeared. In order to investigate, Tanjiro and the others disguise themselves as women to sneak in!    \n",
       "4                                                                                                                                                                                                                                                                                                                                                    The peace is suddenly broken when warning sirens blare through the Soul Society. Residents there are disappearing without a trace and nobody knows who's behind it. Meanwhile, a dark shadow is also extending itself toward Ichigo and his friends in Karakura Town…   \n",
       "\n",
       "                                                                                                                                                                                      Genre  \n",
       "0                                                                                          ['Action', 'Drama', 'Fantasy', 'Shounen', 'Dark Fantasy', 'Military', 'War', 'Based on a Manga']  \n",
       "1  ['Drama', 'Fantasy', 'Romance', 'Shoujo', 'Animal Transformation', 'Contemporary Fantasy', 'Curse', 'Dysfunctional Families', 'Mental Illness', 'Orphans', 'Zodiac', 'Based on a Manga']  \n",
       "2                                       ['Action', 'Adventure', 'Drama', 'Fantasy', 'Mystery', 'Shounen', 'Conspiracy', 'Death of a Loved One', 'Military', 'Siblings', 'Based on a Manga']  \n",
       "3                                        ['Action', 'Adventure', 'Shounen', 'Demons', 'Historical', 'Martial Arts', 'Orphans', 'Siblings', 'Supernatural', 'Swordplay', 'Based on a Manga']  \n",
       "4                                                                   ['Action', 'Comedy', 'Drama', 'Shounen', 'Afterlife', 'Ghosts', 'Shinigami', 'Supernatural', 'War', 'Based on a Manga']  "
      ]
     },
     "execution_count": 552,
     "metadata": {},
     "output_type": "execute_result"
    }
   ],
   "source": [
    "df.head()"
   ]
  },
  {
   "cell_type": "code",
   "execution_count": 489,
   "metadata": {
    "execution": {
     "iopub.execute_input": "2023-08-22T15:14:02.796035Z",
     "iopub.status.busy": "2023-08-22T15:14:02.794807Z",
     "iopub.status.idle": "2023-08-22T15:14:02.806362Z",
     "shell.execute_reply": "2023-08-22T15:14:02.805302Z",
     "shell.execute_reply.started": "2023-08-22T15:14:02.795985Z"
    }
   },
   "outputs": [],
   "source": [
    "shuffled_df = df.sample(frac=1)\n"
   ]
  },
  {
   "cell_type": "code",
   "execution_count": 553,
   "metadata": {
    "execution": {
     "iopub.execute_input": "2023-08-22T16:00:05.425150Z",
     "iopub.status.busy": "2023-08-22T16:00:05.424755Z",
     "iopub.status.idle": "2023-08-22T16:00:05.435221Z",
     "shell.execute_reply": "2023-08-22T16:00:05.434170Z",
     "shell.execute_reply.started": "2023-08-22T16:00:05.425116Z"
    }
   },
   "outputs": [],
   "source": [
    "df = shuffled_df.reset_index(drop=True)\n"
   ]
  },
  {
   "cell_type": "code",
   "execution_count": 554,
   "metadata": {
    "execution": {
     "iopub.execute_input": "2023-08-22T16:00:09.711079Z",
     "iopub.status.busy": "2023-08-22T16:00:09.710221Z",
     "iopub.status.idle": "2023-08-22T16:00:09.717397Z",
     "shell.execute_reply": "2023-08-22T16:00:09.716307Z",
     "shell.execute_reply.started": "2023-08-22T16:00:09.711036Z"
    }
   },
   "outputs": [
    {
     "data": {
      "text/plain": [
       "(22724, 3)"
      ]
     },
     "execution_count": 554,
     "metadata": {},
     "output_type": "execute_result"
    }
   ],
   "source": [
    "df.shape"
   ]
  },
  {
   "cell_type": "code",
   "execution_count": 555,
   "metadata": {
    "execution": {
     "iopub.execute_input": "2023-08-22T16:00:12.427944Z",
     "iopub.status.busy": "2023-08-22T16:00:12.427209Z",
     "iopub.status.idle": "2023-08-22T16:00:12.439075Z",
     "shell.execute_reply": "2023-08-22T16:00:12.438090Z",
     "shell.execute_reply.started": "2023-08-22T16:00:12.427906Z"
    }
   },
   "outputs": [
    {
     "data": {
      "text/html": [
       "<div>\n",
       "<style scoped>\n",
       "    .dataframe tbody tr th:only-of-type {\n",
       "        vertical-align: middle;\n",
       "    }\n",
       "\n",
       "    .dataframe tbody tr th {\n",
       "        vertical-align: top;\n",
       "    }\n",
       "\n",
       "    .dataframe thead th {\n",
       "        text-align: right;\n",
       "    }\n",
       "</style>\n",
       "<table border=\"1\" class=\"dataframe\">\n",
       "  <thead>\n",
       "    <tr style=\"text-align: right;\">\n",
       "      <th></th>\n",
       "      <th>Title</th>\n",
       "      <th>Description</th>\n",
       "      <th>Genre</th>\n",
       "    </tr>\n",
       "  </thead>\n",
       "  <tbody>\n",
       "    <tr>\n",
       "      <th>22719</th>\n",
       "      <td>Mother of the Goddess' Dormitory</td>\n",
       "      <td>Nagumi Koushi is a 12-year-old boy who was abandoned by his broke father after their house caught on fire, leaving him to roam the streets penniless. He then one day, meets a girl named Minerva who finds him lying on the sidewalk. She takes him to a women’s college dormitory, one known for housing troublesome residents, and asks him to be their \"Dormitory Mother.\" Surrounded by older women and forced to deal with their idiosyncrasies, Koushi starts his new life!</td>\n",
       "      <td>['Action', 'Shounen', 'MMORPG', 'RPG', 'Virtual Reality', 'Based on a Web Novel']</td>\n",
       "    </tr>\n",
       "    <tr>\n",
       "      <th>22720</th>\n",
       "      <td>Kami nomi zo Shiru Sekai: Megami-hen</td>\n",
       "      <td>After releasing fourteen girls from the grasps of runaway spirits by making them fall in love with him, Keima has proven himself to be the Capturing God of both the 2D and 3D worlds! But a new challenge awaits as Diana, the goddess possessing Keima's neighbor Tenri, tasks him to find her siblings, and his only clue to their whereabouts resides with past conquests who still retain their memories. Now Keima is on the hunt in hopes that these divine beings might finally release him from his contract with Hell. But with the shadowy organization known as Vintage out to kill these girls, it beco...</td>\n",
       "      <td>['Action', 'Mecha', 'Magic', 'Ecchi', 'Shounen', 'Romance', 'Harem']</td>\n",
       "    </tr>\n",
       "    <tr>\n",
       "      <th>22721</th>\n",
       "      <td>New Game!!</td>\n",
       "      <td>The main character Suzukaze Aoba graduates from high school and joins a game company. The person who made the game that Aoba loved as a grade-schooler just happens to be Aoba's senior at the company. The story follows girls who work and aspire at the Eaglejump company.</td>\n",
       "      <td>['Demons', 'Fantasy', 'Shoujo', 'Supernatural', 'Mystery']</td>\n",
       "    </tr>\n",
       "    <tr>\n",
       "      <th>22722</th>\n",
       "      <td>GO-GO Tamagotchi!</td>\n",
       "      <td>Every 1000 years on Tamagotchi Planet, a special planet change occurs called Tamagottsun (たまごっつん). This is when two Tamagotchi towns, Dream Town and Tamagotchi Town collide to make one new town called Dreamtamatown (ドリたまタウン doritamatown). The story of GO-GO Tamagotchi! focuses on this occurrence and the interaction of old and new Tamagotchi characters from both Dream Town and Tamagotchi Town anime series.</td>\n",
       "      <td>['Action', 'Fantasy', 'Ecchi', 'Comedy']</td>\n",
       "    </tr>\n",
       "    <tr>\n",
       "      <th>22723</th>\n",
       "      <td>Slayers Evolution-R</td>\n",
       "      <td>The flat-chested, gluttonous Lina Inverse is back! Alongside her bodyguard Gourry, sorcerer-turned-golem Zelgadis, clumsy Amelia and a strange animal named Pokota, Lina is now on the hunt for a magical jar that will free Pokota’s country from the sealing of the evil Rezo. Meanwhile, Zuuma is plotting his revenge on Lina and Xellos once more has mysterious ulterior motives. Can Lina set things right once and for all and finally clear her name?</td>\n",
       "      <td>['Action', 'Shounen', 'Proxy Battles']</td>\n",
       "    </tr>\n",
       "  </tbody>\n",
       "</table>\n",
       "</div>"
      ],
      "text/plain": [
       "                                      Title  \\\n",
       "22719      Mother of the Goddess' Dormitory   \n",
       "22720  Kami nomi zo Shiru Sekai: Megami-hen   \n",
       "22721                            New Game!!   \n",
       "22722                     GO-GO Tamagotchi!   \n",
       "22723                   Slayers Evolution-R   \n",
       "\n",
       "                                                                                                                                                                                                                                                                                                                                                                                                                                                                                                                                                                                                                   Description  \\\n",
       "22719                                                                                                                                       Nagumi Koushi is a 12-year-old boy who was abandoned by his broke father after their house caught on fire, leaving him to roam the streets penniless. He then one day, meets a girl named Minerva who finds him lying on the sidewalk. She takes him to a women’s college dormitory, one known for housing troublesome residents, and asks him to be their \"Dormitory Mother.\" Surrounded by older women and forced to deal with their idiosyncrasies, Koushi starts his new life!   \n",
       "22720  After releasing fourteen girls from the grasps of runaway spirits by making them fall in love with him, Keima has proven himself to be the Capturing God of both the 2D and 3D worlds! But a new challenge awaits as Diana, the goddess possessing Keima's neighbor Tenri, tasks him to find her siblings, and his only clue to their whereabouts resides with past conquests who still retain their memories. Now Keima is on the hunt in hopes that these divine beings might finally release him from his contract with Hell. But with the shadowy organization known as Vintage out to kill these girls, it beco...   \n",
       "22721                                                                                                                                                                                                                                                                                                                                            The main character Suzukaze Aoba graduates from high school and joins a game company. The person who made the game that Aoba loved as a grade-schooler just happens to be Aoba's senior at the company. The story follows girls who work and aspire at the Eaglejump company.   \n",
       "22722                                                                                                                                                                                                 Every 1000 years on Tamagotchi Planet, a special planet change occurs called Tamagottsun (たまごっつん). This is when two Tamagotchi towns, Dream Town and Tamagotchi Town collide to make one new town called Dreamtamatown (ドリたまタウン doritamatown). The story of GO-GO Tamagotchi! focuses on this occurrence and the interaction of old and new Tamagotchi characters from both Dream Town and Tamagotchi Town anime series.   \n",
       "22723                                                                                                                                                           The flat-chested, gluttonous Lina Inverse is back! Alongside her bodyguard Gourry, sorcerer-turned-golem Zelgadis, clumsy Amelia and a strange animal named Pokota, Lina is now on the hunt for a magical jar that will free Pokota’s country from the sealing of the evil Rezo. Meanwhile, Zuuma is plotting his revenge on Lina and Xellos once more has mysterious ulterior motives. Can Lina set things right once and for all and finally clear her name?   \n",
       "\n",
       "                                                                                   Genre  \n",
       "22719  ['Action', 'Shounen', 'MMORPG', 'RPG', 'Virtual Reality', 'Based on a Web Novel']  \n",
       "22720               ['Action', 'Mecha', 'Magic', 'Ecchi', 'Shounen', 'Romance', 'Harem']  \n",
       "22721                         ['Demons', 'Fantasy', 'Shoujo', 'Supernatural', 'Mystery']  \n",
       "22722                                           ['Action', 'Fantasy', 'Ecchi', 'Comedy']  \n",
       "22723                                             ['Action', 'Shounen', 'Proxy Battles']  "
      ]
     },
     "execution_count": 555,
     "metadata": {},
     "output_type": "execute_result"
    }
   ],
   "source": [
    "df.tail()"
   ]
  },
  {
   "cell_type": "code",
   "execution_count": 493,
   "metadata": {
    "execution": {
     "iopub.execute_input": "2023-08-22T15:14:09.550606Z",
     "iopub.status.busy": "2023-08-22T15:14:09.550185Z",
     "iopub.status.idle": "2023-08-22T15:14:09.558044Z",
     "shell.execute_reply": "2023-08-22T15:14:09.556982Z",
     "shell.execute_reply.started": "2023-08-22T15:14:09.550571Z"
    }
   },
   "outputs": [],
   "source": [
    "import torch\n",
    "from transformers import AutoModelForSequenceClassification, AutoConfig\n",
    "from fastai.text.all import *\n",
    "from blurr.text.data.all import *\n",
    "from blurr.text.modeling.all import *"
   ]
  },
  {
   "cell_type": "code",
   "execution_count": 370,
   "metadata": {
    "execution": {
     "iopub.execute_input": "2023-08-22T14:02:01.340847Z",
     "iopub.status.busy": "2023-08-22T14:02:01.340007Z",
     "iopub.status.idle": "2023-08-22T14:02:01.348885Z",
     "shell.execute_reply": "2023-08-22T14:02:01.348185Z",
     "shell.execute_reply.started": "2023-08-22T14:02:01.340808Z"
    }
   },
   "outputs": [],
   "source": [
    "# table = {}\n",
    "# for val in data['Genre'].values.tolist():\n",
    "#   for i in val.split(', '):\n",
    "#     if i in table.keys():\n",
    "#       table[i] += 1\n",
    "#     else:\n",
    "#       table[i] = 1"
   ]
  },
  {
   "cell_type": "code",
   "execution_count": 556,
   "metadata": {
    "execution": {
     "iopub.execute_input": "2023-08-22T16:00:18.864316Z",
     "iopub.status.busy": "2023-08-22T16:00:18.863907Z",
     "iopub.status.idle": "2023-08-22T16:00:19.236000Z",
     "shell.execute_reply": "2023-08-22T16:00:19.234932Z",
     "shell.execute_reply.started": "2023-08-22T16:00:18.864275Z"
    }
   },
   "outputs": [
    {
     "name": "stdout",
     "output_type": "stream",
     "text": [
      "Number of Genres: 613\n",
      "{'Action': 7885, 'Sci-Fi': 2923, 'Adventure': 4613, 'Fantasy': 6089, 'Comedy': 9207, 'Shounen': 4957, 'Ecchi': 1806, 'Slice of Life': 3255, 'Sports': 929, 'Based on a Novel': 232, 'Martial Arts': 582, 'Historical': 1288, 'Josei': 169, 'Drama': 4540, 'Animal Protagonists': 400, 'Anthropomorphic': 312, 'Non-Human Protagonists': 884, 'Psychological': 735, 'School Life': 900, 'Based on a Manga': 2431, 'CG Animation': 475, 'Military': 1018, 'Supernatural': 3068, 'Vampire': 346, 'Abstract': 223, 'No Dialogue': 201, 'Shorts': 652, 'Original Work': 1080, 'Romance': 4322, 'Shoujo': 1166, 'Korean Animation': 142, 'Environmental': 27, 'School Club': 185, 'Based on a Visual Novel': 181, 'Adult Couples': 55, 'Death of a Loved One': 43, 'Firefighters': 7, 'Mature Romance': 50, 'Seinen': 2015, 'Iyashikei': 121, 'Mountain Climbing': 5, 'The Great Outdoors': 8, 'Music': 591, 'Exorcists': 26, 'Psychic Powers': 58, 'Superpowers': 361, 'Anime Tamago': 31, 'Horror': 789, 'Chinese Animation': 543, 'Short Episodes': 752, 'High School': 66, 'Tragedy': 72, 'Magic': 1888, 'Shounen Ai': 271, 'Idols': 148, 'Based on a 4-Koma Manga': 138, 'School': 2538, 'Ova': 22, 'Mecha': 1609, 'Harem': 1041, 'Reverse Harem': 70, 'Mansion': 21, 'Vampires': 90, 'Based on an Otome Game': 37, 'Violence': 58, 'Scifi': 174, 'Piloted Robots': 31, 'Gunfights': 34, 'Dancing': 25, 'Family Friendly': 734, 'Tournaments': 139, 'Demons': 604, 'Cats': 165, 'Pets': 65, 'Super Power': 787, 'GL': 42, 'Shoujo-ai': 36, 'Proxy Battles': 72, 'Showbiz': 92, 'Parody': 579, 'Samurai': 348, 'Curse': 42, 'Elemental Powers': 65, 'Monsters': 237, 'Based on a Video Game': 300, 'Love Confession': 7, 'Cars': 73, 'Stop Motion Animation': 119, 'College': 17, 'Doujinshi Industry': 10, 'Manga Industry': 20, 'Otaku Culture': 67, 'Satire': 40, 'Shoujo Ai': 164, 'Contemporary Fantasy': 235, 'Demon King': 17, 'Isekai': 200, 'Medieval': 89, 'Person in a Strange World': 256, 'Royalty': 85, 'Based on a Light Novel': 535, 'Mystery': 1325, 'Magic School': 40, 'Master-Servant Relationship': 35, 'Tsundere': 40, 'Melancholy': 99, 'Of Haruhi Suzumiya Season 2': 22, 'Magical Girl': 170, 'Sci Fi': 1206, 'Virtual Reality': 52, 'Yaoi': 129, 'RPG': 95, 'Family Life': 44, 'Ghosts': 45, 'Catholic School': 7, 'LGBT Themes': 38, 'Bears': 37, 'Forest': 59, 'Apocalypse': 11, 'Dark Fantasy': 83, 'Guns': 92, 'Pandemic': 22, 'Steampunk': 16, 'Trains': 31, 'Zombies': 36, 'Work Life': 125, 'Episodic': 174, 'Urban Legend': 6, 'Gag': 169, '19th Century': 63, 'Detectives': 100, 'Dogs': 52, 'England': 41, 'Europe': 125, 'Sherlock Holmes': 10, 'Ancient China': 82, 'Cultivation': 68, 'Time Travel': 125, 'Gourmet': 54, 'Suspense': 40, 'Organized Crime': 21, 'Adult Cast': 21, 'Opposites Attract': 19, 'The': 14, 'Story of Saiunkoku Season 2': 14, 'Game': 342, 'Chibi': 155, 'Based on a Mobile Game': 137, 'Space': 384, 'Cohabitation': 21, 'Countryside': 111, 'Love Triangle': 72, 'Sudden Girlfriend Appearance': 23, 'Panty Shots': 92, 'Age Gap': 23, 'Recap': 169, 'Student-Teacher Relationship': 11, 'All-Girls School': 40, 'Urban Fantasy': 128, 'Gender Bender': 18, 'Afterlife': 21, 'Hand to Hand Combat': 113, 'Black and White': 142, 'Navy': 4, 'Underworld': 12, 'Commercials': 92, 'Promotional': 313, 'Classical Music': 17, 'Music School': 16, 'Overpowered Main Characters': 144, 'Post-apocalyptic': 142, 'BL': 83, 'Fudanshi': 3, 'Thriller': 292, 'Japanese Mythology': 107, 'Tourism': 16, 'Youkai': 74, 'Based on a Fairy Tale': 27, 'Cooking': 56, 'Dementia': 100, 'Kaijuu': 11, 'Tokusatsu': 37, 'Crossdressing': 26, 'Driving': 34, 'Monster-of-the-week': 53, 'Sentai': 22, 'Superheroes': 104, 'Swordplay': 182, 'Age Transformation': 49, 'Apprenticeship': 23, 'Cheats': 22, 'Modern Knowledge': 17, 'Police': 343, 'Ninja': 59, 'Bounty Hunters': 16, 'Bishounen': 24, 'Kids': 201, 'Angels': 37, 'Roommates': 14, 'Werewolves': 11, 'Based on a Webtoon': 66, 'Cafe': 18, 'Cyberpunk': 47, 'Cyborgs': 57, 'Androids': 83, 'Robots': 179, 'Amnesia': 33, 'Amusement Park': 11, 'Dub': 34, 'Disability': 20, 'Science Fiction': 17, 'Demon': 17, 'Political': 122, 'Slapstick': 97, 'Based on an Eroge': 87, 'Secret Identity': 25, 'Thieves': 64, 'Japanese Anime Classic Collection': 17, 'Cycling': 16, 'Racing': 65, 'Assassins': 35, 'Criminals': 49, 'Gangs': 67, 'Outer Space': 155, 'Real Robot': 77, 'War': 184, 'Basketball': 26, 'Crossover': 36, 'Pirates': 44, 'Movie': 13, 'Nobility': 31, 'Space Opera': 35, 'Aliens': 231, 'Shounen-ai': 62, 'Blackmail': 10, 'Childcare': 54, 'Editors': 5, 'Salaryman': 14, 'Single Parent': 15, 'Yaoi Hand Syndrome': 7, 'Birds': 32, 'Child Protagonists': 182, 'Penguins': 13, 'Minna no Uta': 70, 'Visual Arts': 23, 'Wuxia': 18, 'Baseball': 66, 'Delinquents': 74, 'Banter': 6, 'POV': 10, 'noitaminA': 59, 'Island': 97, 'Orphans': 108, 'Poverty': 12, 'Boxing': 17, 'Christmas': 27, 'Flash Animation': 47, 'Boarding House': 35, 'Neighbors': 41, 'Conspiracy': 41, 'Crime': 17, 'Doctors': 21, 'Framed for a Crime': 4, 'Germany': 6, 'Medical': 30, 'Noir': 44, 'Psychopaths': 9, 'Revenge': 55, 'Serial Killers': 16, 'Gods': 57, 'Greek Mythology': 13, 'High Stakes Games': 47, 'Norse Mythology': 10, 'Disney': 16, 'Opening Animation': 47, 'Educational': 52, 'Nurses': 2, 'Breaking the Fourth Wall': 49, 'Coworkers': 65, 'Journalism': 5, 'Station Identifications': 15, 'Reincarnation': 113, 'Mahou Shoujo': 72, 'Siblings': 123, 'Mysterious Shop': 7, 'Restaurants': 25, 'Hamsters': 4, 'Desert': 18, 'Ocean': 60, 'Food and Beverage': 87, 'Apartment Life': 12, 'Bodyguards': 19, 'Vocaloid': 63, 'Tournament': 8, 'Mars': 10, 'Animal Characteristics': 86, 'World War 2': 27, 'Kidnapping': 11, 'Motorcycles': 21, 'Power Suits': 39, 'Based on a Movie': 14, 'Soccer': 29, 'Journey to the West': 18, 'Dystopia': 45, 'Mercenaries': 29, 'Anime Industry': 9, 'Voice Acting': 6, 'Writers': 19, 'Code': 20, 'Geass: Lelouch of the Rebellion R2 Special Edition Zero Requiem': 20, 'Leijiverse': 23, 'Space Pirates': 20, 'Hacking': 18, 'Survival': 40, 'Volleyball': 19, 'Workplace': 19, 'Animal Transformation': 41, 'Economics': 10, 'God-Human Relationship': 10, 'Interspecies Relationship': 45, 'Wolves': 13, 'Photography': 13, 'Christianity': 7, 'Religion': 24, 'Based on a Religious Text': 3, 'Terrorism': 23, 'Debt': 11, 'Based on a Play': 4, 'Star-Crossed Lovers': 12, 'Special Squads': 20, 'Law and Order': 20, 'Cops': 16, 'Sanrio Characters': 36, 'Xianxia': 36, 'Based on a Web Novel': 113, 'Rabbits': 26, 'Feudal Japan': 117, 'Butlers': 13, 'Combining Mecha': 29, 'Juujin': 21, 'Deity': 19, 'Rivalries': 19, 'Insects': 47, 'Shinigami': 17, 'Switzerland': 3, 'Slimes': 10, 'Slow Life': 7, 'Human Enhancement': 8, 'Based on a Card Game': 38, 'Acting': 20, 'Angst': 19, 'Teaching': 14, 'Tutors': 10, 'Collections': 15, 'Witches': 39, 'Zoo': 3, 'Animeism': 30, 'Picture Drama': 13, 'America': 44, 'Ghost Hunters': 8, 'Based on a TV Series': 9, 'Wrestling': 15, 'Prophecy': 11, 'Coming of Age': 88, 'Lifestyle Change': 78, 'Transfer Students': 31, 'Human Experimentation': 30, 'Super Robot': 53, 'Childhood Friends': 35, 'Post-Apocalyptic': 7, 'Ghibli Museum Shorts': 6, 'Loneliness': 16, 'Androphobia': 5, 'Transforming Mecha': 34, 'Esports': 3, 'MMORPG': 30, 'Management': 10, 'Crude': 66, 'Based on a Comic Book': 13, 'Badminton': 2, 'Prehistoric': 16, 'Food Protagonists': 37, 'San-X Characters': 5, 'Italy': 9, 'Maids': 29, 'Social Gap': 16, 'Based on a Picture Book': 19, 'Dinosaurs': 25, 'Card Battles': 46, 'Aviation': 27, 'Social Media': 13, 'Super': 18, 'Yuri': 17, 'Infidelity': 2, 'Mafia': 9, 'Dark Comedy': 27, 'Based on a Doujinshi': 23, 'Treasure Hunters': 7, 'Mermaids': 13, 'Boarding School': 30, 'Isolated Society': 23, 'Outside World': 22, 'Childhood Promise': 8, 'Romantic Comedy': 58, 'Dragon Quest': 3, 'Sheep': 2, 'Weak to Strong': 20, 'Tennis': 19, 'Earthquake': 5, 'Natural Disaster': 8, 'Gambling': 10, 'Mind Games': 20, 'VTubers': 19, 'Mental Illness': 22, 'Library': 10, 'Astronauts': 13, \"Japan Animator's Exhibition\": 22, 'Buddhism': 7, 'Funimation Entertainmentl': 12, 'Geneon Universal Entertainment': 12, 'Madhouse': 12, 'Hosts': 2, 'Agriculture': 6, 'Autobiographies': 3, 'Inheritance': 4, 'Ping Pong': 2, 'Board Games': 14, 'Shogi': 4, 'Newly Co-ed School': 18, 'Student Council': 21, 'Alcohol': 7, 'Body Swapping': 15, 'Gore': 10, 'Dream World': 11, 'Love Polygon': 12, 'Fetish': 11, 'Teen': 12, 'Titans Go!': 12, 'Ship': 11, 'Rock Music': 18, '16th Century': 7, 'Biographies': 8, 'Anthropomorphism': 1, 'Western': 10, 'Married Life': 16, 'Yakuza': 23, '18th Century': 5, 'Illness': 12, 'Senpai-Kouhai Relationship': 14, 'France': 19, 'Unrequited Love': 13, 'Art': 37, 'Art School': 17, 'Boys Love': 17, 'Erotica': 17, 'Dysfunctional Families': 7, 'Zodiac': 8, 'Submarine': 6, 'Based on a Song': 6, 'Dungeon': 20, 'PVE': 7, 'PVP': 15, 'Trapped in a Video Game': 19, 'Reverse Isekai': 12, 'Sentient Mecha': 13, 'Aging': 6, 'Scfi': 9, 'CEOs': 1, 'Second Chance': 8, '15th Century': 8, 'Monster School': 10, 'Smut': 10, 'Dragons': 33, 'Codependency': 5, 'NEET': 22, 'Pandas': 3, 'Guilds': 26, 'Pigs': 23, 'Canada': 4, 'World Masterpiece Theater': 16, 'Skeletons': 9, 'Video Game Industry': 9, 'Sister Complex': 3, 'Mahjong': 6, 'Summoned Into Another World': 36, 'Ice Skating': 7, 'Espionage': 7, 'Daily Life': 16, 'Rakugo': 8, 'Horse Racing': 4, 'French Revolution': 3, 'Body Sharing': 13, 'Arranged Marriage': 14, 'Rebellions': 29, 'Romance of the Three Kingdoms': 11, 'Surfing': 2, 'Dodgeball': 2, 'Sumo Wrestling': 5, 'Betrayal': 3, 'Transported Into a Novel': 5, 'Villainess': 8, 'Anime no Chikara': 3, '17th Century': 3, 'Borderline H': 18, 'Baking': 5, 'Hell': 9, 'Rugby': 3, 'Running': 5, 'Track and Field': 3, 'Adult Industry': 2, 'Gyaru': 3, 'Brother Complex': 9, 'Chobits': 2, 'Specials': 2, 'Romantic Subtext': 6, 'Culinary School': 7, 'Elves': 11, 'Kingdom Building': 10, 'Gag Humor': 33, 'Fashion': 11, 'Circus': 5, 'Gymnastics': 7, 'Middle Eastern': 19, 'Ninjas': 5, 'Heaven': 4, 'Modelling': 4, 'Military School': 9, 'Go': 2, 'Time Loop': 7, \"Valentine's Day\": 7, 'Jungle': 19, 'Pregnancy': 1, 'Seals': 3, 'Boss-Employee Relationship': 8, 'Monster Girls': 10, 'Fake Romance': 6, 'BDSM': 2, 'Fated Lovers': 5, 'Convenience Store': 5, 'Cocktails': 3, 'Astronomy': 5, 'Frogs': 11, 'Kendo': 3, 'Hotels and Inns': 9, 'Swimming': 14, 'Anime Bancho': 3, 'Bar': 4, 'Play or Die': 14, 'Special': 6, 'Vigilantes': 14, 'Remarriage': 4, 'Golf': 3, 'Football': 2, 'Ga-nime': 2, 'Antarctica': 1, 'Vietnam': 1, 'Bookstore': 3, 'Anime no Me': 4, 'Judo': 3, 'Playboys': 3, 'Deal with the Devil': 7, 'Lawyers': 2, 'Prison': 14, 'Battle Royale': 5, 'Russia': 2, 'Split Personality': 6, 'Egyptian Mythology': 5, 'Fujoshi': 3, 'All-Boys School': 12, 'Ballet Dancing': 2, 'Based on a Cartoon': 10, 'Happy Science': 3, 'Africa': 6, 'Transforming Robots': 1, 'Humanoid': 1, 'Parallel Universe': 6, 'High Fantasy': 1, 'Genies': 4, 'India': 2, 'Stockholm Syndrome': 1, 'Greece': 4, 'Unicorns': 2, 'Water Polo': 1, 'Scuba Diving': 2, 'Tanuki': 5, 'Australia': 2, 'Clubs': 3, 'Fishing': 7, 'Skateboarding': 2, 'Alice in Wonderland': 7, 'Novel Industry': 2, 'Recipes': 3, 'Middle School': 2, 'Impersonation': 2, 'Concubines': 1, 'Eunuchs': 1, 'Boing': 1, 'Stalkers': 2, 'Kickboxing': 2, 'Cartoon': 1, 'Combat': 2, 'Archery': 4, 'Manga': 1, 'Marvel Comics': 5, 'Dentists': 1, 'Orphanage': 1, 'Bathhouse': 2, 'Possessive Lovers': 2, 'Poland': 1, 'Cheerleaders': 1, 'Obsessive Love': 2, 'Landlords': 1, 'Gynophobia': 1}\n"
     ]
    }
   ],
   "source": [
    "genres_list = df.Genre.to_list()\n",
    "genre_count = {}\n",
    "for genres in genres_list:\n",
    "  genre_list = eval(genres)\n",
    "  for genre in genre_list:\n",
    "    if genre in genre_count.keys():\n",
    "      genre_count[genre] += 1\n",
    "    else:\n",
    "      genre_count[genre] = 1\n",
    "print(f\"Number of Genres: {len(genre_count)}\")\n",
    "print(genre_count)"
   ]
  },
  {
   "cell_type": "code",
   "execution_count": 557,
   "metadata": {
    "execution": {
     "iopub.execute_input": "2023-08-22T16:00:24.406850Z",
     "iopub.status.busy": "2023-08-22T16:00:24.406469Z",
     "iopub.status.idle": "2023-08-22T16:00:24.414647Z",
     "shell.execute_reply": "2023-08-22T16:00:24.413646Z",
     "shell.execute_reply.started": "2023-08-22T16:00:24.406816Z"
    }
   },
   "outputs": [
    {
     "data": {
      "text/plain": [
       "(557,\n",
       " ['Josei', 'Abstract', 'No Dialogue', 'Korean Animation', 'Environmental'])"
      ]
     },
     "execution_count": 557,
     "metadata": {},
     "output_type": "execute_result"
    }
   ],
   "source": [
    "threshold = int(len(df) * 0.01)\n",
    "rare_genres = [key for key, value in genre_count.items() if value < threshold]\n",
    "len(rare_genres), rare_genres[:5]"
   ]
  },
  {
   "cell_type": "code",
   "execution_count": 558,
   "metadata": {
    "execution": {
     "iopub.execute_input": "2023-08-22T16:00:28.358778Z",
     "iopub.status.busy": "2023-08-22T16:00:28.358390Z",
     "iopub.status.idle": "2023-08-22T16:00:29.423396Z",
     "shell.execute_reply": "2023-08-22T16:00:29.422185Z",
     "shell.execute_reply.started": "2023-08-22T16:00:28.358743Z"
    }
   },
   "outputs": [
    {
     "data": {
      "text/plain": [
       "(22576, 3)"
      ]
     },
     "execution_count": 558,
     "metadata": {},
     "output_type": "execute_result"
    }
   ],
   "source": [
    "genres_list = df.Genre.to_list()\n",
    "revised_genre_list = []\n",
    "indices_to_drop = []\n",
    "\n",
    "for idx, genres in enumerate(genres_list):\n",
    "  genre_list = eval(genres)\n",
    "  revised_genres = []\n",
    "\n",
    "  for genre in genre_list:\n",
    "    if genre not in rare_genres:\n",
    "      revised_genres.append(genre)\n",
    "\n",
    "  if len(revised_genres) == 0:\n",
    "    indices_to_drop.append(idx)\n",
    "  else:\n",
    "    revised_genre_list.append(revised_genres)\n",
    "df = df.drop(df.index[indices_to_drop]).reset_index(drop=True)\n",
    "# df = df.drop(indices_to_drop).reset_index(drop=True)\n",
    "df.shape"
   ]
  },
  {
   "cell_type": "code",
   "execution_count": 559,
   "metadata": {
    "execution": {
     "iopub.execute_input": "2023-08-22T16:00:32.668556Z",
     "iopub.status.busy": "2023-08-22T16:00:32.667798Z",
     "iopub.status.idle": "2023-08-22T16:00:32.683481Z",
     "shell.execute_reply": "2023-08-22T16:00:32.682137Z",
     "shell.execute_reply.started": "2023-08-22T16:00:32.668514Z"
    }
   },
   "outputs": [],
   "source": [
    "df['revised_genres'] = revised_genre_list"
   ]
  },
  {
   "cell_type": "code",
   "execution_count": 498,
   "metadata": {
    "execution": {
     "iopub.execute_input": "2023-08-22T15:14:23.495219Z",
     "iopub.status.busy": "2023-08-22T15:14:23.494812Z",
     "iopub.status.idle": "2023-08-22T15:14:23.510782Z",
     "shell.execute_reply": "2023-08-22T15:14:23.509712Z",
     "shell.execute_reply.started": "2023-08-22T15:14:23.495185Z"
    }
   },
   "outputs": [
    {
     "data": {
      "text/html": [
       "<div>\n",
       "<style scoped>\n",
       "    .dataframe tbody tr th:only-of-type {\n",
       "        vertical-align: middle;\n",
       "    }\n",
       "\n",
       "    .dataframe tbody tr th {\n",
       "        vertical-align: top;\n",
       "    }\n",
       "\n",
       "    .dataframe thead th {\n",
       "        text-align: right;\n",
       "    }\n",
       "</style>\n",
       "<table border=\"1\" class=\"dataframe\">\n",
       "  <thead>\n",
       "    <tr style=\"text-align: right;\">\n",
       "      <th></th>\n",
       "      <th>Title</th>\n",
       "      <th>Description</th>\n",
       "      <th>Genre</th>\n",
       "      <th>revised_genres</th>\n",
       "    </tr>\n",
       "  </thead>\n",
       "  <tbody>\n",
       "    <tr>\n",
       "      <th>22571</th>\n",
       "      <td>Mother of the Goddess' Dormitory</td>\n",
       "      <td>Nagumi Koushi is a 12-year-old boy who was abandoned by his broke father after their house caught on fire, leaving him to roam the streets penniless. He then one day, meets a girl named Minerva who finds him lying on the sidewalk. She takes him to a women’s college dormitory, one known for housing troublesome residents, and asks him to be their \"Dormitory Mother.\" Surrounded by older women and forced to deal with their idiosyncrasies, Koushi starts his new life!</td>\n",
       "      <td>['Action', 'Shounen', 'MMORPG', 'RPG', 'Virtual Reality', 'Based on a Web Novel']</td>\n",
       "      <td>[Action, Shounen]</td>\n",
       "    </tr>\n",
       "    <tr>\n",
       "      <th>22572</th>\n",
       "      <td>Kami nomi zo Shiru Sekai: Megami-hen</td>\n",
       "      <td>After releasing fourteen girls from the grasps of runaway spirits by making them fall in love with him, Keima has proven himself to be the Capturing God of both the 2D and 3D worlds! But a new challenge awaits as Diana, the goddess possessing Keima's neighbor Tenri, tasks him to find her siblings, and his only clue to their whereabouts resides with past conquests who still retain their memories. Now Keima is on the hunt in hopes that these divine beings might finally release him from his contract with Hell. But with the shadowy organization known as Vintage out to kill these girls, it beco...</td>\n",
       "      <td>['Action', 'Mecha', 'Magic', 'Ecchi', 'Shounen', 'Romance', 'Harem']</td>\n",
       "      <td>[Action, Mecha, Magic, Ecchi, Shounen, Romance, Harem]</td>\n",
       "    </tr>\n",
       "    <tr>\n",
       "      <th>22573</th>\n",
       "      <td>New Game!!</td>\n",
       "      <td>The main character Suzukaze Aoba graduates from high school and joins a game company. The person who made the game that Aoba loved as a grade-schooler just happens to be Aoba's senior at the company. The story follows girls who work and aspire at the Eaglejump company.</td>\n",
       "      <td>['Demons', 'Fantasy', 'Shoujo', 'Supernatural', 'Mystery']</td>\n",
       "      <td>[Demons, Fantasy, Shoujo, Supernatural, Mystery]</td>\n",
       "    </tr>\n",
       "    <tr>\n",
       "      <th>22574</th>\n",
       "      <td>GO-GO Tamagotchi!</td>\n",
       "      <td>Every 1000 years on Tamagotchi Planet, a special planet change occurs called Tamagottsun (たまごっつん). This is when two Tamagotchi towns, Dream Town and Tamagotchi Town collide to make one new town called Dreamtamatown (ドリたまタウン doritamatown). The story of GO-GO Tamagotchi! focuses on this occurrence and the interaction of old and new Tamagotchi characters from both Dream Town and Tamagotchi Town anime series.</td>\n",
       "      <td>['Action', 'Fantasy', 'Ecchi', 'Comedy']</td>\n",
       "      <td>[Action, Fantasy, Ecchi, Comedy]</td>\n",
       "    </tr>\n",
       "    <tr>\n",
       "      <th>22575</th>\n",
       "      <td>Slayers Evolution-R</td>\n",
       "      <td>The flat-chested, gluttonous Lina Inverse is back! Alongside her bodyguard Gourry, sorcerer-turned-golem Zelgadis, clumsy Amelia and a strange animal named Pokota, Lina is now on the hunt for a magical jar that will free Pokota’s country from the sealing of the evil Rezo. Meanwhile, Zuuma is plotting his revenge on Lina and Xellos once more has mysterious ulterior motives. Can Lina set things right once and for all and finally clear her name?</td>\n",
       "      <td>['Action', 'Shounen', 'Proxy Battles']</td>\n",
       "      <td>[Action, Shounen]</td>\n",
       "    </tr>\n",
       "  </tbody>\n",
       "</table>\n",
       "</div>"
      ],
      "text/plain": [
       "                                      Title  \\\n",
       "22571      Mother of the Goddess' Dormitory   \n",
       "22572  Kami nomi zo Shiru Sekai: Megami-hen   \n",
       "22573                            New Game!!   \n",
       "22574                     GO-GO Tamagotchi!   \n",
       "22575                   Slayers Evolution-R   \n",
       "\n",
       "                                                                                                                                                                                                                                                                                                                                                                                                                                                                                                                                                                                                                   Description  \\\n",
       "22571                                                                                                                                       Nagumi Koushi is a 12-year-old boy who was abandoned by his broke father after their house caught on fire, leaving him to roam the streets penniless. He then one day, meets a girl named Minerva who finds him lying on the sidewalk. She takes him to a women’s college dormitory, one known for housing troublesome residents, and asks him to be their \"Dormitory Mother.\" Surrounded by older women and forced to deal with their idiosyncrasies, Koushi starts his new life!   \n",
       "22572  After releasing fourteen girls from the grasps of runaway spirits by making them fall in love with him, Keima has proven himself to be the Capturing God of both the 2D and 3D worlds! But a new challenge awaits as Diana, the goddess possessing Keima's neighbor Tenri, tasks him to find her siblings, and his only clue to their whereabouts resides with past conquests who still retain their memories. Now Keima is on the hunt in hopes that these divine beings might finally release him from his contract with Hell. But with the shadowy organization known as Vintage out to kill these girls, it beco...   \n",
       "22573                                                                                                                                                                                                                                                                                                                                            The main character Suzukaze Aoba graduates from high school and joins a game company. The person who made the game that Aoba loved as a grade-schooler just happens to be Aoba's senior at the company. The story follows girls who work and aspire at the Eaglejump company.   \n",
       "22574                                                                                                                                                                                                 Every 1000 years on Tamagotchi Planet, a special planet change occurs called Tamagottsun (たまごっつん). This is when two Tamagotchi towns, Dream Town and Tamagotchi Town collide to make one new town called Dreamtamatown (ドリたまタウン doritamatown). The story of GO-GO Tamagotchi! focuses on this occurrence and the interaction of old and new Tamagotchi characters from both Dream Town and Tamagotchi Town anime series.   \n",
       "22575                                                                                                                                                           The flat-chested, gluttonous Lina Inverse is back! Alongside her bodyguard Gourry, sorcerer-turned-golem Zelgadis, clumsy Amelia and a strange animal named Pokota, Lina is now on the hunt for a magical jar that will free Pokota’s country from the sealing of the evil Rezo. Meanwhile, Zuuma is plotting his revenge on Lina and Xellos once more has mysterious ulterior motives. Can Lina set things right once and for all and finally clear her name?   \n",
       "\n",
       "                                                                                   Genre  \\\n",
       "22571  ['Action', 'Shounen', 'MMORPG', 'RPG', 'Virtual Reality', 'Based on a Web Novel']   \n",
       "22572               ['Action', 'Mecha', 'Magic', 'Ecchi', 'Shounen', 'Romance', 'Harem']   \n",
       "22573                         ['Demons', 'Fantasy', 'Shoujo', 'Supernatural', 'Mystery']   \n",
       "22574                                           ['Action', 'Fantasy', 'Ecchi', 'Comedy']   \n",
       "22575                                             ['Action', 'Shounen', 'Proxy Battles']   \n",
       "\n",
       "                                               revised_genres  \n",
       "22571                                       [Action, Shounen]  \n",
       "22572  [Action, Mecha, Magic, Ecchi, Shounen, Romance, Harem]  \n",
       "22573        [Demons, Fantasy, Shoujo, Supernatural, Mystery]  \n",
       "22574                        [Action, Fantasy, Ecchi, Comedy]  \n",
       "22575                                       [Action, Shounen]  "
      ]
     },
     "execution_count": 498,
     "metadata": {},
     "output_type": "execute_result"
    }
   ],
   "source": [
    "df.tail()"
   ]
  },
  {
   "cell_type": "code",
   "execution_count": 560,
   "metadata": {
    "execution": {
     "iopub.execute_input": "2023-08-22T16:00:36.708391Z",
     "iopub.status.busy": "2023-08-22T16:00:36.707231Z",
     "iopub.status.idle": "2023-08-22T16:00:36.739877Z",
     "shell.execute_reply": "2023-08-22T16:00:36.738925Z",
     "shell.execute_reply.started": "2023-08-22T16:00:36.708344Z"
    }
   },
   "outputs": [
    {
     "data": {
      "text/plain": [
       "(21828, 4)"
      ]
     },
     "execution_count": 560,
     "metadata": {},
     "output_type": "execute_result"
    }
   ],
   "source": [
    "genre_list = []\n",
    "indices_to_drop = []\n",
    "\n",
    "for idx, rev_genres in enumerate(df['revised_genres'].to_list()):\n",
    "    if len(rev_genres) >= 2:\n",
    "        genre_list.append(rev_genres[0])\n",
    "    else:\n",
    "        indices_to_drop.append(idx)\n",
    "\n",
    "df = df.drop(indices_to_drop).reset_index(drop=True)\n",
    "\n",
    "\n",
    "df.shape"
   ]
  },
  {
   "cell_type": "code",
   "execution_count": 502,
   "metadata": {
    "execution": {
     "iopub.execute_input": "2023-08-22T15:15:15.649738Z",
     "iopub.status.busy": "2023-08-22T15:15:15.649259Z",
     "iopub.status.idle": "2023-08-22T15:15:15.665054Z",
     "shell.execute_reply": "2023-08-22T15:15:15.663989Z",
     "shell.execute_reply.started": "2023-08-22T15:15:15.649701Z"
    }
   },
   "outputs": [
    {
     "data": {
      "text/html": [
       "<div>\n",
       "<style scoped>\n",
       "    .dataframe tbody tr th:only-of-type {\n",
       "        vertical-align: middle;\n",
       "    }\n",
       "\n",
       "    .dataframe tbody tr th {\n",
       "        vertical-align: top;\n",
       "    }\n",
       "\n",
       "    .dataframe thead th {\n",
       "        text-align: right;\n",
       "    }\n",
       "</style>\n",
       "<table border=\"1\" class=\"dataframe\">\n",
       "  <thead>\n",
       "    <tr style=\"text-align: right;\">\n",
       "      <th></th>\n",
       "      <th>Title</th>\n",
       "      <th>Description</th>\n",
       "      <th>Genre</th>\n",
       "      <th>revised_genres</th>\n",
       "    </tr>\n",
       "  </thead>\n",
       "  <tbody>\n",
       "    <tr>\n",
       "      <th>21823</th>\n",
       "      <td>Mother of the Goddess' Dormitory</td>\n",
       "      <td>Nagumi Koushi is a 12-year-old boy who was abandoned by his broke father after their house caught on fire, leaving him to roam the streets penniless. He then one day, meets a girl named Minerva who finds him lying on the sidewalk. She takes him to a women’s college dormitory, one known for housing troublesome residents, and asks him to be their \"Dormitory Mother.\" Surrounded by older women and forced to deal with their idiosyncrasies, Koushi starts his new life!</td>\n",
       "      <td>['Action', 'Shounen', 'MMORPG', 'RPG', 'Virtual Reality', 'Based on a Web Novel']</td>\n",
       "      <td>[Action, Shounen]</td>\n",
       "    </tr>\n",
       "    <tr>\n",
       "      <th>21824</th>\n",
       "      <td>Kami nomi zo Shiru Sekai: Megami-hen</td>\n",
       "      <td>After releasing fourteen girls from the grasps of runaway spirits by making them fall in love with him, Keima has proven himself to be the Capturing God of both the 2D and 3D worlds! But a new challenge awaits as Diana, the goddess possessing Keima's neighbor Tenri, tasks him to find her siblings, and his only clue to their whereabouts resides with past conquests who still retain their memories. Now Keima is on the hunt in hopes that these divine beings might finally release him from his contract with Hell. But with the shadowy organization known as Vintage out to kill these girls, it beco...</td>\n",
       "      <td>['Action', 'Mecha', 'Magic', 'Ecchi', 'Shounen', 'Romance', 'Harem']</td>\n",
       "      <td>[Action, Mecha, Magic, Ecchi, Shounen, Romance, Harem]</td>\n",
       "    </tr>\n",
       "    <tr>\n",
       "      <th>21825</th>\n",
       "      <td>New Game!!</td>\n",
       "      <td>The main character Suzukaze Aoba graduates from high school and joins a game company. The person who made the game that Aoba loved as a grade-schooler just happens to be Aoba's senior at the company. The story follows girls who work and aspire at the Eaglejump company.</td>\n",
       "      <td>['Demons', 'Fantasy', 'Shoujo', 'Supernatural', 'Mystery']</td>\n",
       "      <td>[Demons, Fantasy, Shoujo, Supernatural, Mystery]</td>\n",
       "    </tr>\n",
       "    <tr>\n",
       "      <th>21826</th>\n",
       "      <td>GO-GO Tamagotchi!</td>\n",
       "      <td>Every 1000 years on Tamagotchi Planet, a special planet change occurs called Tamagottsun (たまごっつん). This is when two Tamagotchi towns, Dream Town and Tamagotchi Town collide to make one new town called Dreamtamatown (ドリたまタウン doritamatown). The story of GO-GO Tamagotchi! focuses on this occurrence and the interaction of old and new Tamagotchi characters from both Dream Town and Tamagotchi Town anime series.</td>\n",
       "      <td>['Action', 'Fantasy', 'Ecchi', 'Comedy']</td>\n",
       "      <td>[Action, Fantasy, Ecchi, Comedy]</td>\n",
       "    </tr>\n",
       "    <tr>\n",
       "      <th>21827</th>\n",
       "      <td>Slayers Evolution-R</td>\n",
       "      <td>The flat-chested, gluttonous Lina Inverse is back! Alongside her bodyguard Gourry, sorcerer-turned-golem Zelgadis, clumsy Amelia and a strange animal named Pokota, Lina is now on the hunt for a magical jar that will free Pokota’s country from the sealing of the evil Rezo. Meanwhile, Zuuma is plotting his revenge on Lina and Xellos once more has mysterious ulterior motives. Can Lina set things right once and for all and finally clear her name?</td>\n",
       "      <td>['Action', 'Shounen', 'Proxy Battles']</td>\n",
       "      <td>[Action, Shounen]</td>\n",
       "    </tr>\n",
       "  </tbody>\n",
       "</table>\n",
       "</div>"
      ],
      "text/plain": [
       "                                      Title  \\\n",
       "21823      Mother of the Goddess' Dormitory   \n",
       "21824  Kami nomi zo Shiru Sekai: Megami-hen   \n",
       "21825                            New Game!!   \n",
       "21826                     GO-GO Tamagotchi!   \n",
       "21827                   Slayers Evolution-R   \n",
       "\n",
       "                                                                                                                                                                                                                                                                                                                                                                                                                                                                                                                                                                                                                   Description  \\\n",
       "21823                                                                                                                                       Nagumi Koushi is a 12-year-old boy who was abandoned by his broke father after their house caught on fire, leaving him to roam the streets penniless. He then one day, meets a girl named Minerva who finds him lying on the sidewalk. She takes him to a women’s college dormitory, one known for housing troublesome residents, and asks him to be their \"Dormitory Mother.\" Surrounded by older women and forced to deal with their idiosyncrasies, Koushi starts his new life!   \n",
       "21824  After releasing fourteen girls from the grasps of runaway spirits by making them fall in love with him, Keima has proven himself to be the Capturing God of both the 2D and 3D worlds! But a new challenge awaits as Diana, the goddess possessing Keima's neighbor Tenri, tasks him to find her siblings, and his only clue to their whereabouts resides with past conquests who still retain their memories. Now Keima is on the hunt in hopes that these divine beings might finally release him from his contract with Hell. But with the shadowy organization known as Vintage out to kill these girls, it beco...   \n",
       "21825                                                                                                                                                                                                                                                                                                                                            The main character Suzukaze Aoba graduates from high school and joins a game company. The person who made the game that Aoba loved as a grade-schooler just happens to be Aoba's senior at the company. The story follows girls who work and aspire at the Eaglejump company.   \n",
       "21826                                                                                                                                                                                                 Every 1000 years on Tamagotchi Planet, a special planet change occurs called Tamagottsun (たまごっつん). This is when two Tamagotchi towns, Dream Town and Tamagotchi Town collide to make one new town called Dreamtamatown (ドリたまタウン doritamatown). The story of GO-GO Tamagotchi! focuses on this occurrence and the interaction of old and new Tamagotchi characters from both Dream Town and Tamagotchi Town anime series.   \n",
       "21827                                                                                                                                                           The flat-chested, gluttonous Lina Inverse is back! Alongside her bodyguard Gourry, sorcerer-turned-golem Zelgadis, clumsy Amelia and a strange animal named Pokota, Lina is now on the hunt for a magical jar that will free Pokota’s country from the sealing of the evil Rezo. Meanwhile, Zuuma is plotting his revenge on Lina and Xellos once more has mysterious ulterior motives. Can Lina set things right once and for all and finally clear her name?   \n",
       "\n",
       "                                                                                   Genre  \\\n",
       "21823  ['Action', 'Shounen', 'MMORPG', 'RPG', 'Virtual Reality', 'Based on a Web Novel']   \n",
       "21824               ['Action', 'Mecha', 'Magic', 'Ecchi', 'Shounen', 'Romance', 'Harem']   \n",
       "21825                         ['Demons', 'Fantasy', 'Shoujo', 'Supernatural', 'Mystery']   \n",
       "21826                                           ['Action', 'Fantasy', 'Ecchi', 'Comedy']   \n",
       "21827                                             ['Action', 'Shounen', 'Proxy Battles']   \n",
       "\n",
       "                                               revised_genres  \n",
       "21823                                       [Action, Shounen]  \n",
       "21824  [Action, Mecha, Magic, Ecchi, Shounen, Romance, Harem]  \n",
       "21825        [Demons, Fantasy, Shoujo, Supernatural, Mystery]  \n",
       "21826                        [Action, Fantasy, Ecchi, Comedy]  \n",
       "21827                                       [Action, Shounen]  "
      ]
     },
     "execution_count": 502,
     "metadata": {},
     "output_type": "execute_result"
    }
   ],
   "source": [
    "df.tail()"
   ]
  },
  {
   "cell_type": "code",
   "execution_count": 561,
   "metadata": {
    "execution": {
     "iopub.execute_input": "2023-08-22T16:00:43.374532Z",
     "iopub.status.busy": "2023-08-22T16:00:43.373911Z",
     "iopub.status.idle": "2023-08-22T16:00:43.418485Z",
     "shell.execute_reply": "2023-08-22T16:00:43.417319Z",
     "shell.execute_reply.started": "2023-08-22T16:00:43.374495Z"
    }
   },
   "outputs": [
    {
     "name": "stdout",
     "output_type": "stream",
     "text": [
      "Number of Genres: 56\n",
      "{'Action': 7858, 'Sci-Fi': 2923, 'Adventure': 4586, 'Fantasy': 6071, 'Comedy': 9124, 'Shounen': 4955, 'Ecchi': 1804, 'Slice of Life': 3231, 'Sports': 916, 'Based on a Novel': 228, 'Martial Arts': 581, 'Historical': 1280, 'Drama': 4519, 'Animal Protagonists': 399, 'Anthropomorphic': 312, 'Non-Human Protagonists': 881, 'Psychological': 721, 'School Life': 897, 'Based on a Manga': 2420, 'CG Animation': 450, 'Military': 1018, 'Supernatural': 3060, 'Vampire': 346, 'Shorts': 481, 'Original Work': 1069, 'Romance': 4306, 'Shoujo': 1166, 'Seinen': 2015, 'Music': 574, 'Superpowers': 361, 'Horror': 787, 'Chinese Animation': 538, 'Short Episodes': 747, 'Magic': 1881, 'Shounen Ai': 261, 'School': 2534, 'Mecha': 1609, 'Harem': 1041, 'Family Friendly': 666, 'Demons': 602, 'Super Power': 787, 'Parody': 577, 'Samurai': 348, 'Monsters': 235, 'Based on a Video Game': 295, 'Contemporary Fantasy': 235, 'Person in a Strange World': 256, 'Based on a Light Novel': 534, 'Mystery': 1324, 'Sci Fi': 1188, 'Game': 342, 'Space': 384, 'Thriller': 292, 'Promotional': 207, 'Police': 343, 'Aliens': 231}\n"
     ]
    }
   ],
   "source": [
    "revised_genres_list = df.revised_genres.to_list()\n",
    "revised_genre_count = {}\n",
    "for genres in revised_genres_list:\n",
    "  genre_list = genres\n",
    "  for genre in genre_list:\n",
    "    if genre in revised_genre_count.keys():\n",
    "      revised_genre_count[genre] += 1\n",
    "    else:\n",
    "      revised_genre_count[genre] = 1\n",
    "print(f\"Number of Genres: {len(revised_genre_count)}\")\n",
    "print(revised_genre_count)"
   ]
  },
  {
   "cell_type": "code",
   "execution_count": 562,
   "metadata": {
    "execution": {
     "iopub.execute_input": "2023-08-22T16:00:46.218097Z",
     "iopub.status.busy": "2023-08-22T16:00:46.217298Z",
     "iopub.status.idle": "2023-08-22T16:00:46.225417Z",
     "shell.execute_reply": "2023-08-22T16:00:46.224294Z",
     "shell.execute_reply.started": "2023-08-22T16:00:46.218048Z"
    }
   },
   "outputs": [],
   "source": [
    "encode_genre_types = { key: idx for idx, (key, value) in enumerate(revised_genre_count.items())}\n",
    "with open(\"genre_types_encoded.json\", \"w\") as fp:\n",
    "  json.dump(encode_genre_types, fp)"
   ]
  },
  {
   "cell_type": "code",
   "execution_count": 563,
   "metadata": {
    "execution": {
     "iopub.execute_input": "2023-08-22T16:00:49.374838Z",
     "iopub.status.busy": "2023-08-22T16:00:49.373776Z",
     "iopub.status.idle": "2023-08-22T16:00:49.443419Z",
     "shell.execute_reply": "2023-08-22T16:00:49.442204Z",
     "shell.execute_reply.started": "2023-08-22T16:00:49.374784Z"
    }
   },
   "outputs": [
    {
     "data": {
      "text/plain": [
       "[1, 0, 0, 0, 0, 0, 0, 0, 0, 0, 1, 1, 0, 0, 0, 0, 0, 0, 0, 0, 0, 0, 0]"
      ]
     },
     "execution_count": 563,
     "metadata": {},
     "output_type": "execute_result"
    }
   ],
   "source": [
    "categorical_genre_list = []\n",
    "revised_genres_list = df.revised_genres.to_list()\n",
    "\n",
    "for revised_genres in revised_genres_list:\n",
    "  categorical_list = [0] * len(encode_genre_types)\n",
    "  for genre in revised_genres:\n",
    "    genre_type_index = encode_genre_types[genre] \n",
    "    categorical_list[genre_type_index] = 1\n",
    "  categorical_genre_list.append(categorical_list)\n",
    "\n",
    "categorical_genre_list[3][:23]"
   ]
  },
  {
   "cell_type": "code",
   "execution_count": 564,
   "metadata": {
    "execution": {
     "iopub.execute_input": "2023-08-22T16:00:53.358066Z",
     "iopub.status.busy": "2023-08-22T16:00:53.357677Z",
     "iopub.status.idle": "2023-08-22T16:00:53.373138Z",
     "shell.execute_reply": "2023-08-22T16:00:53.372032Z",
     "shell.execute_reply.started": "2023-08-22T16:00:53.358033Z"
    }
   },
   "outputs": [
    {
     "data": {
      "text/plain": [
       "(21828, 5)"
      ]
     },
     "execution_count": 564,
     "metadata": {},
     "output_type": "execute_result"
    }
   ],
   "source": [
    "df['genre_cat_list'] = categorical_genre_list\n",
    "df.shape"
   ]
  },
  {
   "cell_type": "code",
   "execution_count": 507,
   "metadata": {
    "execution": {
     "iopub.execute_input": "2023-08-22T15:15:26.228679Z",
     "iopub.status.busy": "2023-08-22T15:15:26.227983Z",
     "iopub.status.idle": "2023-08-22T15:15:26.248747Z",
     "shell.execute_reply": "2023-08-22T15:15:26.247636Z",
     "shell.execute_reply.started": "2023-08-22T15:15:26.228632Z"
    }
   },
   "outputs": [
    {
     "data": {
      "text/html": [
       "<div>\n",
       "<style scoped>\n",
       "    .dataframe tbody tr th:only-of-type {\n",
       "        vertical-align: middle;\n",
       "    }\n",
       "\n",
       "    .dataframe tbody tr th {\n",
       "        vertical-align: top;\n",
       "    }\n",
       "\n",
       "    .dataframe thead th {\n",
       "        text-align: right;\n",
       "    }\n",
       "</style>\n",
       "<table border=\"1\" class=\"dataframe\">\n",
       "  <thead>\n",
       "    <tr style=\"text-align: right;\">\n",
       "      <th></th>\n",
       "      <th>Title</th>\n",
       "      <th>Description</th>\n",
       "      <th>Genre</th>\n",
       "      <th>revised_genres</th>\n",
       "      <th>genre_cat_list</th>\n",
       "    </tr>\n",
       "  </thead>\n",
       "  <tbody>\n",
       "    <tr>\n",
       "      <th>21823</th>\n",
       "      <td>Mother of the Goddess' Dormitory</td>\n",
       "      <td>Nagumi Koushi is a 12-year-old boy who was abandoned by his broke father after their house caught on fire, leaving him to roam the streets penniless. He then one day, meets a girl named Minerva who finds him lying on the sidewalk. She takes him to a women’s college dormitory, one known for housing troublesome residents, and asks him to be their \"Dormitory Mother.\" Surrounded by older women and forced to deal with their idiosyncrasies, Koushi starts his new life!</td>\n",
       "      <td>['Action', 'Shounen', 'MMORPG', 'RPG', 'Virtual Reality', 'Based on a Web Novel']</td>\n",
       "      <td>[Action, Shounen]</td>\n",
       "      <td>[1, 0, 0, 0, 0, 1, 0, 0, 0, 0, 0, 0, 0, 0, 0, 0, 0, 0, 0, 0, 0, 0, 0, 0, 0, 0, 0, 0, 0, 0, 0, 0, 0, 0, 0, 0, 0, 0, 0, 0, 0, 0, 0, 0, 0, 0, 0, 0, 0, 0, 0, 0, 0, 0, 0, 0]</td>\n",
       "    </tr>\n",
       "    <tr>\n",
       "      <th>21824</th>\n",
       "      <td>Kami nomi zo Shiru Sekai: Megami-hen</td>\n",
       "      <td>After releasing fourteen girls from the grasps of runaway spirits by making them fall in love with him, Keima has proven himself to be the Capturing God of both the 2D and 3D worlds! But a new challenge awaits as Diana, the goddess possessing Keima's neighbor Tenri, tasks him to find her siblings, and his only clue to their whereabouts resides with past conquests who still retain their memories. Now Keima is on the hunt in hopes that these divine beings might finally release him from his contract with Hell. But with the shadowy organization known as Vintage out to kill these girls, it beco...</td>\n",
       "      <td>['Action', 'Mecha', 'Magic', 'Ecchi', 'Shounen', 'Romance', 'Harem']</td>\n",
       "      <td>[Action, Mecha, Magic, Ecchi, Shounen, Romance, Harem]</td>\n",
       "      <td>[1, 0, 0, 0, 0, 1, 1, 0, 0, 0, 0, 0, 0, 0, 0, 0, 0, 0, 0, 0, 0, 0, 0, 0, 0, 1, 0, 0, 0, 0, 0, 0, 0, 1, 0, 0, 1, 1, 0, 0, 0, 0, 0, 0, 0, 0, 0, 0, 0, 0, 0, 0, 0, 0, 0, 0]</td>\n",
       "    </tr>\n",
       "    <tr>\n",
       "      <th>21825</th>\n",
       "      <td>New Game!!</td>\n",
       "      <td>The main character Suzukaze Aoba graduates from high school and joins a game company. The person who made the game that Aoba loved as a grade-schooler just happens to be Aoba's senior at the company. The story follows girls who work and aspire at the Eaglejump company.</td>\n",
       "      <td>['Demons', 'Fantasy', 'Shoujo', 'Supernatural', 'Mystery']</td>\n",
       "      <td>[Demons, Fantasy, Shoujo, Supernatural, Mystery]</td>\n",
       "      <td>[0, 0, 0, 1, 0, 0, 0, 0, 0, 0, 0, 0, 0, 0, 0, 0, 0, 0, 0, 0, 0, 1, 0, 0, 0, 0, 1, 0, 0, 0, 0, 0, 0, 0, 0, 0, 0, 0, 0, 1, 0, 0, 0, 0, 0, 0, 0, 0, 1, 0, 0, 0, 0, 0, 0, 0]</td>\n",
       "    </tr>\n",
       "    <tr>\n",
       "      <th>21826</th>\n",
       "      <td>GO-GO Tamagotchi!</td>\n",
       "      <td>Every 1000 years on Tamagotchi Planet, a special planet change occurs called Tamagottsun (たまごっつん). This is when two Tamagotchi towns, Dream Town and Tamagotchi Town collide to make one new town called Dreamtamatown (ドリたまタウン doritamatown). The story of GO-GO Tamagotchi! focuses on this occurrence and the interaction of old and new Tamagotchi characters from both Dream Town and Tamagotchi Town anime series.</td>\n",
       "      <td>['Action', 'Fantasy', 'Ecchi', 'Comedy']</td>\n",
       "      <td>[Action, Fantasy, Ecchi, Comedy]</td>\n",
       "      <td>[1, 0, 0, 1, 1, 0, 1, 0, 0, 0, 0, 0, 0, 0, 0, 0, 0, 0, 0, 0, 0, 0, 0, 0, 0, 0, 0, 0, 0, 0, 0, 0, 0, 0, 0, 0, 0, 0, 0, 0, 0, 0, 0, 0, 0, 0, 0, 0, 0, 0, 0, 0, 0, 0, 0, 0]</td>\n",
       "    </tr>\n",
       "    <tr>\n",
       "      <th>21827</th>\n",
       "      <td>Slayers Evolution-R</td>\n",
       "      <td>The flat-chested, gluttonous Lina Inverse is back! Alongside her bodyguard Gourry, sorcerer-turned-golem Zelgadis, clumsy Amelia and a strange animal named Pokota, Lina is now on the hunt for a magical jar that will free Pokota’s country from the sealing of the evil Rezo. Meanwhile, Zuuma is plotting his revenge on Lina and Xellos once more has mysterious ulterior motives. Can Lina set things right once and for all and finally clear her name?</td>\n",
       "      <td>['Action', 'Shounen', 'Proxy Battles']</td>\n",
       "      <td>[Action, Shounen]</td>\n",
       "      <td>[1, 0, 0, 0, 0, 1, 0, 0, 0, 0, 0, 0, 0, 0, 0, 0, 0, 0, 0, 0, 0, 0, 0, 0, 0, 0, 0, 0, 0, 0, 0, 0, 0, 0, 0, 0, 0, 0, 0, 0, 0, 0, 0, 0, 0, 0, 0, 0, 0, 0, 0, 0, 0, 0, 0, 0]</td>\n",
       "    </tr>\n",
       "  </tbody>\n",
       "</table>\n",
       "</div>"
      ],
      "text/plain": [
       "                                      Title  \\\n",
       "21823      Mother of the Goddess' Dormitory   \n",
       "21824  Kami nomi zo Shiru Sekai: Megami-hen   \n",
       "21825                            New Game!!   \n",
       "21826                     GO-GO Tamagotchi!   \n",
       "21827                   Slayers Evolution-R   \n",
       "\n",
       "                                                                                                                                                                                                                                                                                                                                                                                                                                                                                                                                                                                                                   Description  \\\n",
       "21823                                                                                                                                       Nagumi Koushi is a 12-year-old boy who was abandoned by his broke father after their house caught on fire, leaving him to roam the streets penniless. He then one day, meets a girl named Minerva who finds him lying on the sidewalk. She takes him to a women’s college dormitory, one known for housing troublesome residents, and asks him to be their \"Dormitory Mother.\" Surrounded by older women and forced to deal with their idiosyncrasies, Koushi starts his new life!   \n",
       "21824  After releasing fourteen girls from the grasps of runaway spirits by making them fall in love with him, Keima has proven himself to be the Capturing God of both the 2D and 3D worlds! But a new challenge awaits as Diana, the goddess possessing Keima's neighbor Tenri, tasks him to find her siblings, and his only clue to their whereabouts resides with past conquests who still retain their memories. Now Keima is on the hunt in hopes that these divine beings might finally release him from his contract with Hell. But with the shadowy organization known as Vintage out to kill these girls, it beco...   \n",
       "21825                                                                                                                                                                                                                                                                                                                                            The main character Suzukaze Aoba graduates from high school and joins a game company. The person who made the game that Aoba loved as a grade-schooler just happens to be Aoba's senior at the company. The story follows girls who work and aspire at the Eaglejump company.   \n",
       "21826                                                                                                                                                                                                 Every 1000 years on Tamagotchi Planet, a special planet change occurs called Tamagottsun (たまごっつん). This is when two Tamagotchi towns, Dream Town and Tamagotchi Town collide to make one new town called Dreamtamatown (ドリたまタウン doritamatown). The story of GO-GO Tamagotchi! focuses on this occurrence and the interaction of old and new Tamagotchi characters from both Dream Town and Tamagotchi Town anime series.   \n",
       "21827                                                                                                                                                           The flat-chested, gluttonous Lina Inverse is back! Alongside her bodyguard Gourry, sorcerer-turned-golem Zelgadis, clumsy Amelia and a strange animal named Pokota, Lina is now on the hunt for a magical jar that will free Pokota’s country from the sealing of the evil Rezo. Meanwhile, Zuuma is plotting his revenge on Lina and Xellos once more has mysterious ulterior motives. Can Lina set things right once and for all and finally clear her name?   \n",
       "\n",
       "                                                                                   Genre  \\\n",
       "21823  ['Action', 'Shounen', 'MMORPG', 'RPG', 'Virtual Reality', 'Based on a Web Novel']   \n",
       "21824               ['Action', 'Mecha', 'Magic', 'Ecchi', 'Shounen', 'Romance', 'Harem']   \n",
       "21825                         ['Demons', 'Fantasy', 'Shoujo', 'Supernatural', 'Mystery']   \n",
       "21826                                           ['Action', 'Fantasy', 'Ecchi', 'Comedy']   \n",
       "21827                                             ['Action', 'Shounen', 'Proxy Battles']   \n",
       "\n",
       "                                               revised_genres  \\\n",
       "21823                                       [Action, Shounen]   \n",
       "21824  [Action, Mecha, Magic, Ecchi, Shounen, Romance, Harem]   \n",
       "21825        [Demons, Fantasy, Shoujo, Supernatural, Mystery]   \n",
       "21826                        [Action, Fantasy, Ecchi, Comedy]   \n",
       "21827                                       [Action, Shounen]   \n",
       "\n",
       "                                                                                                                                                                 genre_cat_list  \n",
       "21823  [1, 0, 0, 0, 0, 1, 0, 0, 0, 0, 0, 0, 0, 0, 0, 0, 0, 0, 0, 0, 0, 0, 0, 0, 0, 0, 0, 0, 0, 0, 0, 0, 0, 0, 0, 0, 0, 0, 0, 0, 0, 0, 0, 0, 0, 0, 0, 0, 0, 0, 0, 0, 0, 0, 0, 0]  \n",
       "21824  [1, 0, 0, 0, 0, 1, 1, 0, 0, 0, 0, 0, 0, 0, 0, 0, 0, 0, 0, 0, 0, 0, 0, 0, 0, 1, 0, 0, 0, 0, 0, 0, 0, 1, 0, 0, 1, 1, 0, 0, 0, 0, 0, 0, 0, 0, 0, 0, 0, 0, 0, 0, 0, 0, 0, 0]  \n",
       "21825  [0, 0, 0, 1, 0, 0, 0, 0, 0, 0, 0, 0, 0, 0, 0, 0, 0, 0, 0, 0, 0, 1, 0, 0, 0, 0, 1, 0, 0, 0, 0, 0, 0, 0, 0, 0, 0, 0, 0, 1, 0, 0, 0, 0, 0, 0, 0, 0, 1, 0, 0, 0, 0, 0, 0, 0]  \n",
       "21826  [1, 0, 0, 1, 1, 0, 1, 0, 0, 0, 0, 0, 0, 0, 0, 0, 0, 0, 0, 0, 0, 0, 0, 0, 0, 0, 0, 0, 0, 0, 0, 0, 0, 0, 0, 0, 0, 0, 0, 0, 0, 0, 0, 0, 0, 0, 0, 0, 0, 0, 0, 0, 0, 0, 0, 0]  \n",
       "21827  [1, 0, 0, 0, 0, 1, 0, 0, 0, 0, 0, 0, 0, 0, 0, 0, 0, 0, 0, 0, 0, 0, 0, 0, 0, 0, 0, 0, 0, 0, 0, 0, 0, 0, 0, 0, 0, 0, 0, 0, 0, 0, 0, 0, 0, 0, 0, 0, 0, 0, 0, 0, 0, 0, 0, 0]  "
      ]
     },
     "execution_count": 507,
     "metadata": {},
     "output_type": "execute_result"
    }
   ],
   "source": [
    "df.tail()"
   ]
  },
  {
   "cell_type": "code",
   "execution_count": 508,
   "metadata": {
    "execution": {
     "iopub.execute_input": "2023-08-22T15:15:29.011881Z",
     "iopub.status.busy": "2023-08-22T15:15:29.011478Z",
     "iopub.status.idle": "2023-08-22T15:15:29.019021Z",
     "shell.execute_reply": "2023-08-22T15:15:29.017875Z",
     "shell.execute_reply.started": "2023-08-22T15:15:29.011845Z"
    }
   },
   "outputs": [
    {
     "data": {
      "text/plain": [
       "(21828, 5)"
      ]
     },
     "execution_count": 508,
     "metadata": {},
     "output_type": "execute_result"
    }
   ],
   "source": [
    "df.shape"
   ]
  },
  {
   "cell_type": "code",
   "execution_count": 565,
   "metadata": {
    "execution": {
     "iopub.execute_input": "2023-08-22T16:00:58.075474Z",
     "iopub.status.busy": "2023-08-22T16:00:58.074206Z",
     "iopub.status.idle": "2023-08-22T16:00:58.080993Z",
     "shell.execute_reply": "2023-08-22T16:00:58.079539Z",
     "shell.execute_reply.started": "2023-08-22T16:00:58.075424Z"
    }
   },
   "outputs": [],
   "source": [
    "labels = list(encode_genre_types.keys())"
   ]
  },
  {
   "cell_type": "code",
   "execution_count": 510,
   "metadata": {
    "execution": {
     "iopub.execute_input": "2023-08-22T15:15:32.676637Z",
     "iopub.status.busy": "2023-08-22T15:15:32.675779Z",
     "iopub.status.idle": "2023-08-22T15:15:34.371597Z",
     "shell.execute_reply": "2023-08-22T15:15:34.370305Z",
     "shell.execute_reply.started": "2023-08-22T15:15:32.676596Z"
    }
   },
   "outputs": [],
   "source": [
    "model_name = \"distilroberta-base\"\n",
    "model_cls = AutoModelForSequenceClassification\n",
    "config = AutoConfig.from_pretrained(model_name)\n",
    "config.num_labels = len(labels)\n",
    "\n",
    "hf_arch, hf_config, hf_tokenizer, hf_model = get_hf_objects(model_name, model_cls=model_cls, config=config)\n",
    "hf_model.config.problem_type = \"multi_label_classification\""
   ]
  },
  {
   "cell_type": "code",
   "execution_count": 567,
   "metadata": {
    "execution": {
     "iopub.execute_input": "2023-08-22T16:01:14.798711Z",
     "iopub.status.busy": "2023-08-22T16:01:14.798291Z",
     "iopub.status.idle": "2023-08-22T16:01:14.805728Z",
     "shell.execute_reply": "2023-08-22T16:01:14.804618Z",
     "shell.execute_reply.started": "2023-08-22T16:01:14.798674Z"
    }
   },
   "outputs": [],
   "source": [
    "blocks = (TextBlock(hf_arch, hf_config, hf_tokenizer, hf_model), MultiCategoryBlock(encoded=True,vocab=labels))\n",
    "dblock = DataBlock(blocks=blocks, get_x=ColReader('Description'), get_y=ColReader('genre_cat_list'), splitter=RandomSplitter(valid_pct=0.2, seed=42))"
   ]
  },
  {
   "cell_type": "code",
   "execution_count": 568,
   "metadata": {
    "execution": {
     "iopub.execute_input": "2023-08-22T16:01:20.863881Z",
     "iopub.status.busy": "2023-08-22T16:01:20.863109Z",
     "iopub.status.idle": "2023-08-22T16:01:56.813343Z",
     "shell.execute_reply": "2023-08-22T16:01:56.811600Z",
     "shell.execute_reply.started": "2023-08-22T16:01:20.863842Z"
    }
   },
   "outputs": [],
   "source": [
    "dls = dblock.dataloaders(df, bs=32)\n",
    "torch.save(dls, \"dls-multilabel-cartoon-classifier.pkl\")"
   ]
  },
  {
   "cell_type": "code",
   "execution_count": 569,
   "metadata": {
    "execution": {
     "iopub.execute_input": "2023-08-22T16:01:56.823016Z",
     "iopub.status.busy": "2023-08-22T16:01:56.821647Z",
     "iopub.status.idle": "2023-08-22T16:01:56.833880Z",
     "shell.execute_reply": "2023-08-22T16:01:56.832500Z",
     "shell.execute_reply.started": "2023-08-22T16:01:56.822969Z"
    }
   },
   "outputs": [
    {
     "data": {
      "text/plain": [
       "['Action', 'Sci-Fi', 'Adventure', 'Fantasy', 'Comedy', 'Shounen', 'Ecchi', 'Slice of Life', 'Sports', 'Based on a Novel', 'Martial Arts', 'Historical', 'Drama', 'Animal Protagonists', 'Anthropomorphic', 'Non-Human Protagonists', 'Psychological', 'School Life', 'Based on a Manga', 'CG Animation', 'Military', 'Supernatural', 'Vampire', 'Shorts', 'Original Work', 'Romance', 'Shoujo', 'Seinen', 'Music', 'Superpowers', 'Horror', 'Chinese Animation', 'Short Episodes', 'Magic', 'Shounen Ai', 'School', 'Mecha', 'Harem', 'Family Friendly', 'Demons', 'Super Power', 'Parody', 'Samurai', 'Monsters', 'Based on a Video Game', 'Contemporary Fantasy', 'Person in a Strange World', 'Based on a Light Novel', 'Mystery', 'Sci Fi', 'Game', 'Space', 'Thriller', 'Promotional', 'Police', 'Aliens']"
      ]
     },
     "execution_count": 569,
     "metadata": {},
     "output_type": "execute_result"
    }
   ],
   "source": [
    "dls.vocab"
   ]
  },
  {
   "cell_type": "code",
   "execution_count": 123,
   "metadata": {
    "execution": {
     "iopub.execute_input": "2023-08-22T11:25:02.053780Z",
     "iopub.status.busy": "2023-08-22T11:25:02.053024Z",
     "iopub.status.idle": "2023-08-22T11:25:02.148942Z",
     "shell.execute_reply": "2023-08-22T11:25:02.147872Z",
     "shell.execute_reply.started": "2023-08-22T11:25:02.053740Z"
    }
   },
   "outputs": [
    {
     "data": {
      "text/html": [
       "<table border=\"1\" class=\"dataframe\">\n",
       "  <thead>\n",
       "    <tr style=\"text-align: right;\">\n",
       "      <th></th>\n",
       "      <th>text</th>\n",
       "      <th>target</th>\n",
       "    </tr>\n",
       "  </thead>\n",
       "  <tbody>\n",
       "    <tr>\n",
       "      <th>0</th>\n",
       "      <td>The Story takes place in an alternate reality based in the year 1996, where humanity is advanced enough to develop long-range space travel, as well as bases on both the Moon and Mars. However, the Cold War tensions between the United States and the Soviet Union have not ended; rather, they've escalated as both sides build military facilities in space, and the shadow of nuclear conflict looms over humanity, both on and off Earth. Meanwhile, on the Red Planet, an exchange program created by the United Nation</td>\n",
       "      <td>[Shounen, Romance, Ecchi, Action, Magic, Mecha, Harem]</td>\n",
       "    </tr>\n",
       "    <tr>\n",
       "      <th>1</th>\n",
       "      <td>The Story takes place in an alternate reality based in the year 1996, where humanity is advanced enough to develop long-range space travel, as well as bases on both the Moon and Mars. However, the Cold War tensions between the United States and the Soviet Union have not ended; rather, they've escalated as both sides build military facilities in space, and the shadow of nuclear conflict looms over humanity, both on and off Earth. Meanwhile, on the Red Planet, an exchange program created by the United Nation</td>\n",
       "      <td>[Comedy, Slice of Life, Fantasy]</td>\n",
       "    </tr>\n",
       "    <tr>\n",
       "      <th>2</th>\n",
       "      <td>Based on a seinen manga by Kusunoki Michiharu serialised in Young Magazine. The story gets its roots from the actual street racing that occurs on Tokyo's Shuto Expressway, one stretch of which is known as the \"Wangan\", literally meaning \"bay side\" (although it is generally used to refer to the freeway), the longest, straightest road in the entire country. Of course, there's also lots of traffic to contend with, including a fair number of heavy trucks. Because of this, the action is inherently hazardous, an</td>\n",
       "      <td>[Comedy, Slice of Life]</td>\n",
       "    </tr>\n",
       "    <tr>\n",
       "      <th>3</th>\n",
       "      <td>OVAs bundled with the special edition of the 26th, 27th, 31st, 35th and 38th volumes of the manga. 1. Youkoso Fairy Hills! Lucy comes across a mysterious written request. The client is looking for an object that is in Fairy Tail's female dormitory, Fairy Hills. To verify the request, Lucy visits Fairy Hills, and discovers that the client is Hilda, the dormitory head who is looking for a \"shining treasure.\" Meanwhile, Natsu and the other guild members are cleaning their pool. 2. Yousei Gakuen: Yankee-kun to</td>\n",
       "      <td>[Action, Sci-Fi, Mecha]</td>\n",
       "    </tr>\n",
       "  </tbody>\n",
       "</table>"
      ],
      "text/plain": [
       "<IPython.core.display.HTML object>"
      ]
     },
     "metadata": {},
     "output_type": "display_data"
    }
   ],
   "source": [
    "dls.show_batch(dataloaders=dls, max_n=4, trunc_at=512)"
   ]
  },
  {
   "cell_type": "code",
   "execution_count": 570,
   "metadata": {
    "execution": {
     "iopub.execute_input": "2023-08-22T16:02:18.226308Z",
     "iopub.status.busy": "2023-08-22T16:02:18.225900Z",
     "iopub.status.idle": "2023-08-22T16:02:18.239857Z",
     "shell.execute_reply": "2023-08-22T16:02:18.238834Z",
     "shell.execute_reply.started": "2023-08-22T16:02:18.226265Z"
    }
   },
   "outputs": [],
   "source": [
    "model = BaseModelWrapper(hf_model)\n",
    " \n",
    "acc_02 = partial(accuracy_multi, thresh=0.2)\n",
    "\n",
    "learner = Learner(dls, \n",
    "                  model,\n",
    "                  opt_func=partial(OptimWrapper, opt=torch.optim.AdamW),\n",
    "                  loss_func=BCEWithLogitsLossFlat(),\n",
    "                  metrics=[acc_02],\n",
    "                  cbs=[BaseModelCallback],\n",
    "                  splitter=blurr_splitter\n",
    "                  ).to_fp16()"
   ]
  },
  {
   "cell_type": "markdown",
   "metadata": {},
   "source": [
    "## Stage - 0"
   ]
  },
  {
   "cell_type": "code",
   "execution_count": 33,
   "metadata": {
    "execution": {
     "iopub.execute_input": "2023-08-22T04:48:27.985081Z",
     "iopub.status.busy": "2023-08-22T04:48:27.984610Z",
     "iopub.status.idle": "2023-08-22T04:48:27.995712Z",
     "shell.execute_reply": "2023-08-22T04:48:27.994674Z",
     "shell.execute_reply.started": "2023-08-22T04:48:27.985043Z"
    }
   },
   "outputs": [],
   "source": [
    "learner.freeze()\n"
   ]
  },
  {
   "cell_type": "code",
   "execution_count": 34,
   "metadata": {
    "execution": {
     "iopub.execute_input": "2023-08-22T04:48:28.590132Z",
     "iopub.status.busy": "2023-08-22T04:48:28.589681Z",
     "iopub.status.idle": "2023-08-22T04:48:39.508599Z",
     "shell.execute_reply": "2023-08-22T04:48:39.507307Z",
     "shell.execute_reply.started": "2023-08-22T04:48:28.590086Z"
    }
   },
   "outputs": [
    {
     "data": {
      "text/html": [
       "\n",
       "<style>\n",
       "    /* Turns off some styling */\n",
       "    progress {\n",
       "        /* gets rid of default border in Firefox and Opera. */\n",
       "        border: none;\n",
       "        /* Needs to be in here for Safari polyfill so background images work as expected. */\n",
       "        background-size: auto;\n",
       "    }\n",
       "    progress:not([value]), progress:not([value])::-webkit-progress-bar {\n",
       "        background: repeating-linear-gradient(45deg, #7e7e7e, #7e7e7e 10px, #5c5c5c 10px, #5c5c5c 20px);\n",
       "    }\n",
       "    .progress-bar-interrupted, .progress-bar-interrupted::-webkit-progress-bar {\n",
       "        background: #F44336;\n",
       "    }\n",
       "</style>\n"
      ],
      "text/plain": [
       "<IPython.core.display.HTML object>"
      ]
     },
     "metadata": {},
     "output_type": "display_data"
    },
    {
     "data": {
      "text/html": [],
      "text/plain": [
       "<IPython.core.display.HTML object>"
      ]
     },
     "metadata": {},
     "output_type": "display_data"
    },
    {
     "name": "stdout",
     "output_type": "stream",
     "text": [
      "huggingface/tokenizers: The current process just got forked, after parallelism has already been used. Disabling parallelism to avoid deadlocks...\n",
      "To disable this warning, you can either:\n",
      "\t- Avoid using `tokenizers` before the fork if possible\n",
      "\t- Explicitly set the environment variable TOKENIZERS_PARALLELISM=(true | false)\n",
      "huggingface/tokenizers: The current process just got forked, after parallelism has already been used. Disabling parallelism to avoid deadlocks...\n",
      "To disable this warning, you can either:\n",
      "\t- Avoid using `tokenizers` before the fork if possible\n",
      "\t- Explicitly set the environment variable TOKENIZERS_PARALLELISM=(true | false)\n",
      "huggingface/tokenizers: The current process just got forked, after parallelism has already been used. Disabling parallelism to avoid deadlocks...\n",
      "To disable this warning, you can either:\n",
      "\t- Avoid using `tokenizers` before the fork if possible\n",
      "\t- Explicitly set the environment variable TOKENIZERS_PARALLELISM=(true | false)\n"
     ]
    },
    {
     "data": {
      "text/plain": [
       "SuggestedLRs(slide=0.005248074419796467, valley=0.0010000000474974513)"
      ]
     },
     "execution_count": 34,
     "metadata": {},
     "output_type": "execute_result"
    },
    {
     "data": {
      "image/png": "[encoded data removed]",
      "text/plain": [
       "<Figure size 640x480 with 1 Axes>"
      ]
     },
     "metadata": {},
     "output_type": "display_data"
    }
   ],
   "source": [
    "learner.lr_find(suggest_funcs=[slide, valley])"
   ]
  },
  {
   "cell_type": "code",
   "execution_count": 35,
   "metadata": {
    "execution": {
     "iopub.execute_input": "2023-08-22T04:49:18.562216Z",
     "iopub.status.busy": "2023-08-22T04:49:18.561578Z",
     "iopub.status.idle": "2023-08-22T05:07:31.593243Z",
     "shell.execute_reply": "2023-08-22T05:07:31.592141Z",
     "shell.execute_reply.started": "2023-08-22T04:49:18.562168Z"
    }
   },
   "outputs": [
    {
     "data": {
      "text/html": [
       "\n",
       "<style>\n",
       "    /* Turns off some styling */\n",
       "    progress {\n",
       "        /* gets rid of default border in Firefox and Opera. */\n",
       "        border: none;\n",
       "        /* Needs to be in here for Safari polyfill so background images work as expected. */\n",
       "        background-size: auto;\n",
       "    }\n",
       "    progress:not([value]), progress:not([value])::-webkit-progress-bar {\n",
       "        background: repeating-linear-gradient(45deg, #7e7e7e, #7e7e7e 10px, #5c5c5c 10px, #5c5c5c 20px);\n",
       "    }\n",
       "    .progress-bar-interrupted, .progress-bar-interrupted::-webkit-progress-bar {\n",
       "        background: #F44336;\n",
       "    }\n",
       "</style>\n"
      ],
      "text/plain": [
       "<IPython.core.display.HTML object>"
      ]
     },
     "metadata": {},
     "output_type": "display_data"
    },
    {
     "data": {
      "text/html": [
       "<table border=\"1\" class=\"dataframe\">\n",
       "  <thead>\n",
       "    <tr style=\"text-align: left;\">\n",
       "      <th>epoch</th>\n",
       "      <th>train_loss</th>\n",
       "      <th>valid_loss</th>\n",
       "      <th>accuracy_multi</th>\n",
       "      <th>time</th>\n",
       "    </tr>\n",
       "  </thead>\n",
       "  <tbody>\n",
       "    <tr>\n",
       "      <td>0</td>\n",
       "      <td>0.225384</td>\n",
       "      <td>0.215557</td>\n",
       "      <td>0.897618</td>\n",
       "      <td>09:53</td>\n",
       "    </tr>\n",
       "    <tr>\n",
       "      <td>1</td>\n",
       "      <td>0.220519</td>\n",
       "      <td>0.210134</td>\n",
       "      <td>0.882766</td>\n",
       "      <td>08:19</td>\n",
       "    </tr>\n",
       "  </tbody>\n",
       "</table>"
      ],
      "text/plain": [
       "<IPython.core.display.HTML object>"
      ]
     },
     "metadata": {},
     "output_type": "display_data"
    },
    {
     "name": "stdout",
     "output_type": "stream",
     "text": [
      "huggingface/tokenizers: The current process just got forked, after parallelism has already been used. Disabling parallelism to avoid deadlocks...\n",
      "To disable this warning, you can either:\n",
      "\t- Avoid using `tokenizers` before the fork if possible\n",
      "\t- Explicitly set the environment variable TOKENIZERS_PARALLELISM=(true | false)\n",
      "huggingface/tokenizers: The current process just got forked, after parallelism has already been used. Disabling parallelism to avoid deadlocks...\n",
      "To disable this warning, you can either:\n",
      "\t- Avoid using `tokenizers` before the fork if possible\n",
      "\t- Explicitly set the environment variable TOKENIZERS_PARALLELISM=(true | false)\n",
      "huggingface/tokenizers: The current process just got forked, after parallelism has already been used. Disabling parallelism to avoid deadlocks...\n",
      "To disable this warning, you can either:\n",
      "\t- Avoid using `tokenizers` before the fork if possible\n",
      "\t- Explicitly set the environment variable TOKENIZERS_PARALLELISM=(true | false)\n",
      "huggingface/tokenizers: The current process just got forked, after parallelism has already been used. Disabling parallelism to avoid deadlocks...\n",
      "To disable this warning, you can either:\n",
      "\t- Avoid using `tokenizers` before the fork if possible\n",
      "\t- Explicitly set the environment variable TOKENIZERS_PARALLELISM=(true | false)\n",
      "huggingface/tokenizers: The current process just got forked, after parallelism has already been used. Disabling parallelism to avoid deadlocks...\n",
      "To disable this warning, you can either:\n",
      "\t- Avoid using `tokenizers` before the fork if possible\n",
      "\t- Explicitly set the environment variable TOKENIZERS_PARALLELISM=(true | false)\n",
      "huggingface/tokenizers: The current process just got forked, after parallelism has already been used. Disabling parallelism to avoid deadlocks...\n",
      "To disable this warning, you can either:\n",
      "\t- Avoid using `tokenizers` before the fork if possible\n",
      "\t- Explicitly set the environment variable TOKENIZERS_PARALLELISM=(true | false)\n",
      "huggingface/tokenizers: The current process just got forked, after parallelism has already been used. Disabling parallelism to avoid deadlocks...\n",
      "To disable this warning, you can either:\n",
      "\t- Avoid using `tokenizers` before the fork if possible\n",
      "\t- Explicitly set the environment variable TOKENIZERS_PARALLELISM=(true | false)\n",
      "huggingface/tokenizers: The current process just got forked, after parallelism has already been used. Disabling parallelism to avoid deadlocks...\n",
      "To disable this warning, you can either:\n",
      "\t- Avoid using `tokenizers` before the fork if possible\n",
      "\t- Explicitly set the environment variable TOKENIZERS_PARALLELISM=(true | false)\n",
      "huggingface/tokenizers: The current process just got forked, after parallelism has already been used. Disabling parallelism to avoid deadlocks...\n",
      "To disable this warning, you can either:\n",
      "\t- Avoid using `tokenizers` before the fork if possible\n",
      "\t- Explicitly set the environment variable TOKENIZERS_PARALLELISM=(true | false)\n",
      "To disable this warning, you can either:\n",
      "\t- Avoid using `tokenizers` before the fork if possible\n",
      "\t- Explicitly set the environment variable TOKENIZERS_PARALLELISM=(true | false)\n"
     ]
    }
   ],
   "source": [
    "learner.fit_one_cycle(2,0.0030000000474974513)"
   ]
  },
  {
   "cell_type": "code",
   "execution_count": 36,
   "metadata": {
    "execution": {
     "iopub.execute_input": "2023-08-22T05:09:03.956629Z",
     "iopub.status.busy": "2023-08-22T05:09:03.956199Z",
     "iopub.status.idle": "2023-08-22T05:09:04.042965Z",
     "shell.execute_reply": "2023-08-22T05:09:04.041938Z",
     "shell.execute_reply.started": "2023-08-22T05:09:03.956589Z"
    }
   },
   "outputs": [
    {
     "data": {
      "text/plain": [
       "Path('models/cartoon-classifier-stage_albert-0.pth')"
      ]
     },
     "execution_count": 36,
     "metadata": {},
     "output_type": "execute_result"
    }
   ],
   "source": [
    "learner.save(\"cartoon-classifier-stage_albert-0\")"
   ]
  },
  {
   "cell_type": "markdown",
   "metadata": {},
   "source": [
    "## Stage - 1"
   ]
  },
  {
   "cell_type": "code",
   "execution_count": 37,
   "metadata": {
    "execution": {
     "iopub.execute_input": "2023-08-22T05:09:06.559267Z",
     "iopub.status.busy": "2023-08-22T05:09:06.558846Z",
     "iopub.status.idle": "2023-08-22T05:09:06.564955Z",
     "shell.execute_reply": "2023-08-22T05:09:06.563819Z",
     "shell.execute_reply.started": "2023-08-22T05:09:06.559234Z"
    }
   },
   "outputs": [],
   "source": [
    "learner.unfreeze()"
   ]
  },
  {
   "cell_type": "code",
   "execution_count": 38,
   "metadata": {
    "execution": {
     "iopub.execute_input": "2023-08-22T05:09:13.579325Z",
     "iopub.status.busy": "2023-08-22T05:09:13.578931Z",
     "iopub.status.idle": "2023-08-22T05:09:18.679927Z",
     "shell.execute_reply": "2023-08-22T05:09:18.678849Z",
     "shell.execute_reply.started": "2023-08-22T05:09:13.579293Z"
    },
    "scrolled": true
   },
   "outputs": [
    {
     "data": {
      "text/html": [
       "\n",
       "<style>\n",
       "    /* Turns off some styling */\n",
       "    progress {\n",
       "        /* gets rid of default border in Firefox and Opera. */\n",
       "        border: none;\n",
       "        /* Needs to be in here for Safari polyfill so background images work as expected. */\n",
       "        background-size: auto;\n",
       "    }\n",
       "    progress:not([value]), progress:not([value])::-webkit-progress-bar {\n",
       "        background: repeating-linear-gradient(45deg, #7e7e7e, #7e7e7e 10px, #5c5c5c 10px, #5c5c5c 20px);\n",
       "    }\n",
       "    .progress-bar-interrupted, .progress-bar-interrupted::-webkit-progress-bar {\n",
       "        background: #F44336;\n",
       "    }\n",
       "</style>\n"
      ],
      "text/plain": [
       "<IPython.core.display.HTML object>"
      ]
     },
     "metadata": {},
     "output_type": "display_data"
    },
    {
     "data": {
      "text/html": [],
      "text/plain": [
       "<IPython.core.display.HTML object>"
      ]
     },
     "metadata": {},
     "output_type": "display_data"
    },
    {
     "name": "stdout",
     "output_type": "stream",
     "text": [
      "huggingface/tokenizers: The current process just got forked, after parallelism has already been used. Disabling parallelism to avoid deadlocks...\n",
      "To disable this warning, you can either:\n",
      "\t- Avoid using `tokenizers` before the fork if possible\n",
      "\t- Explicitly set the environment variable TOKENIZERS_PARALLELISM=(true | false)\n",
      "huggingface/tokenizers: The current process just got forked, after parallelism has already been used. Disabling parallelism to avoid deadlocks...\n",
      "To disable this warning, you can either:\n",
      "\t- Avoid using `tokenizers` before the fork if possible\n",
      "\t- Explicitly set the environment variable TOKENIZERS_PARALLELISM=(true | false)\n",
      "To disable this warning, you can either:\n",
      "\t- Avoid using `tokenizers` before the fork if possible\n",
      "\t- Explicitly set the environment variable TOKENIZERS_PARALLELISM=(true | false)\n"
     ]
    },
    {
     "data": {
      "text/plain": [
       "SuggestedLRs(slide=0.009120108559727669, valley=0.0003311311302240938)"
      ]
     },
     "execution_count": 38,
     "metadata": {},
     "output_type": "execute_result"
    },
    {
     "data": {
      "image/png": "[encoded data removed]",
      "text/plain": [
       "<Figure size 640x480 with 1 Axes>"
      ]
     },
     "metadata": {},
     "output_type": "display_data"
    }
   ],
   "source": [
    "learner.lr_find(suggest_funcs=[slide, valley])"
   ]
  },
  {
   "cell_type": "code",
   "execution_count": 39,
   "metadata": {
    "execution": {
     "iopub.execute_input": "2023-08-22T05:10:43.275775Z",
     "iopub.status.busy": "2023-08-22T05:10:43.275358Z",
     "iopub.status.idle": "2023-08-22T05:29:30.367343Z",
     "shell.execute_reply": "2023-08-22T05:29:30.366167Z",
     "shell.execute_reply.started": "2023-08-22T05:10:43.275738Z"
    }
   },
   "outputs": [
    {
     "data": {
      "text/html": [
       "\n",
       "<style>\n",
       "    /* Turns off some styling */\n",
       "    progress {\n",
       "        /* gets rid of default border in Firefox and Opera. */\n",
       "        border: none;\n",
       "        /* Needs to be in here for Safari polyfill so background images work as expected. */\n",
       "        background-size: auto;\n",
       "    }\n",
       "    progress:not([value]), progress:not([value])::-webkit-progress-bar {\n",
       "        background: repeating-linear-gradient(45deg, #7e7e7e, #7e7e7e 10px, #5c5c5c 10px, #5c5c5c 20px);\n",
       "    }\n",
       "    .progress-bar-interrupted, .progress-bar-interrupted::-webkit-progress-bar {\n",
       "        background: #F44336;\n",
       "    }\n",
       "</style>\n"
      ],
      "text/plain": [
       "<IPython.core.display.HTML object>"
      ]
     },
     "metadata": {},
     "output_type": "display_data"
    },
    {
     "data": {
      "text/html": [
       "<table border=\"1\" class=\"dataframe\">\n",
       "  <thead>\n",
       "    <tr style=\"text-align: left;\">\n",
       "      <th>epoch</th>\n",
       "      <th>train_loss</th>\n",
       "      <th>valid_loss</th>\n",
       "      <th>accuracy_multi</th>\n",
       "      <th>time</th>\n",
       "    </tr>\n",
       "  </thead>\n",
       "  <tbody>\n",
       "    <tr>\n",
       "      <td>0</td>\n",
       "      <td>0.206827</td>\n",
       "      <td>0.210781</td>\n",
       "      <td>0.891608</td>\n",
       "      <td>10:25</td>\n",
       "    </tr>\n",
       "    <tr>\n",
       "      <td>1</td>\n",
       "      <td>0.200589</td>\n",
       "      <td>0.210078</td>\n",
       "      <td>0.893159</td>\n",
       "      <td>08:21</td>\n",
       "    </tr>\n",
       "  </tbody>\n",
       "</table>"
      ],
      "text/plain": [
       "<IPython.core.display.HTML object>"
      ]
     },
     "metadata": {},
     "output_type": "display_data"
    },
    {
     "name": "stdout",
     "output_type": "stream",
     "text": [
      "huggingface/tokenizers: The current process just got forked, after parallelism has already been used. Disabling parallelism to avoid deadlocks...\n",
      "To disable this warning, you can either:\n",
      "\t- Avoid using `tokenizers` before the fork if possible\n",
      "\t- Explicitly set the environment variable TOKENIZERS_PARALLELISM=(true | false)\n",
      "huggingface/tokenizers: The current process just got forked, after parallelism has already been used. Disabling parallelism to avoid deadlocks...\n",
      "To disable this warning, you can either:\n",
      "\t- Avoid using `tokenizers` before the fork if possible\n",
      "\t- Explicitly set the environment variable TOKENIZERS_PARALLELISM=(true | false)\n",
      "huggingface/tokenizers: The current process just got forked, after parallelism has already been used. Disabling parallelism to avoid deadlocks...\n",
      "To disable this warning, you can either:\n",
      "\t- Avoid using `tokenizers` before the fork if possible\n",
      "\t- Explicitly set the environment variable TOKENIZERS_PARALLELISM=(true | false)\n",
      "huggingface/tokenizers: The current process just got forked, after parallelism has already been used. Disabling parallelism to avoid deadlocks...\n",
      "To disable this warning, you can either:\n",
      "\t- Avoid using `tokenizers` before the fork if possible\n",
      "\t- Explicitly set the environment variable TOKENIZERS_PARALLELISM=(true | false)\n",
      "huggingface/tokenizers: The current process just got forked, after parallelism has already been used. Disabling parallelism to avoid deadlocks...\n",
      "To disable this warning, you can either:\n",
      "\t- Avoid using `tokenizers` before the fork if possible\n",
      "\t- Explicitly set the environment variable TOKENIZERS_PARALLELISM=(true | false)\n",
      "huggingface/tokenizers: The current process just got forked, after parallelism has already been used. Disabling parallelism to avoid deadlocks...\n",
      "To disable this warning, you can either:\n",
      "\t- Avoid using `tokenizers` before the fork if possible\n",
      "\t- Explicitly set the environment variable TOKENIZERS_PARALLELISM=(true | false)\n",
      "To disable this warning, you can either:\n",
      "\t- Avoid using `tokenizers` before the fork if possible\n",
      "\t- Explicitly set the environment variable TOKENIZERS_PARALLELISM=(true | false)\n",
      "huggingface/tokenizers: The current process just got forked, after parallelism has already been used. Disabling parallelism to avoid deadlocks...\n",
      "To disable this warning, you can either:\n",
      "\t- Avoid using `tokenizers` before the fork if possible\n",
      "\t- Explicitly set the environment variable TOKENIZERS_PARALLELISM=(true | false)\n",
      "huggingface/tokenizers: The current process just got forked, after parallelism has already been used. Disabling parallelism to avoid deadlocks...\n",
      "To disable this warning, you can either:\n",
      "\t- Avoid using `tokenizers` before the fork if possible\n",
      "\t- Explicitly set the environment variable TOKENIZERS_PARALLELISM=(true | false)\n",
      "To disable this warning, you can either:\n",
      "\t- Avoid using `tokenizers` before the fork if possible\n",
      "\t- Explicitly set the environment variable TOKENIZERS_PARALLELISM=(true | false)\n"
     ]
    }
   ],
   "source": [
    "learner.fit_one_cycle(2, slice( 0.009120108559727669,.0003311311302240938))\n"
   ]
  },
  {
   "cell_type": "code",
   "execution_count": 42,
   "metadata": {
    "execution": {
     "iopub.execute_input": "2023-08-22T05:32:06.160568Z",
     "iopub.status.busy": "2023-08-22T05:32:06.159757Z",
     "iopub.status.idle": "2023-08-22T05:32:06.247577Z",
     "shell.execute_reply": "2023-08-22T05:32:06.245849Z",
     "shell.execute_reply.started": "2023-08-22T05:32:06.160529Z"
    }
   },
   "outputs": [
    {
     "data": {
      "text/plain": [
       "Path('models/cartoon-classifier-stage_albert-1.pth')"
      ]
     },
     "execution_count": 42,
     "metadata": {},
     "output_type": "execute_result"
    }
   ],
   "source": [
    "learner.save(\"cartoon-classifier-stage_albert-1\")"
   ]
  },
  {
   "cell_type": "code",
   "execution_count": 43,
   "metadata": {
    "execution": {
     "iopub.execute_input": "2023-08-22T05:33:07.533797Z",
     "iopub.status.busy": "2023-08-22T05:33:07.533300Z",
     "iopub.status.idle": "2023-08-22T05:33:08.147767Z",
     "shell.execute_reply": "2023-08-22T05:33:08.146687Z",
     "shell.execute_reply.started": "2023-08-22T05:33:07.533758Z"
    }
   },
   "outputs": [],
   "source": [
    "learner.export(\"models/cartoon-classifier-stage-1.pkl\")"
   ]
  }
 ],
 "metadata": {
  "kernelspec": {
   "display_name": "Python 3 (ipykernel)",
   "language": "python",
   "name": "python3"
  },
  "language_info": {
   "codemirror_mode": {
    "name": "ipython",
    "version": 3
   },
   "file_extension": ".py",
   "mimetype": "text/x-python",
   "name": "python",
   "nbconvert_exporter": "python",
   "pygments_lexer": "ipython3",
   "version": "3.9.7"
  }
 },
 "nbformat": 4,
 "nbformat_minor": 4
}
