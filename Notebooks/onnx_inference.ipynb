{
 "cells": [
  {
   "cell_type": "code",
   "execution_count": 26,
   "metadata": {
    "execution": {
     "iopub.execute_input": "2023-08-21T06:27:29.259901Z",
     "iopub.status.busy": "2023-08-21T06:27:29.259422Z",
     "iopub.status.idle": "2023-08-21T06:27:29.269029Z",
     "shell.execute_reply": "2023-08-21T06:27:29.267762Z",
     "shell.execute_reply.started": "2023-08-21T06:27:29.259836Z"
    }
   },
   "outputs": [],
   "source": [
    "import pandas as pd\n",
    "import torch\n",
    "from transformers import AutoModelForSequenceClassification, AutoTokenizer\n",
    "from fastai.text.all import *\n",
    "from blurr.text.data.all import *\n",
    "from blurr.text.modeling.all import *"
   ]
  },
  {
   "cell_type": "code",
   "execution_count": 71,
   "metadata": {
    "execution": {
     "iopub.execute_input": "2023-08-21T13:24:44.283227Z",
     "iopub.status.busy": "2023-08-21T13:24:44.282711Z",
     "iopub.status.idle": "2023-08-21T13:24:44.701017Z",
     "shell.execute_reply": "2023-08-21T13:24:44.699906Z",
     "shell.execute_reply.started": "2023-08-21T13:24:44.283190Z"
    }
   },
   "outputs": [
    {
     "data": {
      "text/html": [
       "<div>\n",
       "<style scoped>\n",
       "    .dataframe tbody tr th:only-of-type {\n",
       "        vertical-align: middle;\n",
       "    }\n",
       "\n",
       "    .dataframe tbody tr th {\n",
       "        vertical-align: top;\n",
       "    }\n",
       "\n",
       "    .dataframe thead th {\n",
       "        text-align: right;\n",
       "    }\n",
       "</style>\n",
       "<table border=\"1\" class=\"dataframe\">\n",
       "  <thead>\n",
       "    <tr style=\"text-align: right;\">\n",
       "      <th></th>\n",
       "      <th>Title</th>\n",
       "      <th>Description</th>\n",
       "      <th>Genre</th>\n",
       "    </tr>\n",
       "  </thead>\n",
       "  <tbody>\n",
       "    <tr>\n",
       "      <th>0</th>\n",
       "      <td>Attack on Titan The Final Season: The Final Chapters</td>\n",
       "      <td>Final part of Attack on Titan The Final Season.</td>\n",
       "      <td>['Action', 'Drama', 'Fantasy', 'Shounen', 'Dark Fantasy', 'Military', 'War', 'Based on a Manga']</td>\n",
       "    </tr>\n",
       "    <tr>\n",
       "      <th>1</th>\n",
       "      <td>Fruits Basket the Final Season</td>\n",
       "      <td>The final arc of Fruits Basket.</td>\n",
       "      <td>['Drama', 'Fantasy', 'Romance', 'Shoujo', 'Animal Transformation', 'Contemporary Fantasy', 'Curse', 'Dysfunctional Families', 'Mental Illness', 'Orphans', 'Zodiac', 'Based on a Manga']</td>\n",
       "    </tr>\n",
       "    <tr>\n",
       "      <th>2</th>\n",
       "      <td>Fullmetal Alchemist: Brotherhood</td>\n",
       "      <td>The foundation of alchemy is based on the law of equivalent exchange; you cannot produce something from nothing. As such, alchemy is bound by one taboo - human transmutation. Four years ago two young brothers, Edward and Alphonse Elric, broke this taboo when they tried to resurrect their dead mother. During the process Al's body disintegrated and Ed lost his leg. In a desperate attempt to prevent his brother from disappearing completely, Ed sacrificed one of his arms so he could affix Al's soul to a suit of armor. When his missing limbs are replaced by auto mail parts, Ed bears the name of...</td>\n",
       "      <td>['Action', 'Adventure', 'Drama', 'Fantasy', 'Mystery', 'Shounen', 'Conspiracy', 'Death of a Loved One', 'Military', 'Siblings', 'Based on a Manga']</td>\n",
       "    </tr>\n",
       "    <tr>\n",
       "      <th>3</th>\n",
       "      <td>Demon Slayer: Kimetsu no Yaiba - Entertainment District Arc</td>\n",
       "      <td>Tanjiro and his friends accompany the Hashira Tengen Uzui to an entertainment district where Tengen’s female ninja agents were gathering information on a demon before they suddenly disappeared. In order to investigate, Tanjiro and the others disguise themselves as women to sneak in!</td>\n",
       "      <td>['Action', 'Adventure', 'Shounen', 'Demons', 'Historical', 'Martial Arts', 'Orphans', 'Siblings', 'Supernatural', 'Swordplay', 'Based on a Manga']</td>\n",
       "    </tr>\n",
       "    <tr>\n",
       "      <th>4</th>\n",
       "      <td>Bleach: Thousand-Year Blood War</td>\n",
       "      <td>The peace is suddenly broken when warning sirens blare through the Soul Society. Residents there are disappearing without a trace and nobody knows who's behind it. Meanwhile, a dark shadow is also extending itself toward Ichigo and his friends in Karakura Town…</td>\n",
       "      <td>['Action', 'Comedy', 'Drama', 'Shounen', 'Afterlife', 'Ghosts', 'Shinigami', 'Supernatural', 'War', 'Based on a Manga']</td>\n",
       "    </tr>\n",
       "  </tbody>\n",
       "</table>\n",
       "</div>"
      ],
      "text/plain": [
       "                                                         Title  \\\n",
       "0         Attack on Titan The Final Season: The Final Chapters   \n",
       "1                               Fruits Basket the Final Season   \n",
       "2                             Fullmetal Alchemist: Brotherhood   \n",
       "3  Demon Slayer: Kimetsu no Yaiba - Entertainment District Arc   \n",
       "4                              Bleach: Thousand-Year Blood War   \n",
       "\n",
       "                                                                                                                                                                                                                                                                                                                                                                                                                                                                                                                                                                                                               Description  \\\n",
       "0                                                                                                                                                                                                                                                                                                                                                                                                                                                                                                                                                                          Final part of Attack on Titan The Final Season.   \n",
       "1                                                                                                                                                                                                                                                                                                                                                                                                                                                                                                                                                                                          The final arc of Fruits Basket.   \n",
       "2  The foundation of alchemy is based on the law of equivalent exchange; you cannot produce something from nothing. As such, alchemy is bound by one taboo - human transmutation. Four years ago two young brothers, Edward and Alphonse Elric, broke this taboo when they tried to resurrect their dead mother. During the process Al's body disintegrated and Ed lost his leg. In a desperate attempt to prevent his brother from disappearing completely, Ed sacrificed one of his arms so he could affix Al's soul to a suit of armor. When his missing limbs are replaced by auto mail parts, Ed bears the name of...   \n",
       "3                                                                                                                                                                                                                                                                                                                             Tanjiro and his friends accompany the Hashira Tengen Uzui to an entertainment district where Tengen’s female ninja agents were gathering information on a demon before they suddenly disappeared. In order to investigate, Tanjiro and the others disguise themselves as women to sneak in!    \n",
       "4                                                                                                                                                                                                                                                                                                                                                    The peace is suddenly broken when warning sirens blare through the Soul Society. Residents there are disappearing without a trace and nobody knows who's behind it. Meanwhile, a dark shadow is also extending itself toward Ichigo and his friends in Karakura Town…   \n",
       "\n",
       "                                                                                                                                                                                      Genre  \n",
       "0                                                                                          ['Action', 'Drama', 'Fantasy', 'Shounen', 'Dark Fantasy', 'Military', 'War', 'Based on a Manga']  \n",
       "1  ['Drama', 'Fantasy', 'Romance', 'Shoujo', 'Animal Transformation', 'Contemporary Fantasy', 'Curse', 'Dysfunctional Families', 'Mental Illness', 'Orphans', 'Zodiac', 'Based on a Manga']  \n",
       "2                                       ['Action', 'Adventure', 'Drama', 'Fantasy', 'Mystery', 'Shounen', 'Conspiracy', 'Death of a Loved One', 'Military', 'Siblings', 'Based on a Manga']  \n",
       "3                                        ['Action', 'Adventure', 'Shounen', 'Demons', 'Historical', 'Martial Arts', 'Orphans', 'Siblings', 'Supernatural', 'Swordplay', 'Based on a Manga']  \n",
       "4                                                                   ['Action', 'Comedy', 'Drama', 'Shounen', 'Afterlife', 'Ghosts', 'Shinigami', 'Supernatural', 'War', 'Based on a Manga']  "
      ]
     },
     "execution_count": 71,
     "metadata": {},
     "output_type": "execute_result"
    }
   ],
   "source": [
    "df = pd.read_csv(\"/kaggle/input/cartoon-genre-classifer/final_preprocessed_data.csv\")\n",
    "df.head()"
   ]
  },
  {
   "cell_type": "code",
   "execution_count": 72,
   "metadata": {
    "execution": {
     "iopub.execute_input": "2023-08-21T13:24:50.961993Z",
     "iopub.status.busy": "2023-08-21T13:24:50.961463Z",
     "iopub.status.idle": "2023-08-21T13:24:51.013096Z",
     "shell.execute_reply": "2023-08-21T13:24:51.012121Z",
     "shell.execute_reply.started": "2023-08-21T13:24:50.961950Z"
    }
   },
   "outputs": [
    {
     "data": {
      "text/plain": [
       "(24337, 3)"
      ]
     },
     "execution_count": 72,
     "metadata": {},
     "output_type": "execute_result"
    }
   ],
   "source": [
    "df = df.dropna().reset_index(drop=True)\n",
    "df.shape"
   ]
  },
  {
   "cell_type": "code",
   "execution_count": 75,
   "metadata": {
    "execution": {
     "iopub.execute_input": "2023-08-21T13:26:35.195807Z",
     "iopub.status.busy": "2023-08-21T13:26:35.195289Z",
     "iopub.status.idle": "2023-08-21T13:26:35.792850Z",
     "shell.execute_reply": "2023-08-21T13:26:35.791856Z",
     "shell.execute_reply.started": "2023-08-21T13:26:35.195718Z"
    }
   },
   "outputs": [
    {
     "name": "stdout",
     "output_type": "stream",
     "text": [
      "Number of Genres: 655\n",
      "{'Action': 7885, 'Drama': 4540, 'Fantasy': 6089, 'Shounen': 4957, 'Dark Fantasy': 83, 'Military': 1018, 'War': 184, 'Based on a Manga': 2431, 'Romance': 4322, 'Shoujo': 1166, 'Animal Transformation': 41, 'Contemporary Fantasy': 235, 'Curse': 42, 'Dysfunctional Families': 7, 'Mental Illness': 22, 'Orphans': 108, 'Zodiac': 8, 'Adventure': 4613, 'Mystery': 1325, 'Conspiracy': 41, 'Death of a Loved One': 43, 'Siblings': 123, 'Demons': 604, 'Historical': 1288, 'Martial Arts': 582, 'Supernatural': 3068, 'Swordplay': 182, 'Comedy': 9207, 'Afterlife': 21, 'Ghosts': 45, 'Shinigami': 17, 'Ancient China': 82, 'Chinese Animation': 547, 'Cultivation': 68, 'Xianxia': 36, 'Based on a Web Novel': 113, 'Horror': 789, 'Isolated Society': 23, 'Outside World': 22, 'Post-apocalyptic': 142, 'Body Sharing': 13, 'Exorcists': 26, 'Monsters': 237, 'School Life': 900, 'Urban Fantasy': 128, 'Sports': 929, 'Animeism': 30, 'School Club': 185, 'Tournaments': 139, 'Volleyball': 19, 'Seinen': 2015, 'Episodic': 174, 'Mind Games': 20, 'Romantic Comedy': 58, 'Student Council': 21, 'Trains': 31, 'Body Swapping': 15, 'Gender Bender': 18, 'Opposites Attract': 19, 'Original Work': 1080, 'Disability': 20, 'Melancholy': 99, 'Assassins': 35, 'Espionage': 7, 'Family Life': 44, 'Psychic Powers': 58, 'Secret Identity': 25, 'Child Protagonists': 182, 'Superpowers': 361, 'Slice of Life': 3255, 'Acting': 20, 'Idols': 148, 'Psychological': 735, 'Reincarnation': 113, 'Showbiz': 92, 'Social Media': 13, 'Mecha': 1609, 'Sci Fi': 1206, 'Overpowered Main Characters': 144, 'Political': 122, 'Real Robot': 77, 'Rebellions': 29, 'Rivalries': 19, 'Royalty': 85, 'Terrorism': 23, 'Aliens': 231, 'Feudal Japan': 117, 'Gag': 169, 'Parody': 579, 'Samurai': 348, 'Cheats': 22, 'Isekai': 200, 'Kingdom Building': 10, 'Magic': 1888, 'Management': 10, 'Modern Knowledge': 17, 'Person in a Strange World': 257, 'RPG': 95, 'Slimes': 10, 'Zombies': 36, 'Crude': 66, 'Slapstick': 97, 'Time Travel': 125, 'BL': 83, 'Shounen-ai': 62, 'Demon King': 17, 'Gods': 57, 'Heaven': 4, 'Interspecies Relationship': 45, 'Non-Human Protagonists': 885, 'Religion': 24, 'Breaking the Fourth Wall': 49, 'Music': 591, 'noitaminA': 59, 'Bodyguards': 19, 'Cats': 165, 'Countryside': 111, 'Iyashikei': 121, 'Japanese Mythology': 108, 'Youkai': 74, 'Adult Couples': 55, 'Coming of Age': 88, 'Illness': 12, 'Based on a Visual Novel': 181, 'Thriller': 292, 'Time Loop': 7, 'Family Friendly': 734, 'Love Triangle': 72, 'Cyborgs': 57, 'Satire': 40, 'Superheroes': 104, 'Lifestyle Change': 78, 'Witches': 39, 'Based on a Novel': 232, 'Europe': 125, 'Italy': 9, 'Orphanage': 1, 'England': 41, 'Medieval': 89, 'Revenge': 55, 'Weak to Strong': 20, 'Based on a Light Novel': 535, 'America': 44, 'Criminals': 49, 'Gangs': 67, 'CG Animation': 475, 'NEET': 22, 'Teaching': 14, 'Boxing': 17, 'Hand to Hand Combat': 113, 'Detectives': 100, 'Guns': 92, 'Mafia': 9, 'Animal Characteristics': 86, 'Childcare': 54, 'Single Parent': 15, 'Werewolves': 11, 'Monster-of-the-week': 53, 'Proxy Battles': 72, 'Master-Servant Relationship': 35, 'Board Games': 14, 'Shogi': 4, 'Love Confession': 7, 'Age Transformation': 49, 'Crime': 17, 'Second Chance': 8, 'Serial Killers': 16, 'Basketball': 26, 'Loneliness': 16, 'Rock Music': 18, 'Based on a 4-Koma Manga': 138, 'Environmental': 27, 'Forest': 59, 'Wolves': 13, '19th Century': 63, 'Sherlock Holmes': 10, 'Ecchi': 1806, 'Tsundere': 40, 'Educational': 52, 'Prehistoric': 16, 'Survival': 40, 'Racing': 65, 'Skateboarding': 2, 'Bounty Hunters': 16, 'Noir': 44, 'Outer Space': 155, 'Western': 10, 'Josei': 169, 'Apprenticeship': 23, 'Rakugo': 8, 'Androids': 83, 'Robots': 179, 'Senpai-Kouhai Relationship': 14, '15th Century': 8, 'Vampires': 90, 'Based on a Video Game': 300, 'All-Boys School': 12, 'Delinquents': 74, 'Fudanshi': 3, 'Otaku Culture': 67, 'Chibi': 155, 'Short Episodes': 752, 'LGBT Themes': 38, 'Soccer': 29, 'Work Life': 125, 'Star-Crossed Lovers': 12, 'Cyberpunk': 47, 'Codependency': 5, 'Mature Romance': 50, 'Betrayal': 3, 'Framed for a Crime': 4, 'Summoned Into Another World': 36, 'Classical Music': 17, 'Unrequited Love': 13, 'Recap': 169, 'Prison': 14, 'Anime Industry': 9, 'Manga Industry': 20, 'Voice Acting': 6, 'Writers': 19, 'Psychopaths': 9, 'Vigilantes': 14, 'Human Experimentation': 30, 'Based on an Eroge': 87, 'Deal with the Devil': 7, 'Pirates': 44, 'Animal Protagonists': 400, 'Anthropomorphic': 312, 'The Great Outdoors': 8, 'Butlers': 13, 'Harem': 1041, 'Dungeon': 20, 'Guilds': 26, 'Ice Skating': 7, 'Baseball': 66, 'Space Opera': 35, 'Korean Animation': 142, 'Gyaru': 3, 'Skeletons': 9, 'Trapped in a Video Game': 19, 'Virtual Reality': 52, 'Art': 37, 'Island': 97, 'Hacking': 18, 'Ninja': 59, 'Reverse Harem': 70, 'Crossdressing': 26, 'Debt': 11, 'Hosts': 2, 'Social Gap': 16, 'Apartment Life': 12, 'Neighbors': 41, 'Combining Mecha': 29, 'Super Robot': 53, 'Boarding House': 35, 'Cooking': 56, 'Culinary School': 7, 'Food and Beverage': 87, 'Medical': 30, 'Childhood Friends': 35, 'GL': 42, 'Shoujo-ai': 36, 'Cohabitation': 21, 'Dragons': 33, 'Maids': 29, 'Monster Girls': 10, 'Reverse Isekai': 12, 'Roommates': 14, 'Economics': 10, 'God-Human Relationship': 10, 'Amnesia': 33, 'Birds': 32, 'Amusement Park': 11, 'Prophecy': 11, 'Mercenaries': 29, 'Doctors': 21, 'Germany': 6, 'Police': 343, 'Newly Co-ed School': 18, 'High Stakes Games': 47, 'Transfer Students': 31, 'Cars': 73, 'Tutors': 10, 'Insects': 47, 'Urban Legend': 6, 'Monster School': 10, 'Esports': 3, 'MMORPG': 30, 'Age Gap': 23, 'Library': 10, 'Nobility': 31, 'Mars': 10, 'Treasure Hunters': 7, 'Magical Girl': 170, 'France': 19, 'Kickboxing': 2, 'Apocalypse': 11, 'Boarding School': 30, 'Thieves': 64, 'College': 17, 'Ocean': 60, 'Scuba Diving': 2, 'Dystopia': 45, 'Steampunk': 16, 'Married Life': 16, 'Poverty': 12, 'World War 2': 27, 'Mysterious Shop': 7, 'Coworkers': 65, 'Fujoshi': 3, 'Salaryman': 14, 'Bar': 4, 'Play or Die': 14, 'PVP': 15, 'Music School': 16, 'Astronauts': 13, 'Childhood Promise': 8, 'Angels': 37, 'Based on a Webtoon': 66, 'Desert': 18, 'Shorts': 652, 'Christmas': 27, 'Dancing': 25, 'Romance of the Three Kingdoms': 11, 'Leijiverse': 23, 'Kidnapping': 11, 'Elemental Powers': 65, 'Firefighters': 7, 'Dark Comedy': 27, 'Hell': 9, 'Boss-Employee Relationship': 8, 'Editors': 5, 'Yaoi Hand Syndrome': 7, 'Fashion': 11, 'Cycling': 16, 'Gambling': 10, 'Cafe': 18, 'Dinosaurs': 25, 'Tennis': 19, 'Genies': 4, 'Middle Eastern': 19, 'All-Girls School': 40, 'Swimming': 14, 'Mansion': 21, 'Promotional': 313, 'Abstract': 223, 'Blackmail': 10, 'Androphobia': 5, 'Restaurants': 25, 'Based on a Mobile Game': 137, 'Archery': 4, 'Earthquake': 5, 'Natural Disaster': 8, 'Sudden Girlfriend Appearance': 23, 'Crossover': 36, 'Agriculture': 6, 'Pets': 65, 'Panty Shots': 92, 'Yakuza': 23, 'Aging': 6, 'No Dialogue': 201, 'Wuxia': 18, 'Based on a Doujinshi': 23, 'Motorcycles': 21, 'Based on a Fairy Tale': 27, 'Mermaids': 13, 'Magic School': 40, 'World Masterpiece Theater': 16, 'Fated Lovers': 5, 'PVE': 7, 'Aviation': 27, 'Biographies': 8, 'Transforming Mecha': 34, 'Art School': 17, 'Sanrio Characters': 36, 'Stalkers': 2, '18th Century': 5, 'Greek Mythology': 13, 'Power Suits': 39, 'Pandemic': 22, 'Tanuki': 5, 'Based on an Otome Game': 37, 'Split Personality': 6, 'Hotels and Inns': 9, 'Villainess': 8, 'Video Game Industry': 9, 'Kaijuu': 11, 'Arranged Marriage': 14, 'Norse Mythology': 10, 'Bears': 37, 'Dogs': 52, 'Jungle': 19, 'Vietnam': 1, 'Dream World': 11, 'Baking': 5, 'Journey to the West': 18, 'Astronomy': 5, 'Ghost Hunters': 8, 'Go': 2, 'Yaoi': 129, 'Submarine': 6, 'Gymnastics': 7, 'Buddhism': 7, 'Christianity': 7, 'Playboys': 3, 'Photography': 13, 'Anime Tamago': 31, 'Football': 2, 'French Revolution': 3, 'Space Pirates': 20, 'Fake Romance': 6, 'Transported Into a Novel': 5, 'Flash Animation': 47, 'Battle Royale': 5, 'Obsessive Love': 2, 'Possessive Lovers': 2, 'Student-Teacher Relationship': 11, 'Sumo Wrestling': 5, 'Wrestling': 15, 'Pigs': 23, 'VTubers': 19, 'Based on a Card Game': 40, 'Anime no Me': 4, 'Recipes': 3, 'Brother Complex': 9, 'Doujinshi Industry': 10, 'Commercials': 92, 'Ballet Dancing': 2, 'Rabbits': 26, 'San-X Characters': 5, 'Stop Motion Animation': 120, 'Sentient Mecha': 13, 'Ship': 11, 'Catholic School': 7, 'Slow Life': 7, 'Military School': 9, \"Valentine's Day\": 7, 'Alice in Wonderland': 7, 'Circus': 5, 'Sentai': 22, 'Tokusatsu': 37, 'Modelling': 4, 'Concubines': 1, 'Borderline H': 18, 'Horse Racing': 4, '16th Century': 7, 'Elves': 11, 'Badminton': 2, 'Opening Animation': 50, 'Penguins': 13, 'Based on a TV Series': 9, 'Fetish': 11, 'Mahjong': 6, 'Picture Drama': 13, 'Gynophobia': 1, 'Based on a Play': 4, 'Antarctica': 1, 'Mountain Climbing': 5, 'Fishing': 7, 'Collections': 15, 'Black and White': 142, 'India': 2, 'Frogs': 11, 'Dentists': 1, 'Based on a Movie': 14, 'Alcohol': 7, 'Ghibli Museum Shorts': 6, 'Golf': 3, \"Japan Animator's Exhibition\": 22, 'Poland': 1, 'Convenience Store': 5, 'Food Protagonists': 37, 'Vocaloid': 63, 'Disney': 16, 'Africa': 6, 'Remarriage': 4, 'Yuri': 17, 'Lawyers': 2, 'Dragon Quest': 3, 'Zoo': 3, 'Anime no Chikara': 3, 'Card Battles': 46, 'Egyptian Mythology': 5, 'Rugby': 3, 'Running': 5, 'Track and Field': 3, 'Based on a Song': 6, 'Bookstore': 3, 'Inheritance': 4, 'Based on a Comic Book': 13, 'Based on a Cartoon': 10, 'Minna no Uta': 70, 'Tourism': 16, 'Judo': 3, 'Seals': 3, 'Landlords': 1, 'Infidelity': 2, 'Novel Industry': 2, 'Ping Pong': 2, 'Based on a Picture Book': 19, 'Dodgeball': 2, 'Russia': 2, 'Hamsters': 4, 'Canada': 4, 'Pandas': 3, 'Autobiographies': 3, 'Station Identifications': 15, 'Cheerleaders': 1, 'Sheep': 2, 'Cocktails': 3, '17th Century': 3, 'Unicorns': 2, 'Pregnancy': 1, 'Journalism': 5, 'Bathhouse': 2, 'Ga-nime': 2, 'POV': 10, 'Nurses': 2, 'Surfing': 2, 'Sister Complex': 3, 'Greece': 4, 'Based on a Religious Text': 3, 'Happy Science': 3, 'Australia': 2, 'Smut': 10, 'Adult Industry': 2, 'Kendo': 3, 'Switzerland': 3, 'Banter': 6, 'BDSM': 2, 'Impersonation': 2, 'Marvel Comics': 5, 'Japanese Anime Classic Collection': 17, 'Stockholm Syndrome': 1, 'Anime Bancho': 3, 'Water Polo': 1, 'CEOs': 1, 'Eunuchs': 1, 'Animation, Short, Adventure': 9, 'Animation, Adventure, Comedy': 33, 'Animation, Family, Comedy': 1, 'Animation, Comedy, Family': 24, 'Animation, Action, Comedy': 10, 'Animation, Action, Adventure': 61, 'Animation, Comedy': 2, 'Animation, Short, Action': 5, 'Animation, Comedy, Crime': 1, 'Adventure, Drama, Family': 1, 'Animation, Short, Family': 1, 'Adventure, Animation, Comedy': 1, 'Documentary, Comedy, Family': 1, 'Animation, Family': 15, 'Animation, Adventure, Family': 4, 'Animation, Family, Fantasy': 6, 'Animation, Adventure, Drama': 2, 'Family, Fantasy, Music': 1, 'Family, Fantasy, Musical': 1, 'Adventure, Family, Fantasy': 1, 'Comedy, Drama, Family': 2, 'Comedy, Family, Musical': 1, 'Animation, Family, Sci-Fi': 1, 'Adventure, Animation, Family': 2, 'Adventure, Comedy, Family': 1, 'Action, Family, Sci-Fi': 1, 'Adventure, Action, Animation': 1, 'Animation, Comedy, Sci-Fi': 1, 'Animation, Drama, Sport': 1, 'Action, Adventure, Comedy': 1, 'Animation, Comedy, Sport': 1, 'Animation, Action': 1, 'Animation, Action, Sci-Fi': 2, 'Action, Comedy, Drama': 1, 'Action, Comedy, Family': 1, 'Action, Animation, Adventure': 1, 'Animation, Action, Family': 3, 'Action, Adventure, Fantasy': 1, 'Animation, Family, History': 1, 'Animation, Fantasy': 1, 'Adventure, Animation': 1, 'Animation, Action, Crime': 1, 'Super Power': 787, 'Violence': 58, 'Juujin': 21, 'Love Polygon': 12, 'Middle School': 2, 'Clubs': 3, 'Game': 342, 'Kids': 201, 'School': 2538, 'Tournament': 8, 'Sci-Fi': 2923, 'Space': 384, 'Anthropomorphism': 1, 'Cartoon': 1, 'Vampire': 346, 'Combat': 2, 'Scifi': 174, 'Post-Apocalyptic': 7, 'Piloted Robots': 31, 'Transforming Robots': 1, 'Humanoid': 1, 'Daily Life': 16, 'High School': 66, 'Boing': 1, 'Bishounen': 24, 'Parallel Universe': 6, 'High Fantasy': 1, 'Tragedy': 72, 'Manga': 1, 'Shounen Ai': 271, 'Scfi': 9, 'The': 14, 'Story of Saiunkoku Season 2': 14, 'Special': 6, 'Mahou Shoujo': 72, 'Shoujo Ai': 164, 'Navy': 4, 'Underworld': 12, 'Driving': 34, 'Angst': 19, 'Gunfights': 34, 'Science Fiction': 17, 'Demon': 17, 'Special Squads': 20, 'Law and Order': 20, 'Dub': 34, 'Ninjas': 5, 'Human Enhancement': 8, 'Dementia': 100, 'Deity': 19, 'Suspense': 40, 'Cops': 16, 'Super': 18, 'Boys Love': 17, 'Erotica': 17, 'Of Haruhi Suzumiya Season 2': 22, 'Teen': 12, 'Titans Go!': 12, 'Romantic Subtext': 6, 'Gore': 10, 'Gag Humor': 33, 'Gourmet': 54, 'Ova': 22, 'Funimation Entertainmentl': 12, 'Geneon Universal Entertainment': 12, 'Madhouse': 12, 'Code': 20, 'Geass: Lelouch of the Rebellion R2 Special Edition Zero Requiem': 20, 'Workplace': 19, 'Organized Crime': 21, 'Adult Cast': 21, 'Visual Arts': 23, 'Movie': 13, 'Chobits': 2, 'Specials': 2}\n"
     ]
    }
   ],
   "source": [
    "genres_list = df.Genre.to_list()\n",
    "genre_count = {}\n",
    "for genres in genres_list:\n",
    "  genre_list = eval(genres)\n",
    "  for genre in genre_list:\n",
    "    if genre in genre_count.keys():\n",
    "      genre_count[genre] += 1\n",
    "    else:\n",
    "      genre_count[genre] = 1\n",
    "print(f\"Number of Genres: {len(genre_count)}\")\n",
    "print(genre_count)"
   ]
  },
  {
   "cell_type": "code",
   "execution_count": 76,
   "metadata": {
    "execution": {
     "iopub.execute_input": "2023-08-21T13:26:45.301946Z",
     "iopub.status.busy": "2023-08-21T13:26:45.301404Z",
     "iopub.status.idle": "2023-08-21T13:26:45.324157Z",
     "shell.execute_reply": "2023-08-21T13:26:45.323027Z",
     "shell.execute_reply.started": "2023-08-21T13:26:45.301896Z"
    }
   },
   "outputs": [
    {
     "data": {
      "text/plain": [
       "(599,\n",
       " ['Dark Fantasy',\n",
       "  'War',\n",
       "  'Animal Transformation',\n",
       "  'Curse',\n",
       "  'Dysfunctional Families'])"
      ]
     },
     "execution_count": 76,
     "metadata": {},
     "output_type": "execute_result"
    }
   ],
   "source": [
    "threshold = int(len(df) * 0.01)\n",
    "rare_genres = [key for key, value in genre_count.items() if value < threshold]\n",
    "len(rare_genres), rare_genres[:5]"
   ]
  },
  {
   "cell_type": "code",
   "execution_count": 77,
   "metadata": {
    "execution": {
     "iopub.execute_input": "2023-08-21T13:26:53.563670Z",
     "iopub.status.busy": "2023-08-21T13:26:53.563072Z",
     "iopub.status.idle": "2023-08-21T13:26:53.575244Z",
     "shell.execute_reply": "2023-08-21T13:26:53.573363Z",
     "shell.execute_reply.started": "2023-08-21T13:26:53.563625Z"
    }
   },
   "outputs": [
    {
     "data": {
      "text/plain": [
       "(599,\n",
       " ['Dark Fantasy',\n",
       "  'War',\n",
       "  'Animal Transformation',\n",
       "  'Curse',\n",
       "  'Dysfunctional Families'])"
      ]
     },
     "execution_count": 77,
     "metadata": {},
     "output_type": "execute_result"
    }
   ],
   "source": [
    "threshold = int(len(df) * 0.01)\n",
    "rare_genres = [key for key, value in genre_count.items() if value < threshold]\n",
    "len(rare_genres), rare_genres[:5]"
   ]
  },
  {
   "cell_type": "code",
   "execution_count": 78,
   "metadata": {
    "execution": {
     "iopub.execute_input": "2023-08-21T13:27:00.851930Z",
     "iopub.status.busy": "2023-08-21T13:27:00.851326Z",
     "iopub.status.idle": "2023-08-21T13:27:02.726780Z",
     "shell.execute_reply": "2023-08-21T13:27:02.725775Z",
     "shell.execute_reply.started": "2023-08-21T13:27:00.851886Z"
    }
   },
   "outputs": [
    {
     "data": {
      "text/plain": [
       "(22582, 3)"
      ]
     },
     "execution_count": 78,
     "metadata": {},
     "output_type": "execute_result"
    }
   ],
   "source": [
    "gegenres_list = df.Genre.to_list()\n",
    "revised_genre_list = []\n",
    "indices_to_drop = []\n",
    "\n",
    "for idx, genres in enumerate(genres_list):\n",
    "  genre_list = eval(genres)\n",
    "  revised_genres = []\n",
    "\n",
    "  for genre in genre_list:\n",
    "    if genre not in rare_genres:\n",
    "      revised_genres.append(genre)\n",
    "\n",
    "  if len(revised_genres) == 0:\n",
    "    indices_to_drop.append(idx)\n",
    "  else:\n",
    "    revised_genre_list.append(revised_genres)\n",
    "df = df.drop(df.index[indices_to_drop]).reset_index(drop=True)\n",
    "# df = df.drop(indices_to_drop).reset_index(drop=True)\n",
    "df.shape"
   ]
  },
  {
   "cell_type": "code",
   "execution_count": 79,
   "metadata": {
    "execution": {
     "iopub.execute_input": "2023-08-21T13:27:08.729392Z",
     "iopub.status.busy": "2023-08-21T13:27:08.728908Z",
     "iopub.status.idle": "2023-08-21T13:27:08.752444Z",
     "shell.execute_reply": "2023-08-21T13:27:08.751480Z",
     "shell.execute_reply.started": "2023-08-21T13:27:08.729354Z"
    }
   },
   "outputs": [],
   "source": [
    "df['revised_genres'] = revised_genre_list"
   ]
  },
  {
   "cell_type": "code",
   "execution_count": 80,
   "metadata": {
    "execution": {
     "iopub.execute_input": "2023-08-21T13:27:22.331420Z",
     "iopub.status.busy": "2023-08-21T13:27:22.330921Z",
     "iopub.status.idle": "2023-08-21T13:27:22.402032Z",
     "shell.execute_reply": "2023-08-21T13:27:22.401089Z",
     "shell.execute_reply.started": "2023-08-21T13:27:22.331383Z"
    }
   },
   "outputs": [
    {
     "name": "stdout",
     "output_type": "stream",
     "text": [
      "Number of Genres: 56\n",
      "{'Action': 7885, 'Drama': 4540, 'Fantasy': 6089, 'Shounen': 4957, 'Military': 1018, 'Based on a Manga': 2431, 'Romance': 4322, 'Shoujo': 1166, 'Contemporary Fantasy': 235, 'Adventure': 4613, 'Mystery': 1325, 'Demons': 604, 'Historical': 1288, 'Martial Arts': 582, 'Supernatural': 3068, 'Comedy': 9207, 'Chinese Animation': 547, 'Horror': 789, 'Monsters': 237, 'School Life': 900, 'Sports': 929, 'Seinen': 2015, 'Original Work': 1080, 'Superpowers': 361, 'Slice of Life': 3255, 'Psychological': 735, 'Mecha': 1609, 'Sci Fi': 1206, 'Aliens': 231, 'Parody': 579, 'Samurai': 348, 'Magic': 1888, 'Person in a Strange World': 257, 'Non-Human Protagonists': 885, 'Music': 591, 'Thriller': 292, 'Family Friendly': 734, 'Based on a Novel': 232, 'Based on a Light Novel': 535, 'CG Animation': 475, 'Ecchi': 1806, 'Based on a Video Game': 300, 'Short Episodes': 752, 'Animal Protagonists': 400, 'Anthropomorphic': 312, 'Harem': 1041, 'Police': 343, 'Shorts': 652, 'Promotional': 313, 'Super Power': 787, 'Game': 342, 'School': 2538, 'Sci-Fi': 2923, 'Space': 384, 'Vampire': 346, 'Shounen Ai': 271}\n"
     ]
    }
   ],
   "source": [
    "revised_genres_list = df.revised_genres.to_list()\n",
    "revised_genre_count = {}\n",
    "for genres in revised_genres_list:\n",
    "  genre_list = genres\n",
    "  for genre in genre_list:\n",
    "    if genre in revised_genre_count.keys():\n",
    "      revised_genre_count[genre] += 1\n",
    "    else:\n",
    "      revised_genre_count[genre] = 1\n",
    "print(f\"Number of Genres: {len(revised_genre_count)}\")\n",
    "print(revised_genre_count)"
   ]
  },
  {
   "cell_type": "code",
   "execution_count": 23,
   "metadata": {
    "execution": {
     "iopub.execute_input": "2023-08-22T13:56:53.505547Z",
     "iopub.status.busy": "2023-08-22T13:56:53.504899Z",
     "iopub.status.idle": "2023-08-22T13:56:53.513418Z",
     "shell.execute_reply": "2023-08-22T13:56:53.512291Z",
     "shell.execute_reply.started": "2023-08-22T13:56:53.505507Z"
    }
   },
   "outputs": [],
   "source": [
    "categorical_genre_list = []\n",
    "revised_genres_list = df.revised_genres.to_list()\n",
    "\n",
    "for revised_genres in revised_genres_list:\n",
    "  categorical_list = [0] * len(encode_genre_types)\n",
    "  for genre in revised_genres:\n",
    "    genre_type_index = encode_genre_types[genre] \n",
    "    categorical_list[genre_type_index] = 1\n",
    "  categorical_genre_list.append(categorical_list)\n",
    "\n"
   ]
  },
  {
   "cell_type": "code",
   "execution_count": 85,
   "metadata": {
    "execution": {
     "iopub.execute_input": "2023-08-21T13:28:00.918937Z",
     "iopub.status.busy": "2023-08-21T13:28:00.918402Z",
     "iopub.status.idle": "2023-08-21T13:28:00.954911Z",
     "shell.execute_reply": "2023-08-21T13:28:00.953921Z",
     "shell.execute_reply.started": "2023-08-21T13:28:00.918893Z"
    }
   },
   "outputs": [
    {
     "data": {
      "text/html": [
       "<div>\n",
       "<style scoped>\n",
       "    .dataframe tbody tr th:only-of-type {\n",
       "        vertical-align: middle;\n",
       "    }\n",
       "\n",
       "    .dataframe tbody tr th {\n",
       "        vertical-align: top;\n",
       "    }\n",
       "\n",
       "    .dataframe thead th {\n",
       "        text-align: right;\n",
       "    }\n",
       "</style>\n",
       "<table border=\"1\" class=\"dataframe\">\n",
       "  <thead>\n",
       "    <tr style=\"text-align: right;\">\n",
       "      <th></th>\n",
       "      <th>Title</th>\n",
       "      <th>Description</th>\n",
       "      <th>Genre</th>\n",
       "      <th>revised_genres</th>\n",
       "      <th>genre_cat_list</th>\n",
       "    </tr>\n",
       "  </thead>\n",
       "  <tbody>\n",
       "    <tr>\n",
       "      <th>0</th>\n",
       "      <td>Attack on Titan The Final Season: The Final Chapters</td>\n",
       "      <td>Final part of Attack on Titan The Final Season.</td>\n",
       "      <td>['Action', 'Drama', 'Fantasy', 'Shounen', 'Dark Fantasy', 'Military', 'War', 'Based on a Manga']</td>\n",
       "      <td>[Action, Drama, Fantasy, Shounen, Military, Based on a Manga]</td>\n",
       "      <td>[1, 1, 1, 1, 1, 1, 0, 0, 0, 0, 0, 0, 0, 0, 0, 0, 0, 0, 0, 0, 0, 0, 0, 0, 0, 0, 0, 0, 0, 0, 0, 0, 0, 0, 0, 0, 0, 0, 0, 0, 0, 0, 0, 0, 0, 0, 0, 0, 0, 0, 0, 0, 0, 0, 0, 0]</td>\n",
       "    </tr>\n",
       "    <tr>\n",
       "      <th>1</th>\n",
       "      <td>Fruits Basket the Final Season</td>\n",
       "      <td>The final arc of Fruits Basket.</td>\n",
       "      <td>['Drama', 'Fantasy', 'Romance', 'Shoujo', 'Animal Transformation', 'Contemporary Fantasy', 'Curse', 'Dysfunctional Families', 'Mental Illness', 'Orphans', 'Zodiac', 'Based on a Manga']</td>\n",
       "      <td>[Drama, Fantasy, Romance, Shoujo, Contemporary Fantasy, Based on a Manga]</td>\n",
       "      <td>[0, 1, 1, 0, 0, 1, 1, 1, 1, 0, 0, 0, 0, 0, 0, 0, 0, 0, 0, 0, 0, 0, 0, 0, 0, 0, 0, 0, 0, 0, 0, 0, 0, 0, 0, 0, 0, 0, 0, 0, 0, 0, 0, 0, 0, 0, 0, 0, 0, 0, 0, 0, 0, 0, 0, 0]</td>\n",
       "    </tr>\n",
       "    <tr>\n",
       "      <th>2</th>\n",
       "      <td>Fullmetal Alchemist: Brotherhood</td>\n",
       "      <td>The foundation of alchemy is based on the law of equivalent exchange; you cannot produce something from nothing. As such, alchemy is bound by one taboo - human transmutation. Four years ago two young brothers, Edward and Alphonse Elric, broke this taboo when they tried to resurrect their dead mother. During the process Al's body disintegrated and Ed lost his leg. In a desperate attempt to prevent his brother from disappearing completely, Ed sacrificed one of his arms so he could affix Al's soul to a suit of armor. When his missing limbs are replaced by auto mail parts, Ed bears the name of...</td>\n",
       "      <td>['Action', 'Adventure', 'Drama', 'Fantasy', 'Mystery', 'Shounen', 'Conspiracy', 'Death of a Loved One', 'Military', 'Siblings', 'Based on a Manga']</td>\n",
       "      <td>[Action, Adventure, Drama, Fantasy, Mystery, Shounen, Military, Based on a Manga]</td>\n",
       "      <td>[1, 1, 1, 1, 1, 1, 0, 0, 0, 1, 1, 0, 0, 0, 0, 0, 0, 0, 0, 0, 0, 0, 0, 0, 0, 0, 0, 0, 0, 0, 0, 0, 0, 0, 0, 0, 0, 0, 0, 0, 0, 0, 0, 0, 0, 0, 0, 0, 0, 0, 0, 0, 0, 0, 0, 0]</td>\n",
       "    </tr>\n",
       "    <tr>\n",
       "      <th>3</th>\n",
       "      <td>Demon Slayer: Kimetsu no Yaiba - Entertainment District Arc</td>\n",
       "      <td>Tanjiro and his friends accompany the Hashira Tengen Uzui to an entertainment district where Tengen’s female ninja agents were gathering information on a demon before they suddenly disappeared. In order to investigate, Tanjiro and the others disguise themselves as women to sneak in!</td>\n",
       "      <td>['Action', 'Adventure', 'Shounen', 'Demons', 'Historical', 'Martial Arts', 'Orphans', 'Siblings', 'Supernatural', 'Swordplay', 'Based on a Manga']</td>\n",
       "      <td>[Action, Adventure, Shounen, Demons, Historical, Martial Arts, Supernatural, Based on a Manga]</td>\n",
       "      <td>[1, 0, 0, 1, 0, 1, 0, 0, 0, 1, 0, 1, 1, 1, 1, 0, 0, 0, 0, 0, 0, 0, 0, 0, 0, 0, 0, 0, 0, 0, 0, 0, 0, 0, 0, 0, 0, 0, 0, 0, 0, 0, 0, 0, 0, 0, 0, 0, 0, 0, 0, 0, 0, 0, 0, 0]</td>\n",
       "    </tr>\n",
       "    <tr>\n",
       "      <th>4</th>\n",
       "      <td>Bleach: Thousand-Year Blood War</td>\n",
       "      <td>The peace is suddenly broken when warning sirens blare through the Soul Society. Residents there are disappearing without a trace and nobody knows who's behind it. Meanwhile, a dark shadow is also extending itself toward Ichigo and his friends in Karakura Town…</td>\n",
       "      <td>['Action', 'Comedy', 'Drama', 'Shounen', 'Afterlife', 'Ghosts', 'Shinigami', 'Supernatural', 'War', 'Based on a Manga']</td>\n",
       "      <td>[Action, Comedy, Drama, Shounen, Supernatural, Based on a Manga]</td>\n",
       "      <td>[1, 1, 0, 1, 0, 1, 0, 0, 0, 0, 0, 0, 0, 0, 1, 1, 0, 0, 0, 0, 0, 0, 0, 0, 0, 0, 0, 0, 0, 0, 0, 0, 0, 0, 0, 0, 0, 0, 0, 0, 0, 0, 0, 0, 0, 0, 0, 0, 0, 0, 0, 0, 0, 0, 0, 0]</td>\n",
       "    </tr>\n",
       "  </tbody>\n",
       "</table>\n",
       "</div>"
      ],
      "text/plain": [
       "                                                         Title  \\\n",
       "0         Attack on Titan The Final Season: The Final Chapters   \n",
       "1                               Fruits Basket the Final Season   \n",
       "2                             Fullmetal Alchemist: Brotherhood   \n",
       "3  Demon Slayer: Kimetsu no Yaiba - Entertainment District Arc   \n",
       "4                              Bleach: Thousand-Year Blood War   \n",
       "\n",
       "                                                                                                                                                                                                                                                                                                                                                                                                                                                                                                                                                                                                               Description  \\\n",
       "0                                                                                                                                                                                                                                                                                                                                                                                                                                                                                                                                                                          Final part of Attack on Titan The Final Season.   \n",
       "1                                                                                                                                                                                                                                                                                                                                                                                                                                                                                                                                                                                          The final arc of Fruits Basket.   \n",
       "2  The foundation of alchemy is based on the law of equivalent exchange; you cannot produce something from nothing. As such, alchemy is bound by one taboo - human transmutation. Four years ago two young brothers, Edward and Alphonse Elric, broke this taboo when they tried to resurrect their dead mother. During the process Al's body disintegrated and Ed lost his leg. In a desperate attempt to prevent his brother from disappearing completely, Ed sacrificed one of his arms so he could affix Al's soul to a suit of armor. When his missing limbs are replaced by auto mail parts, Ed bears the name of...   \n",
       "3                                                                                                                                                                                                                                                                                                                             Tanjiro and his friends accompany the Hashira Tengen Uzui to an entertainment district where Tengen’s female ninja agents were gathering information on a demon before they suddenly disappeared. In order to investigate, Tanjiro and the others disguise themselves as women to sneak in!    \n",
       "4                                                                                                                                                                                                                                                                                                                                                    The peace is suddenly broken when warning sirens blare through the Soul Society. Residents there are disappearing without a trace and nobody knows who's behind it. Meanwhile, a dark shadow is also extending itself toward Ichigo and his friends in Karakura Town…   \n",
       "\n",
       "                                                                                                                                                                                      Genre  \\\n",
       "0                                                                                          ['Action', 'Drama', 'Fantasy', 'Shounen', 'Dark Fantasy', 'Military', 'War', 'Based on a Manga']   \n",
       "1  ['Drama', 'Fantasy', 'Romance', 'Shoujo', 'Animal Transformation', 'Contemporary Fantasy', 'Curse', 'Dysfunctional Families', 'Mental Illness', 'Orphans', 'Zodiac', 'Based on a Manga']   \n",
       "2                                       ['Action', 'Adventure', 'Drama', 'Fantasy', 'Mystery', 'Shounen', 'Conspiracy', 'Death of a Loved One', 'Military', 'Siblings', 'Based on a Manga']   \n",
       "3                                        ['Action', 'Adventure', 'Shounen', 'Demons', 'Historical', 'Martial Arts', 'Orphans', 'Siblings', 'Supernatural', 'Swordplay', 'Based on a Manga']   \n",
       "4                                                                   ['Action', 'Comedy', 'Drama', 'Shounen', 'Afterlife', 'Ghosts', 'Shinigami', 'Supernatural', 'War', 'Based on a Manga']   \n",
       "\n",
       "                                                                                   revised_genres  \\\n",
       "0                                   [Action, Drama, Fantasy, Shounen, Military, Based on a Manga]   \n",
       "1                       [Drama, Fantasy, Romance, Shoujo, Contemporary Fantasy, Based on a Manga]   \n",
       "2               [Action, Adventure, Drama, Fantasy, Mystery, Shounen, Military, Based on a Manga]   \n",
       "3  [Action, Adventure, Shounen, Demons, Historical, Martial Arts, Supernatural, Based on a Manga]   \n",
       "4                                [Action, Comedy, Drama, Shounen, Supernatural, Based on a Manga]   \n",
       "\n",
       "                                                                                                                                                             genre_cat_list  \n",
       "0  [1, 1, 1, 1, 1, 1, 0, 0, 0, 0, 0, 0, 0, 0, 0, 0, 0, 0, 0, 0, 0, 0, 0, 0, 0, 0, 0, 0, 0, 0, 0, 0, 0, 0, 0, 0, 0, 0, 0, 0, 0, 0, 0, 0, 0, 0, 0, 0, 0, 0, 0, 0, 0, 0, 0, 0]  \n",
       "1  [0, 1, 1, 0, 0, 1, 1, 1, 1, 0, 0, 0, 0, 0, 0, 0, 0, 0, 0, 0, 0, 0, 0, 0, 0, 0, 0, 0, 0, 0, 0, 0, 0, 0, 0, 0, 0, 0, 0, 0, 0, 0, 0, 0, 0, 0, 0, 0, 0, 0, 0, 0, 0, 0, 0, 0]  \n",
       "2  [1, 1, 1, 1, 1, 1, 0, 0, 0, 1, 1, 0, 0, 0, 0, 0, 0, 0, 0, 0, 0, 0, 0, 0, 0, 0, 0, 0, 0, 0, 0, 0, 0, 0, 0, 0, 0, 0, 0, 0, 0, 0, 0, 0, 0, 0, 0, 0, 0, 0, 0, 0, 0, 0, 0, 0]  \n",
       "3  [1, 0, 0, 1, 0, 1, 0, 0, 0, 1, 0, 1, 1, 1, 1, 0, 0, 0, 0, 0, 0, 0, 0, 0, 0, 0, 0, 0, 0, 0, 0, 0, 0, 0, 0, 0, 0, 0, 0, 0, 0, 0, 0, 0, 0, 0, 0, 0, 0, 0, 0, 0, 0, 0, 0, 0]  \n",
       "4  [1, 1, 0, 1, 0, 1, 0, 0, 0, 0, 0, 0, 0, 0, 1, 1, 0, 0, 0, 0, 0, 0, 0, 0, 0, 0, 0, 0, 0, 0, 0, 0, 0, 0, 0, 0, 0, 0, 0, 0, 0, 0, 0, 0, 0, 0, 0, 0, 0, 0, 0, 0, 0, 0, 0, 0]  "
      ]
     },
     "execution_count": 85,
     "metadata": {},
     "output_type": "execute_result"
    }
   ],
   "source": [
    "df['genre_cat_list'] = categorical_genre_list\n",
    "df.head()"
   ]
  },
  {
   "cell_type": "code",
   "execution_count": null,
   "metadata": {},
   "outputs": [],
   "source": []
  },
  {
   "cell_type": "code",
   "execution_count": 163,
   "metadata": {
    "execution": {
     "iopub.execute_input": "2023-08-22T12:10:10.222035Z",
     "iopub.status.busy": "2023-08-22T12:10:10.220274Z",
     "iopub.status.idle": "2023-08-22T12:10:10.244482Z",
     "shell.execute_reply": "2023-08-22T12:10:10.242095Z",
     "shell.execute_reply.started": "2023-08-22T12:10:10.221983Z"
    }
   },
   "outputs": [],
   "source": [
    "df=df.reset_index(drop=True)\n"
   ]
  },
  {
   "cell_type": "code",
   "execution_count": 164,
   "metadata": {
    "execution": {
     "iopub.execute_input": "2023-08-22T12:10:49.419042Z",
     "iopub.status.busy": "2023-08-22T12:10:49.418629Z",
     "iopub.status.idle": "2023-08-22T12:10:49.425745Z",
     "shell.execute_reply": "2023-08-22T12:10:49.424701Z",
     "shell.execute_reply.started": "2023-08-22T12:10:49.419007Z"
    }
   },
   "outputs": [
    {
     "data": {
      "text/plain": [
       "(21828, 5)"
      ]
     },
     "execution_count": 164,
     "metadata": {},
     "output_type": "execute_result"
    }
   ],
   "source": [
    "df.shape"
   ]
  },
  {
   "cell_type": "code",
   "execution_count": 165,
   "metadata": {
    "execution": {
     "iopub.execute_input": "2023-08-22T12:10:52.955805Z",
     "iopub.status.busy": "2023-08-22T12:10:52.955399Z",
     "iopub.status.idle": "2023-08-22T12:10:53.323909Z",
     "shell.execute_reply": "2023-08-22T12:10:53.322779Z",
     "shell.execute_reply.started": "2023-08-22T12:10:52.955771Z"
    }
   },
   "outputs": [
    {
     "name": "stdout",
     "output_type": "stream",
     "text": [
      "Number of Genres: 598\n",
      "{'Comedy': 9124, 'Shounen': 4955, 'School': 2534, 'Romance': 4306, 'Ecchi': 1804, 'Seinen': 2015, 'Slice of Life': 3231, 'Shoujo': 1166, 'Shounen Ai': 261, 'Action': 7858, 'Martial Arts': 581, 'Fantasy': 6071, 'Supernatural': 3060, 'Horror': 787, 'Samurai': 348, 'Thriller': 292, 'Vampire': 346, 'Ninja': 57, 'Drama': 4519, 'GL': 37, 'Shoujo-ai': 31, 'Catholic School': 6, 'LGBT Themes': 38, 'School Life': 897, 'Based on a Light Novel': 534, 'BL': 78, 'Shounen-ai': 60, 'Adult Couples': 52, 'Blackmail': 10, 'Childcare': 54, 'Editors': 5, 'Mature Romance': 47, 'Salaryman': 14, 'Single Parent': 14, 'Tsundere': 40, 'Yaoi Hand Syndrome': 7, 'Based on a Manga': 2420, 'Sci-Fi': 2923, 'Space': 384, 'Sports': 916, 'Hand to Hand Combat': 111, 'Wrestling': 15, 'Adventure': 4586, 'Magic': 1881, 'Mecha': 1609, 'Crude': 64, 'Demons': 602, 'Episodic': 172, 'Family Friendly': 666, 'Korean Animation': 116, 'Monsters': 235, 'Monster School': 10, 'No Dialogue': 123, 'Short Episodes': 747, 'Vampires': 85, 'Zombies': 34, 'CG Animation': 450, 'Mystery': 1324, 'Exorcists': 26, 'Journey to the West': 18, 'Animal Protagonists': 399, 'Bears': 37, 'Non-Human Protagonists': 881, 'Trains': 27, 'Sci Fi': 1188, 'Original Work': 1069, 'Psychological': 721, 'Kids': 183, 'Game': 342, 'Yuri': 17, 'Shoujo Ai': 120, 'Post-apocalyptic': 140, 'Religion': 20, 'Super Power': 787, 'Outer Space': 148, 'Josei': 151, 'Animeism': 30, 'Apprenticeship': 23, 'Historical': 1280, 'Rakugo': 7, 'Showbiz': 75, 'Melancholy': 73, 'Shorts': 481, 'Europe': 115, 'Italy': 8, 'Recap': 158, 'Age Gap': 23, 'Student-Teacher Relationship': 11, 'Basketball': 26, 'Coming of Age': 85, 'Robots': 175, 'Parody': 577, 'Harem': 1041, 'Borderline H': 16, 'Superpowers': 361, 'Military': 1018, 'Aliens': 231, 'Based on a Video Game': 295, 'Anthropomorphic': 312, 'Coworkers': 64, 'Work Life': 121, 'Based on a Mobile Game': 91, 'Scifi': 174, 'Power Suits': 39, 'Chinese Animation': 538, 'Daily Life': 11, 'Cooking': 54, 'Cats': 163, 'Stop Motion Animation': 70, 'Afterlife': 21, 'Driving': 34, 'Black and White': 77, 'Music': 574, 'Cyborgs': 54, 'Yaoi': 116, 'Boss-Employee Relationship': 7, 'Smut': 10, 'Cars': 69, 'Tanuki': 5, 'Police': 343, 'Time Loop': 7, 'Time Travel': 123, 'Based on a Novel': 228, 'Detectives': 99, 'Gangs': 65, 'Guns': 90, 'Mafia': 8, 'Orphans': 105, 'Promotional': 207, 'Witches': 39, 'Superheroes': 101, 'Vigilantes': 14, 'Bodyguards': 19, 'Contemporary Fantasy': 235, 'Countryside': 106, 'Iyashikei': 121, 'Japanese Mythology': 105, 'Youkai': 72, 'Angels': 36, 'Gods': 57, 'Dragons': 33, 'Birds': 32, 'Isekai': 200, 'Overpowered Main Characters': 144, 'Person in a Strange World': 256, 'Urban Fantasy': 128, 'Dub': 34, 'Animal Characteristics': 75, 'Gag': 169, 'Based on a 4-Koma Manga': 137, 'Swordplay': 179, 'Chibi': 148, 'Reincarnation': 113, 'Child Protagonists': 178, 'Family Life': 40, 'Hotels and Inns': 9, 'Lifestyle Change': 78, '19th Century': 61, 'France': 19, 'Abstract': 77, 'Bishounen': 20, 'Reverse Harem': 65, 'RPG': 90, 'Slapstick': 96, 'Childhood Friends': 33, 'Death of a Loved One': 41, 'Ghosts': 44, 'Pandemic': 21, 'Flash Animation': 44, 'Pets': 62, '17th Century': 3, 'Feudal Japan': 115, 'Based on an Eroge': 78, 'Based on a Visual Novel': 158, 'Tragedy': 72, 'Violence': 58, 'Gunfights': 34, 'Human Enhancement': 8, 'Underworld': 12, 'Boarding House': 33, 'Neighbors': 41, 'Romantic Comedy': 57, 'Medical': 29, 'Medieval': 87, 'Royalty': 82, 'Social Gap': 16, 'Magical Girl': 161, 'Baseball': 57, 'Dancing': 17, 'Restaurants': 25, 'Monster Girls': 10, 'Monster-of-the-week': 53, 'Demon King': 17, 'Hell': 9, 'Delinquents': 73, 'Rugby': 3, 'Teaching': 14, 'Political': 115, 'Space Opera': 35, 'War': 179, 'Middle Eastern': 15, 'All-Girls School': 40, 'Fetish': 11, 'Panty Shots': 92, 'Based on a Web Novel': 113, 'Bounty Hunters': 16, 'Leijiverse': 21, 'Space Pirates': 20, 'Butlers': 13, 'England': 38, 'Forest': 53, 'Jungle': 18, 'MMORPG': 26, 'Tournaments': 134, 'Virtual Reality': 46, 'Piloted Robots': 31, 'Tennis': 19, 'Angst': 19, 'Card Battles': 31, 'Based on a Card Game': 25, 'Special': 6, 'Commercials': 53, 'Frogs': 11, 'Assassins': 35, 'Kingdom Building': 10, 'Management': 10, 'Modern Knowledge': 17, 'Summoned Into Another World': 36, 'Psychic Powers': 58, 'Anime Tamago': 29, 'Revenge': 53, 'Siblings': 120, 'Boys Love': 17, 'Erotica': 17, 'Suspense': 27, 'Organized Crime': 21, 'Adult Cast': 21, 'Ancient China': 81, 'Arranged Marriage': 14, 'Dark Fantasy': 82, 'Western': 9, 'Elemental Powers': 65, 'Proxy Battles': 61, 'Cultivation': 68, 'Xianxia': 36, 'Aviation': 25, 'Age Transformation': 49, 'Terrorism': 22, 'Thieves': 57, 'Soccer': 29, 'Island': 94, 'Racing': 59, 'High School': 66, 'Roommates': 14, 'Ova': 22, 'Motorcycles': 20, 'Food Protagonists': 36, '15th Century': 8, 'Love Triangle': 72, 'Star-Crossed Lovers': 12, 'Real Robot': 77, 'Rivalries': 19, 'Conspiracy': 41, 'Crime': 14, 'Doctors': 20, 'Framed for a Crime': 4, 'Germany': 5, 'Noir': 43, 'Psychopaths': 8, 'Serial Killers': 16, 'Aging': 6, 'Based on a Doujinshi': 21, 'Idols': 112, 'Amusement Park': 10, 'Tourism': 15, 'Military School': 9, 'School Club': 184, 'Obsessive Love': 2, 'Slow Life': 7, 'Animal Transformation': 40, 'Ballet Dancing': 2, 'Boarding School': 29, 'Classical Music': 17, 'Guilds': 26, 'Rock Music': 17, 'Transforming Mecha': 34, 'Otaku Culture': 63, 'Dementia': 100, 'Mercenaries': 29, 'Elves': 11, 'Brother Complex': 9, 'Board Games': 11, 'Shogi': 3, 'All-Boys School': 12, 'Ocean': 54, 'Dungeon': 19, 'Weak to Strong': 20, 'Based on a Webtoon': 63, 'Yakuza': 23, 'Gag Humor': 33, 'Kaijuu': 11, 'Tokusatsu': 37, 'Based on a Movie': 13, 'Opposites Attract': 19, 'Alcohol': 6, 'Cocktails': 3, 'Food and Beverage': 79, 'Australia': 2, 'High Stakes Games': 47, 'Play or Die': 14, 'Survival': 40, 'Magic School': 40, 'Based on a Fairy Tale': 25, 'Pirates': 44, 'Christmas': 21, 'Sanrio Characters': 35, 'Social Media': 12, 'Mind Games': 20, 'Nobility': 30, 'Station Identifications': 9, 'Prison': 13, 'Maids': 29, 'Based on a Picture Book': 18, 'Post-Apocalyptic': 7, 'Special Squads': 20, 'Law and Order': 20, 'Cops': 16, 'Mahou Shoujo': 72, 'Navy': 4, 'Gender Bender': 18, 'Married Life': 16, 'Sudden Girlfriend Appearance': 23, 'Prophecy': 11, 'Marvel Comics': 4, 'Based on a Comic Book': 11, 'BDSM': 2, 'Gambling': 10, 'Isolated Society': 23, 'Outside World': 22, 'Biographies': 8, 'Disability': 18, 'Sherlock Holmes': 9, 'Japanese Anime Classic Collection': 17, 'Rabbits': 25, 'Amnesia': 33, 'Criminals': 42, 'Happy Science': 3, 'Androphobia': 5, 'Body Swapping': 14, 'Crossover': 30, 'Dogs': 48, 'Mansion': 18, 'Androids': 81, 'Cyberpunk': 45, 'Dystopia': 45, 'Breaking the Fourth Wall': 48, 'Mysterious Shop': 7, 'NEET': 21, 'Sentai': 22, 'Second Chance': 8, 'Unrequited Love': 13, 'Desert': 17, 'Cafe': 18, 'Super': 18, 'Music School': 14, 'Gourmet': 39, 'Canada': 4, 'Rebellions': 29, '16th Century': 7, 'World War 2': 26, 'Vocaloid': 15, 'Greek Mythology': 13, 'Volleyball': 19, 'Water Polo': 1, 'Remarriage': 4, 'Cycling': 16, 'Video Game Industry': 9, 'Art': 35, 'Boxing': 17, 'Insects': 44, 'Educational': 42, 'Norse Mythology': 10, 'Based on an Otome Game': 28, 'Treasure Hunters': 7, 'Environmental': 22, 'Unicorns': 2, 'Manga Industry': 17, 'Swimming': 14, 'Body Sharing': 13, 'Dinosaurs': 22, 'Sumo Wrestling': 5, 'Library': 10, 'Dream World': 10, 'Shinigami': 17, 'Curse': 42, 'Dysfunctional Families': 6, 'Zodiac': 8, 'Gore': 10, 'Romantic Subtext': 6, 'Mental Illness': 22, 'Human Experimentation': 30, 'Convenience Store': 5, 'Secret Identity': 25, 'Deal with the Devil': 7, 'Dark Comedy': 27, 'Go': 2, 'Apocalypse': 11, 'Collections': 15, 'Loneliness': 15, 'Apartment Life': 11, 'POV': 9, 'VTubers': 10, 'Banter': 5, 'Mountain Climbing': 4, 'Art School': 17, 'Acting': 19, 'noitaminA': 58, 'Cheats': 22, 'Anime no Chikara': 3, 'Poverty': 12, 'Astronauts': 12, 'Wuxia': 18, 'Visual Arts': 23, 'Golf': 3, 'Transfer Students': 30, 'Culinary School': 7, 'Photography': 12, 'Villainess': 8, \"Japan Animator's Exhibition\": 18, 'Satire': 40, 'Penguins': 13, 'Combat': 2, 'Ice Skating': 6, 'Movie': 13, 'Stalkers': 2, 'Based on a Cartoon': 10, 'Debt': 10, 'Battle Royale': 5, 'PVP': 15, 'Romance of the Three Kingdoms': 11, 'Minna no Uta': 13, 'Ship': 10, 'Cohabitation': 21, 'Fated Lovers': 5, 'Reverse Isekai': 12, 'Codependency': 5, 'Scfi': 9, 'Opening Animation': 27, 'Autobiographies': 2, 'World Masterpiece Theater': 16, 'Split Personality': 6, 'Crossdressing': 21, 'Newly Co-ed School': 18, 'Student Council': 21, 'Urban Legend': 6, 'Hamsters': 4, 'Pigs': 22, 'Childhood Promise': 8, 'Fake Romance': 6, 'Master-Servant Relationship': 35, 'Esports': 3, 'Natural Disaster': 8, 'Anime Industry': 8, 'Seals': 3, 'Werewolves': 11, 'Astronomy': 5, 'Tournament': 8, 'Combining Mecha': 29, 'Senpai-Kouhai Relationship': 14, 'Africa': 6, 'Egyptian Mythology': 4, 'Archery': 4, 'The Great Outdoors': 8, 'Prehistoric': 15, 'Anime Bancho': 3, '18th Century': 5, 'Based on a Song': 6, 'San-X Characters': 5, 'Science Fiction': 17, 'Demon': 17, 'Journalism': 5, 'Playboys': 3, 'Sentient Mecha': 13, 'Super Robot': 53, 'Hosts': 2, 'Genies': 4, 'Interspecies Relationship': 45, 'Scuba Diving': 2, 'Writers': 17, 'Juujin': 2, 'Love Polygon': 12, 'Disney': 5, 'Transported Into a Novel': 5, 'Trapped in a Video Game': 19, 'Fashion': 11, 'Earthquake': 5, 'Mars': 10, 'Illness': 11, 'Slimes': 10, 'Vietnam': 1, 'Steampunk': 15, 'Hacking': 18, 'Firefighters': 7, 'Based on a TV Series': 7, 'College': 17, 'Submarine': 6, 'Voice Acting': 5, 'Buddhism': 6, 'Christianity': 6, 'Greece': 4, 'Tutors': 10, 'Skeletons': 9, 'Fishing': 7, 'Alice in Wonderland': 6, 'Wolves': 13, 'Picture Drama': 11, 'America': 42, 'Kendo': 3, 'Bookstore': 3, 'Parallel Universe': 6, 'Russia': 2, 'Gymnastics': 7, 'Recipes': 3, 'Kickboxing': 2, 'Football': 2, 'Love Confession': 7, 'God-Human Relationship': 10, 'Espionage': 7, 'Novel Industry': 2, 'Bathhouse': 1, 'Anime no Me': 4, 'Adult Industry': 2, 'Baking': 4, 'Poland': 1, 'Sheep': 2, 'Running': 5, 'Track and Field': 3, 'Ghost Hunters': 7, 'Modelling': 4, 'Kidnapping': 11, 'Agriculture': 6, 'Stockholm Syndrome': 1, 'Mermaids': 13, 'Horse Racing': 3, 'Circus': 5, 'Sister Complex': 1, 'Nurses': 2, 'Based on a Play': 4, 'Economics': 10, 'PVE': 7, 'Mahjong': 6, 'Impersonation': 2, 'Zoo': 3, 'Switzerland': 1, 'Heaven': 4, \"Valentine's Day\": 4, 'Infidelity': 2, 'Eunuchs': 1, 'Inheritance': 4, 'Ghibli Museum Shorts': 6, 'Bar': 4, 'Doujinshi Industry': 8, 'Badminton': 2, 'Ping Pong': 2, 'Clubs': 3, 'Manga': 1, 'Boing': 1, 'India': 2, 'Lawyers': 2, 'Fudanshi': 3, 'Ninjas': 5, 'CEOs': 1, 'Gyaru': 3, 'Antarctica': 1, 'Cheerleaders': 1, 'Landlords': 1, 'Orphanage': 1, 'Dragon Quest': 3, 'High Fantasy': 1, 'Cartoon': 1, 'Judo': 3, 'Pandas': 3, 'French Revolution': 3, 'Gynophobia': 1, 'Transforming Robots': 1, 'Humanoid': 1, 'Middle School': 2, 'Skateboarding': 1, 'Based on a Religious Text': 3, 'Concubines': 1, 'Pregnancy': 1, 'Possessive Lovers': 1, 'Fujoshi': 3, 'Betrayal': 3, 'Dodgeball': 2, 'Dentists': 1, 'Ga-nime': 1, 'Anthropomorphism': 1}\n"
     ]
    },
    {
     "data": {
      "text/plain": [
       "543"
      ]
     },
     "execution_count": 165,
     "metadata": {},
     "output_type": "execute_result"
    }
   ],
   "source": [
    "genres_list = df.Genre.to_list()\n",
    "genre_count = {}\n",
    "for genres in genres_list:\n",
    "  genre_list = eval(genres)\n",
    "  for genre in genre_list:\n",
    "    if genre in genre_count.keys():\n",
    "      genre_count[genre] += 1\n",
    "    else:\n",
    "      genre_count[genre] = 1\n",
    "print(f\"Number of Genres: {len(genre_count)}\")\n",
    "print(genre_count)\n",
    "\n",
    "threshold = int(len(df) * 0.01)\n",
    "rare_genres = [key for key, value in genre_count.items() if value < threshold]\n",
    "len(rare_genres)"
   ]
  },
  {
   "cell_type": "code",
   "execution_count": 166,
   "metadata": {
    "execution": {
     "iopub.execute_input": "2023-08-22T12:10:57.656073Z",
     "iopub.status.busy": "2023-08-22T12:10:57.655346Z",
     "iopub.status.idle": "2023-08-22T12:10:58.681233Z",
     "shell.execute_reply": "2023-08-22T12:10:58.680217Z",
     "shell.execute_reply.started": "2023-08-22T12:10:57.656021Z"
    }
   },
   "outputs": [
    {
     "data": {
      "text/plain": [
       "(21828, 5)"
      ]
     },
     "execution_count": 166,
     "metadata": {},
     "output_type": "execute_result"
    }
   ],
   "source": [
    "genres_list = df.Genre.to_list()\n",
    "revised_genre_list = []\n",
    "indices_to_drop = []\n",
    "\n",
    "for idx, genres in enumerate(genres_list):\n",
    "  genre_list = eval(genres)\n",
    "  revised_genres = []\n",
    "\n",
    "  for genre in genre_list:\n",
    "    if genre not in rare_genres:\n",
    "      revised_genres.append(genre)\n",
    "\n",
    "  if len(revised_genres) == 0:\n",
    "    indices_to_drop.append(idx)\n",
    "  else:\n",
    "    revised_genre_list.append(revised_genres)\n",
    "\n",
    "df = df.drop(indices_to_drop).reset_index(drop=True)\n",
    "df['revised_genres'] = revised_genre_list\n",
    "df.shape"
   ]
  },
  {
   "cell_type": "code",
   "execution_count": 163,
   "metadata": {
    "execution": {
     "iopub.execute_input": "2023-08-21T15:40:48.670436Z",
     "iopub.status.busy": "2023-08-21T15:40:48.669293Z",
     "iopub.status.idle": "2023-08-21T15:40:48.717397Z",
     "shell.execute_reply": "2023-08-21T15:40:48.716279Z",
     "shell.execute_reply.started": "2023-08-21T15:40:48.670394Z"
    }
   },
   "outputs": [
    {
     "name": "stdout",
     "output_type": "stream",
     "text": [
      "Number of Genres: 56\n",
      "{'Action': 7885, 'Drama': 4540, 'Fantasy': 6089, 'Shounen': 4957, 'Military': 1018, 'Based on a Manga': 2431, 'Romance': 4322, 'Shoujo': 1166, 'Contemporary Fantasy': 235, 'Adventure': 4613, 'Mystery': 1325, 'Demons': 604, 'Historical': 1288, 'Martial Arts': 582, 'Supernatural': 3068, 'Comedy': 9207, 'Chinese Animation': 547, 'Horror': 789, 'Monsters': 237, 'School Life': 900, 'Sports': 929, 'Seinen': 2015, 'Original Work': 1080, 'Superpowers': 361, 'Slice of Life': 3255, 'Psychological': 735, 'Mecha': 1609, 'Sci Fi': 1206, 'Aliens': 231, 'Parody': 579, 'Samurai': 348, 'Magic': 1888, 'Person in a Strange World': 257, 'Non-Human Protagonists': 885, 'Music': 591, 'Thriller': 292, 'Family Friendly': 734, 'Based on a Novel': 232, 'Based on a Light Novel': 535, 'CG Animation': 475, 'Ecchi': 1806, 'Based on a Video Game': 300, 'Short Episodes': 752, 'Animal Protagonists': 400, 'Anthropomorphic': 312, 'Harem': 1041, 'Police': 343, 'Shorts': 652, 'Promotional': 313, 'Super Power': 787, 'Game': 342, 'School': 2538, 'Sci-Fi': 2923, 'Space': 384, 'Vampire': 346, 'Shounen Ai': 271}\n"
     ]
    }
   ],
   "source": [
    "revised_genres_list = df.revised_genres.to_list()\n",
    "revised_genre_count = {}\n",
    "for genres in revised_genres_list:\n",
    "  genre_list = genres\n",
    "  for genre in genre_list:\n",
    "    if genre in revised_genre_count.keys():\n",
    "      revised_genre_count[genre] += 1\n",
    "    else:\n",
    "      revised_genre_count[genre] = 1\n",
    "print(f\"Number of Genres: {len(revised_genre_count)}\")\n",
    "print(revised_genre_count)"
   ]
  },
  {
   "cell_type": "code",
   "execution_count": null,
   "metadata": {},
   "outputs": [],
   "source": []
  },
  {
   "cell_type": "code",
   "execution_count": null,
   "metadata": {},
   "outputs": [],
   "source": []
  },
  {
   "cell_type": "code",
   "execution_count": 341,
   "metadata": {
    "execution": {
     "iopub.execute_input": "2023-08-22T13:57:32.607120Z",
     "iopub.status.busy": "2023-08-22T13:57:32.606722Z",
     "iopub.status.idle": "2023-08-22T13:57:32.678796Z",
     "shell.execute_reply": "2023-08-22T13:57:32.677591Z",
     "shell.execute_reply.started": "2023-08-22T13:57:32.607084Z"
    }
   },
   "outputs": [
    {
     "data": {
      "text/plain": [
       "(21828, 5)"
      ]
     },
     "execution_count": 341,
     "metadata": {},
     "output_type": "execute_result"
    }
   ],
   "source": [
    "encode_genre_types = { key: idx for idx, (key, value) in enumerate(revised_genre_count.items())}\n",
    "with open(\"genre_types_encoded.json\", \"w\") as fp:\n",
    "  json.dump(encode_genre_types, fp)\n",
    "\n",
    "# We need this because for multilabel classification all genres have possibility to be present in the predictions\n",
    "categorical_genre_list = []\n",
    "revised_genres_list = df.revised_genres.to_list()\n",
    "\n",
    "for revised_genres in revised_genres_list:\n",
    "  categorical_list = [0] * len(encode_genre_types)\n",
    "  for genre in revised_genres:\n",
    "    genre_type_index = encode_genre_types[genre] \n",
    "    categorical_list[genre_type_index] = 1\n",
    "  categorical_genre_list.append(categorical_list)\n",
    "\n",
    "df['genre_cat_list'] = categorical_genre_list\n",
    "df.shape"
   ]
  },
  {
   "cell_type": "code",
   "execution_count": 342,
   "metadata": {
    "execution": {
     "iopub.execute_input": "2023-08-22T13:57:37.415288Z",
     "iopub.status.busy": "2023-08-22T13:57:37.414867Z",
     "iopub.status.idle": "2023-08-22T13:57:37.422228Z",
     "shell.execute_reply": "2023-08-22T13:57:37.421278Z",
     "shell.execute_reply.started": "2023-08-22T13:57:37.415222Z"
    }
   },
   "outputs": [
    {
     "data": {
      "text/plain": [
       "(56, ['Drama', 'Historical', 'Slice of Life', 'Seinen', 'Romance'])"
      ]
     },
     "execution_count": 342,
     "metadata": {},
     "output_type": "execute_result"
    }
   ],
   "source": [
    "labels = list(encode_genre_types.keys())\n",
    "len(labels), labels[:5]"
   ]
  },
  {
   "cell_type": "code",
   "execution_count": 343,
   "metadata": {
    "execution": {
     "iopub.execute_input": "2023-08-22T13:57:41.382409Z",
     "iopub.status.busy": "2023-08-22T13:57:41.381629Z",
     "iopub.status.idle": "2023-08-22T13:57:41.395940Z",
     "shell.execute_reply": "2023-08-22T13:57:41.394864Z",
     "shell.execute_reply.started": "2023-08-22T13:57:41.382368Z"
    }
   },
   "outputs": [
    {
     "data": {
      "text/plain": [
       "(19646, 2182)"
      ]
     },
     "execution_count": 343,
     "metadata": {},
     "output_type": "execute_result"
    }
   ],
   "source": [
    "splitter = RandomSplitter(valid_pct=0.1, seed=42)\n",
    "train_ids, valid_ids = splitter(df)\n",
    "len(train_ids), len(valid_ids)"
   ]
  },
  {
   "cell_type": "code",
   "execution_count": 344,
   "metadata": {
    "execution": {
     "iopub.execute_input": "2023-08-22T13:57:42.329730Z",
     "iopub.status.busy": "2023-08-22T13:57:42.329345Z",
     "iopub.status.idle": "2023-08-22T13:57:42.356975Z",
     "shell.execute_reply": "2023-08-22T13:57:42.355693Z",
     "shell.execute_reply.started": "2023-08-22T13:57:42.329698Z"
    }
   },
   "outputs": [
    {
     "data": {
      "text/html": [
       "<div>\n",
       "<style scoped>\n",
       "    .dataframe tbody tr th:only-of-type {\n",
       "        vertical-align: middle;\n",
       "    }\n",
       "\n",
       "    .dataframe tbody tr th {\n",
       "        vertical-align: top;\n",
       "    }\n",
       "\n",
       "    .dataframe thead th {\n",
       "        text-align: right;\n",
       "    }\n",
       "</style>\n",
       "<table border=\"1\" class=\"dataframe\">\n",
       "  <thead>\n",
       "    <tr style=\"text-align: right;\">\n",
       "      <th></th>\n",
       "      <th>Title</th>\n",
       "      <th>Description</th>\n",
       "      <th>Genre</th>\n",
       "      <th>revised_genres</th>\n",
       "      <th>genre_cat_list</th>\n",
       "    </tr>\n",
       "  </thead>\n",
       "  <tbody>\n",
       "    <tr>\n",
       "      <th>1254</th>\n",
       "      <td>E's Otherwise</td>\n",
       "      <td>Kai, who has powers different from the rest, together with his sickly sister Hikaru was protected by an organization called ASHURUM. Scouted by Eiji, Kai was delegated to the ASHURUM special force AESES and undergo intensive training. Whenever he was free, Kai visited Hikaru at the hospital belongs to the organization, but Hikaru's condition never improved. So, one year later, with amazing growth from the intensive training, Kai decides to escape from the organization.</td>\n",
       "      <td>['Action', 'Adventure', 'Fantasy', 'Supernatural', 'Shounen']</td>\n",
       "      <td>[Action, Adventure, Fantasy, Supernatural, Shounen]</td>\n",
       "      <td>[0, 0, 0, 0, 0, 0, 0, 0, 0, 0, 1, 0, 1, 1, 0, 0, 0, 0, 0, 0, 0, 0, 0, 0, 1, 0, 0, 0, 0, 0, 0, 0, 0, 0, 0, 0, 0, 0, 0, 0, 0, 0, 0, 0, 1, 0, 0, 0, 0, 0, 0, 0, 0, 0, 0, 0]</td>\n",
       "    </tr>\n",
       "    <tr>\n",
       "      <th>5742</th>\n",
       "      <td>Harmonie</td>\n",
       "      <td>Every person has his or her own little world. Among the 34 bustling students of classroom 2-1, there are many such worlds. Akio Honjō's world — my world — is filled with passionate talk about last night's anime with Yoshida, Watanabe, and other friends. It's a fun, comfortable place…. But, I always wonder. Wonder about the world of Juri Makina, smiling and surrounded by gorgeous friends on the other side of the classroom. One day, I enter her world. But it's not as simple as it sounds.</td>\n",
       "      <td>['Adventure', 'Drama', 'Sci Fi', 'Monsters', 'Short Episodes']</td>\n",
       "      <td>[Adventure, Drama, Sci Fi, Monsters, Short Episodes]</td>\n",
       "      <td>[1, 0, 0, 0, 0, 0, 0, 0, 0, 0, 0, 1, 1, 0, 0, 0, 0, 0, 0, 0, 0, 0, 0, 0, 0, 0, 0, 0, 0, 0, 0, 0, 0, 1, 0, 0, 0, 0, 0, 0, 0, 0, 0, 0, 0, 0, 1, 0, 0, 0, 0, 0, 0, 0, 0, 0]</td>\n",
       "    </tr>\n",
       "    <tr>\n",
       "      <th>13320</th>\n",
       "      <td>Iya na Kao sare nagara Opantsu Misete Moraitai</td>\n",
       "      <td>Short anime about underwear!</td>\n",
       "      <td>['Comedy', 'Slice of Life', 'Seinen']</td>\n",
       "      <td>[Comedy, Slice of Life, Seinen]</td>\n",
       "      <td>[0, 0, 1, 1, 0, 1, 0, 0, 0, 0, 0, 0, 0, 0, 0, 0, 0, 0, 0, 0, 0, 0, 0, 0, 0, 0, 0, 0, 0, 0, 0, 0, 0, 0, 0, 0, 0, 0, 0, 0, 0, 0, 0, 0, 0, 0, 0, 0, 0, 0, 0, 0, 0, 0, 0, 0]</td>\n",
       "    </tr>\n",
       "    <tr>\n",
       "      <th>7567</th>\n",
       "      <td>Zom 100: Bucket List of the Dead</td>\n",
       "      <td>Surviving a zombie apocalypse beats being a wage slave any day! After spending years slaving away for a soul-crushing company, Akira's life has lost its luster. He lives in a trash-filled apartment, his pay is abysmal, and he can't even muster up the nerve to confess his love to his beautiful co-worker. But when a zombie apocalypse ravages his town, it gives him the push he needs to live for himself. Now Akira's on a mission to complete all 100 items on his bucket list before he...well, kicks the bucket.</td>\n",
       "      <td>['Action', 'Comedy', 'Sci Fi', 'Hacking', 'Social Media', 'Virtual Reality', 'Original Work']</td>\n",
       "      <td>[Action, Comedy, Sci Fi, Original Work]</td>\n",
       "      <td>[0, 0, 0, 0, 0, 1, 0, 0, 0, 0, 1, 1, 0, 0, 0, 0, 0, 0, 0, 0, 0, 0, 1, 0, 0, 0, 0, 0, 0, 0, 0, 0, 0, 0, 0, 0, 0, 0, 0, 0, 0, 0, 0, 0, 0, 0, 0, 0, 0, 0, 0, 0, 0, 0, 0, 0]</td>\n",
       "    </tr>\n",
       "    <tr>\n",
       "      <th>11886</th>\n",
       "      <td>Zatch Bell Movie 1: 101st Devil</td>\n",
       "      <td>While the battle to determine the next king of the demon realm has often been fraught, the rules were always clear: 100 demon children partnered with 100 humans would challenge each other, using 100 magical books. What none of them knew was that there was a 101st magical book, powerful enough to stop any of the others. Gash and Kiyomaro must begin a journey that will take them into the demon realm to confront the mysteries of Gash's past. But will they escape in time to help their friends in a battle with a seemingly unstoppable enemy.</td>\n",
       "      <td>['Comedy', 'Ecchi', 'Seinen', 'Age Gap', 'Recap', 'Student-Teacher Relationship', 'Based on a Manga']</td>\n",
       "      <td>[Comedy, Ecchi, Seinen, Based on a Manga]</td>\n",
       "      <td>[0, 0, 0, 1, 0, 1, 0, 0, 0, 0, 0, 0, 0, 0, 0, 0, 1, 0, 0, 0, 0, 0, 0, 1, 0, 0, 0, 0, 0, 0, 0, 0, 0, 0, 0, 0, 0, 0, 0, 0, 0, 0, 0, 0, 0, 0, 0, 0, 0, 0, 0, 0, 0, 0, 0, 0]</td>\n",
       "    </tr>\n",
       "  </tbody>\n",
       "</table>\n",
       "</div>"
      ],
      "text/plain": [
       "                                                Title  \\\n",
       "1254                                    E's Otherwise   \n",
       "5742                                         Harmonie   \n",
       "13320  Iya na Kao sare nagara Opantsu Misete Moraitai   \n",
       "7567                 Zom 100: Bucket List of the Dead   \n",
       "11886                 Zatch Bell Movie 1: 101st Devil   \n",
       "\n",
       "                                                                                                                                                                                                                                                                                                                                                                                                                                                                                                                                                         Description  \\\n",
       "1254                                                                       Kai, who has powers different from the rest, together with his sickly sister Hikaru was protected by an organization called ASHURUM. Scouted by Eiji, Kai was delegated to the ASHURUM special force AESES and undergo intensive training. Whenever he was free, Kai visited Hikaru at the hospital belongs to the organization, but Hikaru's condition never improved. So, one year later, with amazing growth from the intensive training, Kai decides to escape from the organization.   \n",
       "5742                                                      Every person has his or her own little world. Among the 34 bustling students of classroom 2-1, there are many such worlds. Akio Honjō's world — my world — is filled with passionate talk about last night's anime with Yoshida, Watanabe, and other friends. It's a fun, comfortable place…. But, I always wonder. Wonder about the world of Juri Makina, smiling and surrounded by gorgeous friends on the other side of the classroom. One day, I enter her world. But it's not as simple as it sounds.   \n",
       "13320                                                                                                                                                                                                                                                                                                                                                                                                                                                                                                                                   Short anime about underwear!   \n",
       "7567                                   Surviving a zombie apocalypse beats being a wage slave any day! After spending years slaving away for a soul-crushing company, Akira's life has lost its luster. He lives in a trash-filled apartment, his pay is abysmal, and he can't even muster up the nerve to confess his love to his beautiful co-worker. But when a zombie apocalypse ravages his town, it gives him the push he needs to live for himself. Now Akira's on a mission to complete all 100 items on his bucket list before he...well, kicks the bucket.   \n",
       "11886  While the battle to determine the next king of the demon realm has often been fraught, the rules were always clear: 100 demon children partnered with 100 humans would challenge each other, using 100 magical books. What none of them knew was that there was a 101st magical book, powerful enough to stop any of the others. Gash and Kiyomaro must begin a journey that will take them into the demon realm to confront the mysteries of Gash's past. But will they escape in time to help their friends in a battle with a seemingly unstoppable enemy.   \n",
       "\n",
       "                                                                                                       Genre  \\\n",
       "1254                                           ['Action', 'Adventure', 'Fantasy', 'Supernatural', 'Shounen']   \n",
       "5742                                          ['Adventure', 'Drama', 'Sci Fi', 'Monsters', 'Short Episodes']   \n",
       "13320                                                                  ['Comedy', 'Slice of Life', 'Seinen']   \n",
       "7567           ['Action', 'Comedy', 'Sci Fi', 'Hacking', 'Social Media', 'Virtual Reality', 'Original Work']   \n",
       "11886  ['Comedy', 'Ecchi', 'Seinen', 'Age Gap', 'Recap', 'Student-Teacher Relationship', 'Based on a Manga']   \n",
       "\n",
       "                                             revised_genres  \\\n",
       "1254    [Action, Adventure, Fantasy, Supernatural, Shounen]   \n",
       "5742   [Adventure, Drama, Sci Fi, Monsters, Short Episodes]   \n",
       "13320                       [Comedy, Slice of Life, Seinen]   \n",
       "7567                [Action, Comedy, Sci Fi, Original Work]   \n",
       "11886             [Comedy, Ecchi, Seinen, Based on a Manga]   \n",
       "\n",
       "                                                                                                                                                                 genre_cat_list  \n",
       "1254   [0, 0, 0, 0, 0, 0, 0, 0, 0, 0, 1, 0, 1, 1, 0, 0, 0, 0, 0, 0, 0, 0, 0, 0, 1, 0, 0, 0, 0, 0, 0, 0, 0, 0, 0, 0, 0, 0, 0, 0, 0, 0, 0, 0, 1, 0, 0, 0, 0, 0, 0, 0, 0, 0, 0, 0]  \n",
       "5742   [1, 0, 0, 0, 0, 0, 0, 0, 0, 0, 0, 1, 1, 0, 0, 0, 0, 0, 0, 0, 0, 0, 0, 0, 0, 0, 0, 0, 0, 0, 0, 0, 0, 1, 0, 0, 0, 0, 0, 0, 0, 0, 0, 0, 0, 0, 1, 0, 0, 0, 0, 0, 0, 0, 0, 0]  \n",
       "13320  [0, 0, 1, 1, 0, 1, 0, 0, 0, 0, 0, 0, 0, 0, 0, 0, 0, 0, 0, 0, 0, 0, 0, 0, 0, 0, 0, 0, 0, 0, 0, 0, 0, 0, 0, 0, 0, 0, 0, 0, 0, 0, 0, 0, 0, 0, 0, 0, 0, 0, 0, 0, 0, 0, 0, 0]  \n",
       "7567   [0, 0, 0, 0, 0, 1, 0, 0, 0, 0, 1, 1, 0, 0, 0, 0, 0, 0, 0, 0, 0, 0, 1, 0, 0, 0, 0, 0, 0, 0, 0, 0, 0, 0, 0, 0, 0, 0, 0, 0, 0, 0, 0, 0, 0, 0, 0, 0, 0, 0, 0, 0, 0, 0, 0, 0]  \n",
       "11886  [0, 0, 0, 1, 0, 1, 0, 0, 0, 0, 0, 0, 0, 0, 0, 0, 1, 0, 0, 0, 0, 0, 0, 1, 0, 0, 0, 0, 0, 0, 0, 0, 0, 0, 0, 0, 0, 0, 0, 0, 0, 0, 0, 0, 0, 0, 0, 0, 0, 0, 0, 0, 0, 0, 0, 0]  "
      ]
     },
     "execution_count": 344,
     "metadata": {},
     "output_type": "execute_result"
    }
   ],
   "source": [
    "valid_df = df.loc[valid_ids]\n",
    "valid_df.head()"
   ]
  },
  {
   "cell_type": "markdown",
   "metadata": {},
   "source": [
    "# Fastai & Blurr Inference"
   ]
  },
  {
   "cell_type": "code",
   "execution_count": 171,
   "metadata": {
    "execution": {
     "iopub.execute_input": "2023-08-22T12:11:22.695402Z",
     "iopub.status.busy": "2023-08-22T12:11:22.694998Z",
     "iopub.status.idle": "2023-08-22T12:11:23.005711Z",
     "shell.execute_reply": "2023-08-22T12:11:23.004674Z",
     "shell.execute_reply.started": "2023-08-22T12:11:22.695367Z"
    }
   },
   "outputs": [],
   "source": [
    "model_path=\"models/cartoon-classifier-stage-1.pkl\"\n",
    "learner_inf=load_learner(model_path)"
   ]
  },
  {
   "cell_type": "code",
   "execution_count": 172,
   "metadata": {
    "execution": {
     "iopub.execute_input": "2023-08-22T12:11:26.529559Z",
     "iopub.status.busy": "2023-08-22T12:11:26.528211Z",
     "iopub.status.idle": "2023-08-22T12:11:26.590585Z",
     "shell.execute_reply": "2023-08-22T12:11:26.589443Z",
     "shell.execute_reply.started": "2023-08-22T12:11:26.529510Z"
    }
   },
   "outputs": [
    {
     "data": {
      "text/plain": [
       "[{'labels': [],\n",
       "  'scores': [],\n",
       "  'class_indices': [0,\n",
       "   0,\n",
       "   0,\n",
       "   0,\n",
       "   0,\n",
       "   0,\n",
       "   0,\n",
       "   0,\n",
       "   0,\n",
       "   0,\n",
       "   0,\n",
       "   0,\n",
       "   0,\n",
       "   0,\n",
       "   0,\n",
       "   0,\n",
       "   0,\n",
       "   0,\n",
       "   0,\n",
       "   0,\n",
       "   0,\n",
       "   0,\n",
       "   0,\n",
       "   0,\n",
       "   0,\n",
       "   0,\n",
       "   0,\n",
       "   0,\n",
       "   0,\n",
       "   0,\n",
       "   0,\n",
       "   0,\n",
       "   0,\n",
       "   0,\n",
       "   0,\n",
       "   0,\n",
       "   0,\n",
       "   0,\n",
       "   0,\n",
       "   0,\n",
       "   0,\n",
       "   0,\n",
       "   0,\n",
       "   0,\n",
       "   0,\n",
       "   0,\n",
       "   0,\n",
       "   0,\n",
       "   0,\n",
       "   0,\n",
       "   0,\n",
       "   0,\n",
       "   0,\n",
       "   0,\n",
       "   0,\n",
       "   0],\n",
       "  'class_labels': ['Comedy', 'Shounen', 'School', 'Romance', 'Ecchi', 'Seinen', 'Slice of Life', 'Shoujo', 'Shounen Ai', 'Action', 'Martial Arts', 'Fantasy', 'Supernatural', 'Horror', 'Samurai', 'Thriller', 'Vampire', 'Drama', 'School Life', 'Based on a Light Novel', 'Based on a Manga', 'Sci-Fi', 'Space', 'Sports', 'Adventure', 'Magic', 'Mecha', 'Demons', 'Family Friendly', 'Monsters', 'Short Episodes', 'CG Animation', 'Mystery', 'Animal Protagonists', 'Non-Human Protagonists', 'Sci Fi', 'Original Work', 'Psychological', 'Game', 'Super Power', 'Historical', 'Shorts', 'Parody', 'Harem', 'Superpowers', 'Military', 'Aliens', 'Based on a Video Game', 'Anthropomorphic', 'Chinese Animation', 'Music', 'Police', 'Based on a Novel', 'Promotional', 'Contemporary Fantasy', 'Person in a Strange World'],\n",
       "  'probs': [0.4210911691188812,\n",
       "   0.22709053754806519,\n",
       "   0.1193402037024498,\n",
       "   0.20092077553272247,\n",
       "   0.0848960429430008,\n",
       "   0.0903911218047142,\n",
       "   0.14883984625339508,\n",
       "   0.053294483572244644,\n",
       "   0.011597520671784878,\n",
       "   0.36673927307128906,\n",
       "   0.028309902176260948,\n",
       "   0.27979740500450134,\n",
       "   0.1400827318429947,\n",
       "   0.03642177954316139,\n",
       "   0.015706945210695267,\n",
       "   0.013587056659162045,\n",
       "   0.01549141202121973,\n",
       "   0.20394565165042877,\n",
       "   0.040635112673044205,\n",
       "   0.02295432984828949,\n",
       "   0.10679082572460175,\n",
       "   0.13266143202781677,\n",
       "   0.017377838492393494,\n",
       "   0.04342127963900566,\n",
       "   0.2136867344379425,\n",
       "   0.08827424049377441,\n",
       "   0.07334353774785995,\n",
       "   0.026786385104060173,\n",
       "   0.031168106943368912,\n",
       "   0.010469811968505383,\n",
       "   0.03396515175700188,\n",
       "   0.020308535546064377,\n",
       "   0.060439333319664,\n",
       "   0.01777399517595768,\n",
       "   0.040115829557180405,\n",
       "   0.05218500271439552,\n",
       "   0.04899783432483673,\n",
       "   0.03369307145476341,\n",
       "   0.015070744790136814,\n",
       "   0.03799853101372719,\n",
       "   0.05913012474775314,\n",
       "   0.02202693186700344,\n",
       "   0.02775353565812111,\n",
       "   0.048976533114910126,\n",
       "   0.015046501532196999,\n",
       "   0.04689199849963188,\n",
       "   0.010164177976548672,\n",
       "   0.013463689014315605,\n",
       "   0.013792945072054863,\n",
       "   0.023690689355134964,\n",
       "   0.026615289971232414,\n",
       "   0.015593423508107662,\n",
       "   0.010770043358206749,\n",
       "   0.009253300726413727,\n",
       "   0.01071073580533266,\n",
       "   0.011538837105035782]}]"
      ]
     },
     "execution_count": 172,
     "metadata": {},
     "output_type": "execute_result"
    }
   ],
   "source": [
    "learner_inf.blurr_predict(\"random placeholder\")"
   ]
  },
  {
   "cell_type": "code",
   "execution_count": 104,
   "metadata": {
    "execution": {
     "iopub.execute_input": "2023-08-21T13:30:51.072261Z",
     "iopub.status.busy": "2023-08-21T13:30:51.071719Z",
     "iopub.status.idle": "2023-08-21T13:30:51.085724Z",
     "shell.execute_reply": "2023-08-21T13:30:51.084583Z",
     "shell.execute_reply.started": "2023-08-21T13:30:51.072221Z"
    }
   },
   "outputs": [],
   "source": [
    "from sklearn import metrics\n",
    "\n",
    "def metric_measures(test_df, preds):\n",
    "\n",
    "  targets = [np.asarray(target) for target in test_df['genre_cat_list'].to_list()]\n",
    "  outputs = [np.asarray(pred) for pred in preds]\n",
    "\n",
    "\n",
    "  accuracy = metrics.accuracy_score(targets, outputs)\n",
    "  f1_score_micro = metrics.f1_score(targets, outputs, average='micro')\n",
    "  f1_score_macro = metrics.f1_score(targets, outputs, average='macro')\n",
    "\n",
    "  print(f\"F1 Score (Micro) = {f1_score_micro}\")\n",
    "  print(f\"F1 Score (Macro) = {f1_score_macro}\")\n",
    "\n",
    "  return"
   ]
  },
  {
   "cell_type": "code",
   "execution_count": 106,
   "metadata": {
    "execution": {
     "iopub.execute_input": "2023-08-21T13:31:12.802162Z",
     "iopub.status.busy": "2023-08-21T13:31:12.801636Z",
     "iopub.status.idle": "2023-08-21T13:38:50.937880Z",
     "shell.execute_reply": "2023-08-21T13:38:50.936677Z",
     "shell.execute_reply.started": "2023-08-21T13:31:12.802121Z"
    }
   },
   "outputs": [
    {
     "data": {
      "application/vnd.jupyter.widget-view+json": {
       "model_id": "7a76cad41e0a4cd2b9338d99de8b2563",
       "version_major": 2,
       "version_minor": 0
      },
      "text/plain": [
       "  0%|          | 0/2258 [00:00<?, ?it/s]"
      ]
     },
     "metadata": {},
     "output_type": "display_data"
    },
    {
     "data": {
      "text/plain": [
       "[0, 0, 1, 0, 0, 0, 1, 0, 0, 0, 0, 0, 0, 0, 0, 0, 0, 0, 0, 0]"
      ]
     },
     "execution_count": 106,
     "metadata": {},
     "output_type": "execute_result"
    }
   ],
   "source": [
    "preds = []\n",
    "for idx, row in tqdm(valid_df.iterrows(), total=len(valid_df)):\n",
    "  desc = row['Description']\n",
    "  labels = learner_inf.blurr_predict(desc)[0]['labels']\n",
    "  pred_genres = [0] * len(encode_genre_types)\n",
    "  for label in labels:metric_measures(valid_df, preds)\n",
    "    pred_genres[encode_genre_types[label]] = 1\n",
    "  preds.append(pred_genres)\n",
    "\n",
    "preds[0][:20]"
   ]
  },
  {
   "cell_type": "code",
   "execution_count": 107,
   "metadata": {
    "execution": {
     "iopub.execute_input": "2023-08-21T13:38:50.944400Z",
     "iopub.status.busy": "2023-08-21T13:38:50.939932Z",
     "iopub.status.idle": "2023-08-21T13:38:51.117025Z",
     "shell.execute_reply": "2023-08-21T13:38:51.115954Z",
     "shell.execute_reply.started": "2023-08-21T13:38:50.944362Z"
    }
   },
   "outputs": [
    {
     "name": "stdout",
     "output_type": "stream",
     "text": [
      "F1 Score (Micro) = 0.17534811758638474\n",
      "F1 Score (Macro) = 0.017750645321062818\n"
     ]
    }
   ],
   "source": [
    "metric_measures(valid_df, preds)"
   ]
  },
  {
   "cell_type": "markdown",
   "metadata": {},
   "source": [
    "# Convert to ONNX"
   ]
  },
  {
   "cell_type": "code",
   "execution_count": 108,
   "metadata": {
    "execution": {
     "iopub.execute_input": "2023-08-21T13:44:33.821222Z",
     "iopub.status.busy": "2023-08-21T13:44:33.820664Z",
     "iopub.status.idle": "2023-08-21T13:44:34.346676Z",
     "shell.execute_reply": "2023-08-21T13:44:34.345569Z",
     "shell.execute_reply.started": "2023-08-21T13:44:33.821181Z"
    }
   },
   "outputs": [],
   "source": [
    "model_path = \"models/cartoon-classifier-stage-1.pkl\"\n",
    "learner_inf = load_learner(model_path)"
   ]
  },
  {
   "cell_type": "code",
   "execution_count": 114,
   "metadata": {
    "execution": {
     "iopub.execute_input": "2023-08-21T13:49:30.374466Z",
     "iopub.status.busy": "2023-08-21T13:49:30.373990Z",
     "iopub.status.idle": "2023-08-21T13:49:38.031425Z",
     "shell.execute_reply": "2023-08-21T13:49:38.030283Z",
     "shell.execute_reply.started": "2023-08-21T13:49:30.374418Z"
    }
   },
   "outputs": [
    {
     "name": "stdout",
     "output_type": "stream",
     "text": [
      "================ Diagnostic Run torch.onnx.export version 2.0.0 ================\n",
      "verbose: False, log level: Level.ERROR\n",
      "======================= 0 NONE 0 NOTE 0 WARNING 0 ERROR ========================\n",
      "\n"
     ]
    }
   ],
   "source": [
    "classifier = learner_inf.model.hf_model.eval()\n",
    "\n",
    "torch.onnx.export(\n",
    "    classifier, \n",
    "    torch.LongTensor([[0] * 512]),\n",
    "    'models/cartoon-classifier.onnx',\n",
    "    input_names=['input_ids'],\n",
    "    output_names=['output'],\n",
    "    opset_version=13,\n",
    "    dynamic_axes={\n",
    "        'input_ids': {0: 'batch_size', 1: 'sequence_len'},\n",
    "        'output': {0: 'batch_size'}\n",
    "    }\n",
    ")"
   ]
  },
  {
   "cell_type": "code",
   "execution_count": 120,
   "metadata": {
    "execution": {
     "iopub.execute_input": "2023-08-21T13:57:48.871520Z",
     "iopub.status.busy": "2023-08-21T13:57:48.870765Z",
     "iopub.status.idle": "2023-08-21T13:57:49.041485Z",
     "shell.execute_reply": "2023-08-21T13:57:49.040426Z",
     "shell.execute_reply.started": "2023-08-21T13:57:48.871478Z"
    }
   },
   "outputs": [
    {
     "name": "stdout",
     "output_type": "stream",
     "text": [
      "F1 Score (Micro) = 0.17534811758638474\n",
      "F1 Score (Macro) = 0.017750645321062818\n"
     ]
    }
   ],
   "source": [
    "metric_measures(valid_df, preds) "
   ]
  },
  {
   "cell_type": "code",
   "execution_count": 119,
   "metadata": {
    "execution": {
     "iopub.execute_input": "2023-08-21T13:51:37.037085Z",
     "iopub.status.busy": "2023-08-21T13:51:37.036515Z",
     "iopub.status.idle": "2023-08-21T13:57:48.865268Z",
     "shell.execute_reply": "2023-08-21T13:57:48.864198Z",
     "shell.execute_reply.started": "2023-08-21T13:51:37.037036Z"
    }
   },
   "outputs": [
    {
     "data": {
      "application/vnd.jupyter.widget-view+json": {
       "model_id": "289f9f63ce5b4851be0f804e7d789a7c",
       "version_major": 2,
       "version_minor": 0
      },
      "text/plain": [
       "  0%|          | 0/2258 [00:00<?, ?it/s]"
      ]
     },
     "metadata": {},
     "output_type": "display_data"
    }
   ],
   "source": [
    "preds = []\n",
    "for idx, row in tqdm(valid_df.iterrows(), total=valid_df.shape[0]):\n",
    "  desc = row['Description']\n",
    "  input_ids = tokenizer(desc)['input_ids'][:512]\n",
    "\n",
    "  probs = inf_session.run([output_name], {input_name: [input_ids]})[0]\n",
    "  probs = torch.FloatTensor(probs)\n",
    "\n",
    "  masks = torch.sigmoid(probs) >= 0.5\n",
    "  labels = [class_labels[idx] for idx, mask in enumerate(masks[0]) if mask]\n",
    "\n",
    "  pred_genres = [0] * len(encode_genre_types)\n",
    "  for label in labels:\n",
    "    pred_genres[encode_genre_types[label]] = 1\n",
    "  preds.append(pred_genres)"
   ]
  },
  {
   "cell_type": "code",
   "execution_count": 118,
   "metadata": {
    "execution": {
     "iopub.execute_input": "2023-08-21T13:51:20.752112Z",
     "iopub.status.busy": "2023-08-21T13:51:20.751157Z",
     "iopub.status.idle": "2023-08-21T13:51:22.260958Z",
     "shell.execute_reply": "2023-08-21T13:51:22.259762Z",
     "shell.execute_reply.started": "2023-08-21T13:51:20.752071Z"
    }
   },
   "outputs": [],
   "source": [
    "import onnxruntime as rt\n",
    "from transformers import AutoTokenizer\n",
    "import torch\n",
    "\n",
    "tokenizer = AutoTokenizer.from_pretrained(\"distilroberta-base\")\n",
    "\n",
    "class_labels = list(encode_genre_types.keys())\n",
    "\n",
    "inf_session = rt.InferenceSession('models/cartoon-classifier.onnx')\n",
    "input_name = inf_session.get_inputs()[0].name\n",
    "output_name = inf_session.get_outputs()[0].name"
   ]
  },
  {
   "cell_type": "code",
   "execution_count": 116,
   "metadata": {
    "execution": {
     "iopub.execute_input": "2023-08-21T13:51:00.517440Z",
     "iopub.status.busy": "2023-08-21T13:51:00.516820Z",
     "iopub.status.idle": "2023-08-21T13:51:00.522584Z",
     "shell.execute_reply": "2023-08-21T13:51:00.521007Z",
     "shell.execute_reply.started": "2023-08-21T13:51:00.517396Z"
    }
   },
   "outputs": [],
   "source": [
    "## Normal ONNX"
   ]
  },
  {
   "cell_type": "markdown",
   "metadata": {},
   "source": [
    "# ONNX Inference"
   ]
  },
  {
   "cell_type": "code",
   "execution_count": 115,
   "metadata": {
    "execution": {
     "iopub.execute_input": "2023-08-21T13:49:38.035594Z",
     "iopub.status.busy": "2023-08-21T13:49:38.034847Z",
     "iopub.status.idle": "2023-08-21T13:50:15.523271Z",
     "shell.execute_reply": "2023-08-21T13:50:15.522108Z",
     "shell.execute_reply.started": "2023-08-21T13:49:38.035557Z"
    }
   },
   "outputs": [
    {
     "name": "stdout",
     "output_type": "stream",
     "text": [
      "Ignore MatMul due to non constant B: /[/roberta/encoder/layer.0/attention/self/MatMul]\n",
      "Ignore MatMul due to non constant B: /[/roberta/encoder/layer.0/attention/self/MatMul_1]\n",
      "Ignore MatMul due to non constant B: /[/roberta/encoder/layer.1/attention/self/MatMul]\n",
      "Ignore MatMul due to non constant B: /[/roberta/encoder/layer.1/attention/self/MatMul_1]\n",
      "Ignore MatMul due to non constant B: /[/roberta/encoder/layer.2/attention/self/MatMul]\n",
      "Ignore MatMul due to non constant B: /[/roberta/encoder/layer.2/attention/self/MatMul_1]\n",
      "Ignore MatMul due to non constant B: /[/roberta/encoder/layer.3/attention/self/MatMul]\n",
      "Ignore MatMul due to non constant B: /[/roberta/encoder/layer.3/attention/self/MatMul_1]\n",
      "Ignore MatMul due to non constant B: /[/roberta/encoder/layer.4/attention/self/MatMul]\n",
      "Ignore MatMul due to non constant B: /[/roberta/encoder/layer.4/attention/self/MatMul_1]\n",
      "Ignore MatMul due to non constant B: /[/roberta/encoder/layer.5/attention/self/MatMul]\n",
      "Ignore MatMul due to non constant B: /[/roberta/encoder/layer.5/attention/self/MatMul_1]\n"
     ]
    }
   ],
   "source": [
    "from onnxruntime.quantization import quantize_dynamic, QuantType\n",
    "\n",
    "onnx_model_path = 'models/cartoon-classifier.onnx'\n",
    "quantized_onnx_model_path = 'models/cartoon-classifier-quantized.onnx'\n",
    "\n",
    "quantize_dynamic(\n",
    "    onnx_model_path,\n",
    "    quantized_onnx_model_path,\n",
    "    weight_type=QuantType.QUInt8,\n",
    ")"
   ]
  },
  {
   "cell_type": "code",
   "execution_count": 112,
   "metadata": {
    "execution": {
     "iopub.execute_input": "2023-08-21T13:48:35.330982Z",
     "iopub.status.busy": "2023-08-21T13:48:35.330455Z",
     "iopub.status.idle": "2023-08-21T13:48:54.450061Z",
     "shell.execute_reply": "2023-08-21T13:48:54.448824Z",
     "shell.execute_reply.started": "2023-08-21T13:48:35.330930Z"
    }
   },
   "outputs": [
    {
     "name": "stdout",
     "output_type": "stream",
     "text": [
      "huggingface/tokenizers: The current process just got forked, after parallelism has already been used. Disabling parallelism to avoid deadlocks...\n",
      "To disable this warning, you can either:\n",
      "\t- Avoid using `tokenizers` before the fork if possible\n",
      "\t- Explicitly set the environment variable TOKENIZERS_PARALLELISM=(true | false)\n",
      "Collecting onnxruntime\n",
      "  Downloading onnxruntime-1.15.1-cp310-cp310-manylinux_2_17_x86_64.manylinux2014_x86_64.whl (5.9 MB)\n",
      "\u001b[2K     \u001b[90m━━━━━━━━━━━━━━━━━━━━━━━━━━━━━━━━━━━━━━━━\u001b[0m \u001b[32m5.9/5.9 MB\u001b[0m \u001b[31m28.8 MB/s\u001b[0m eta \u001b[36m0:00:00\u001b[0m00:01\u001b[0m00:01\u001b[0m\n",
      "\u001b[?25hCollecting coloredlogs (from onnxruntime)\n",
      "  Downloading coloredlogs-15.0.1-py2.py3-none-any.whl (46 kB)\n",
      "\u001b[2K     \u001b[90m━━━━━━━━━━━━━━━━━━━━━━━━━━━━━━━━━━━━━━━━\u001b[0m \u001b[32m46.0/46.0 kB\u001b[0m \u001b[31m3.8 MB/s\u001b[0m eta \u001b[36m0:00:00\u001b[0m\n",
      "\u001b[?25hRequirement already satisfied: flatbuffers in /opt/conda/lib/python3.10/site-packages (from onnxruntime) (23.5.26)\n",
      "Requirement already satisfied: numpy>=1.21.6 in /opt/conda/lib/python3.10/site-packages (from onnxruntime) (1.23.5)\n",
      "Requirement already satisfied: packaging in /opt/conda/lib/python3.10/site-packages (from onnxruntime) (21.3)\n",
      "Requirement already satisfied: protobuf in /opt/conda/lib/python3.10/site-packages (from onnxruntime) (3.20.3)\n",
      "Requirement already satisfied: sympy in /opt/conda/lib/python3.10/site-packages (from onnxruntime) (1.12)\n",
      "Collecting humanfriendly>=9.1 (from coloredlogs->onnxruntime)\n",
      "  Downloading humanfriendly-10.0-py2.py3-none-any.whl (86 kB)\n",
      "\u001b[2K     \u001b[90m━━━━━━━━━━━━━━━━━━━━━━━━━━━━━━━━━━━━━━━━\u001b[0m \u001b[32m86.8/86.8 kB\u001b[0m \u001b[31m8.1 MB/s\u001b[0m eta \u001b[36m0:00:00\u001b[0m\n",
      "\u001b[?25hRequirement already satisfied: pyparsing!=3.0.5,>=2.0.2 in /opt/conda/lib/python3.10/site-packages (from packaging->onnxruntime) (3.0.9)\n",
      "Requirement already satisfied: mpmath>=0.19 in /opt/conda/lib/python3.10/site-packages (from sympy->onnxruntime) (1.3.0)\n",
      "Installing collected packages: humanfriendly, coloredlogs, onnxruntime\n",
      "Successfully installed coloredlogs-15.0.1 humanfriendly-10.0 onnxruntime-1.15.1\n",
      "Note: you may need to restart the kernel to use updated packages.\n"
     ]
    }
   ],
   "source": [
    "pip install onnxruntime\n"
   ]
  },
  {
   "cell_type": "code",
   "execution_count": 122,
   "metadata": {
    "execution": {
     "iopub.execute_input": "2023-08-21T13:59:41.274045Z",
     "iopub.status.busy": "2023-08-21T13:59:41.273506Z",
     "iopub.status.idle": "2023-08-21T13:59:42.230332Z",
     "shell.execute_reply": "2023-08-21T13:59:42.229050Z",
     "shell.execute_reply.started": "2023-08-21T13:59:41.274000Z"
    }
   },
   "outputs": [],
   "source": [
    "import onnxruntime as rt\n",
    "from transformers import AutoTokenizer\n",
    "import torch\n",
    "\n",
    "tokenizer = AutoTokenizer.from_pretrained(\"distilroberta-base\")\n",
    "\n",
    "class_labels = list(encode_genre_types.keys())\n",
    "\n",
    "inf_session = rt.InferenceSession('models/cartoon-classifier-quantized.onnx')\n",
    "input_name = inf_session.get_inputs()[0].name\n",
    "output_name = inf_session.get_outputs()[0].name"
   ]
  },
  {
   "cell_type": "code",
   "execution_count": 125,
   "metadata": {
    "execution": {
     "iopub.execute_input": "2023-08-21T14:05:24.627211Z",
     "iopub.status.busy": "2023-08-21T14:05:24.624684Z",
     "iopub.status.idle": "2023-08-21T14:05:24.797082Z",
     "shell.execute_reply": "2023-08-21T14:05:24.795967Z",
     "shell.execute_reply.started": "2023-08-21T14:05:24.627172Z"
    }
   },
   "outputs": [
    {
     "name": "stdout",
     "output_type": "stream",
     "text": [
      "F1 Score (Micro) = 0.17534811758638474\n",
      "F1 Score (Macro) = 0.017750645321062818\n"
     ]
    }
   ],
   "source": [
    "metric_measures(valid_df, preds) "
   ]
  }
 ],
 "metadata": {
  "kernelspec": {
   "display_name": "Python 3 (ipykernel)",
   "language": "python",
   "name": "python3"
  },
  "language_info": {
   "codemirror_mode": {
    "name": "ipython",
    "version": 3
   },
   "file_extension": ".py",
   "mimetype": "text/x-python",
   "name": "python",
   "nbconvert_exporter": "python",
   "pygments_lexer": "ipython3",
   "version": "3.9.7"
  }
 },
 "nbformat": 4,
 "nbformat_minor": 4
}
